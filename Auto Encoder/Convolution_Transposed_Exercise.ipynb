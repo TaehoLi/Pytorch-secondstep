{
 "cells": [
  {
   "cell_type": "markdown",
   "metadata": {
    "colab_type": "text",
    "id": "0eOfbFW9RsOu"
   },
   "source": [
    "# Convolution Transposed Exercise\n",
    "\n",
    "- torch.nn.ConvTranspose2d(in_channels, out_channels, kernel_size, stride=1, padding=0, output_padding=0, groups=1, bias=True, dilation=1)\n",
    "- 다양한 세팅에서 전치 컨볼루션 연산이 어떻게 동작하는지 확인해보는 노트북입니다.\n",
    "\n",
    "## 1. Import Required Libraries"
   ]
  },
  {
   "cell_type": "code",
   "execution_count": 1,
   "metadata": {
    "colab": {
     "base_uri": "https://localhost:8080/",
     "height": 34
    },
    "colab_type": "code",
    "executionInfo": {
     "elapsed": 4555,
     "status": "ok",
     "timestamp": 1559565427912,
     "user": {
      "displayName": "Choi Gunho",
      "photoUrl": "",
      "userId": "04388737836176863066"
     },
     "user_tz": -540
    },
    "id": "JxzkZDOHRsOw",
    "outputId": "ef43a61b-962b-4b1c-a02a-8356fcac8af5"
   },
   "outputs": [
    {
     "name": "stdout",
     "output_type": "stream",
     "text": [
      "1.1.0\n"
     ]
    }
   ],
   "source": [
    "import torch\n",
    "import torch.nn as nn\n",
    "import torch.nn.init as init\n",
    "import matplotlib.pyplot as plt\n",
    "\n",
    "print(torch.__version__)"
   ]
  },
  {
   "cell_type": "markdown",
   "metadata": {
    "colab_type": "text",
    "id": "3iSPNyTlRsO1"
   },
   "source": [
    "## 2. Input Data"
   ]
  },
  {
   "cell_type": "code",
   "execution_count": 2,
   "metadata": {
    "colab": {
     "base_uri": "https://localhost:8080/",
     "height": 337
    },
    "colab_type": "code",
    "executionInfo": {
     "elapsed": 4794,
     "status": "ok",
     "timestamp": 1559565428168,
     "user": {
      "displayName": "Choi Gunho",
      "photoUrl": "",
      "userId": "04388737836176863066"
     },
     "user_tz": -540
    },
    "id": "3JyDVfcTRsO2",
    "outputId": "7fc0b1af-1df5-4083-9f5c-66860765d410"
   },
   "outputs": [
    {
     "name": "stdout",
     "output_type": "stream",
     "text": [
      "tensor([[[[1., 1., 1.],\n",
      "          [1., 1., 1.],\n",
      "          [1., 1., 1.]]]])\n"
     ]
    },
    {
     "data": {
      "text/plain": [
       "<matplotlib.image.AxesImage at 0x21303080a58>"
      ]
     },
     "execution_count": 2,
     "metadata": {},
     "output_type": "execute_result"
    },
    {
     "data": {
      "image/png": "[encoded data removed]",
      "text/plain": [
       "<Figure size 432x288 with 1 Axes>"
      ]
     },
     "metadata": {
      "needs_background": "light"
     },
     "output_type": "display_data"
    }
   ],
   "source": [
    "# 입력으로 1로 채워진 텐서를 생성합니다.\n",
    "img = torch.ones(1,1,3,3)\n",
    "print(img)\n",
    "\n",
    "plt.imshow(img.numpy()[0,0,...],vmin=0)"
   ]
  },
  {
   "cell_type": "markdown",
   "metadata": {
    "colab_type": "text",
    "id": "2ge2r_X4RsO9"
   },
   "source": [
    "## 3. Set All Weights to One"
   ]
  },
  {
   "cell_type": "code",
   "execution_count": 3,
   "metadata": {
    "colab": {
     "base_uri": "https://localhost:8080/",
     "height": 68
    },
    "colab_type": "code",
    "executionInfo": {
     "elapsed": 4778,
     "status": "ok",
     "timestamp": 1559565428170,
     "user": {
      "displayName": "Choi Gunho",
      "photoUrl": "",
      "userId": "04388737836176863066"
     },
     "user_tz": -540
    },
    "id": "sg8-o1RfRsO9",
    "outputId": "0c13730b-1565-474e-8253-4a8c0ee2fe68"
   },
   "outputs": [
    {
     "data": {
      "text/plain": [
       "tensor([[[[1., 1., 1.],\n",
       "          [1., 1., 1.],\n",
       "          [1., 1., 1.]]]])"
      ]
     },
     "execution_count": 3,
     "metadata": {},
     "output_type": "execute_result"
    }
   ],
   "source": [
    "transpose = nn.ConvTranspose2d(in_channels=1, out_channels=1, kernel_size=3, stride=1, padding=0, output_padding=0, bias=False)\n",
    "#print(transpose.weight.data)\n",
    "\n",
    "# 결과를 확인하기 쉽게 전치 컨볼루션 연산의 가중치를 1로 초기화합니다.\n",
    "init.constant_(transpose.weight.data,1)"
   ]
  },
  {
   "cell_type": "markdown",
   "metadata": {
    "colab_type": "text",
    "id": "8ZOTc8R6RsPA"
   },
   "source": [
    "## Kernel Size=3, stride=1, padding=0, output_padding=0"
   ]
  },
  {
   "cell_type": "code",
   "execution_count": 4,
   "metadata": {
    "colab": {
     "base_uri": "https://localhost:8080/",
     "height": 354
    },
    "colab_type": "code",
    "executionInfo": {
     "elapsed": 5370,
     "status": "ok",
     "timestamp": 1559565428774,
     "user": {
      "displayName": "Choi Gunho",
      "photoUrl": "",
      "userId": "04388737836176863066"
     },
     "user_tz": -540
    },
    "id": "zFma1zb8RsPC",
    "outputId": "f5c78067-57a9-4d08-a923-71b4df817a38"
   },
   "outputs": [
    {
     "name": "stdout",
     "output_type": "stream",
     "text": [
      "tensor([[[[1., 2., 3., 2., 1.],\n",
      "          [2., 4., 6., 4., 2.],\n",
      "          [3., 6., 9., 6., 3.],\n",
      "          [2., 4., 6., 4., 2.],\n",
      "          [1., 2., 3., 2., 1.]]]], grad_fn=<ThnnConvTranspose2DBackward>) torch.Size([1, 1, 5, 5])\n"
     ]
    },
    {
     "data": {
      "image/png": "[encoded data removed]",
      "text/plain": [
       "<Figure size 432x288 with 1 Axes>"
      ]
     },
     "metadata": {
      "needs_background": "light"
     },
     "output_type": "display_data"
    }
   ],
   "source": [
    "out = transpose(img)\n",
    "print(out,out.size())\n",
    "\n",
    "plt.imshow(out.detach().numpy()[0,0,...],vmin=0)\n",
    "plt.show()"
   ]
  },
  {
   "cell_type": "markdown",
   "metadata": {
    "colab_type": "text",
    "id": "Yq_kau-ORsPE"
   },
   "source": [
    "## Kernel Size=3, stride=2, padding=0, output_padding=0"
   ]
  },
  {
   "cell_type": "code",
   "execution_count": 5,
   "metadata": {
    "colab": {
     "base_uri": "https://localhost:8080/",
     "height": 422
    },
    "colab_type": "code",
    "executionInfo": {
     "elapsed": 5364,
     "status": "ok",
     "timestamp": 1559565428775,
     "user": {
      "displayName": "Choi Gunho",
      "photoUrl": "",
      "userId": "04388737836176863066"
     },
     "user_tz": -540
    },
    "id": "SaSgaBXgRsPF",
    "outputId": "2e3d648c-c85d-4fd2-bf48-c1cc0e28309b"
   },
   "outputs": [
    {
     "name": "stdout",
     "output_type": "stream",
     "text": [
      "tensor([[[[1., 1., 2., 1., 2., 1., 1.],\n",
      "          [1., 1., 2., 1., 2., 1., 1.],\n",
      "          [2., 2., 4., 2., 4., 2., 2.],\n",
      "          [1., 1., 2., 1., 2., 1., 1.],\n",
      "          [2., 2., 4., 2., 4., 2., 2.],\n",
      "          [1., 1., 2., 1., 2., 1., 1.],\n",
      "          [1., 1., 2., 1., 2., 1., 1.]]]],\n",
      "       grad_fn=<ThnnConvTranspose2DBackward>) torch.Size([1, 1, 7, 7])\n"
     ]
    },
    {
     "data": {
      "text/plain": [
       "<matplotlib.image.AxesImage at 0x21304169cc0>"
      ]
     },
     "execution_count": 5,
     "metadata": {},
     "output_type": "execute_result"
    },
    {
     "data": {
      "image/png": "[encoded data removed]",
      "text/plain": [
       "<Figure size 432x288 with 1 Axes>"
      ]
     },
     "metadata": {
      "needs_background": "light"
     },
     "output_type": "display_data"
    }
   ],
   "source": [
    "transpose = nn.ConvTranspose2d(in_channels=1, out_channels=1, kernel_size=3, stride=2, padding=0, output_padding=0, bias=False)\n",
    "init.constant_(transpose.weight.data,1)\n",
    "out = transpose(img)\n",
    "\n",
    "print(out,out.size())\n",
    "plt.imshow(out.detach().numpy()[0,0,...],vmin=0)"
   ]
  },
  {
   "cell_type": "markdown",
   "metadata": {
    "colab_type": "text",
    "id": "gTBmj5jWRsPI"
   },
   "source": [
    "## Kernel Size=3, stride=2, padding=1, output_padding=0"
   ]
  },
  {
   "cell_type": "code",
   "execution_count": 6,
   "metadata": {
    "colab": {
     "base_uri": "https://localhost:8080/",
     "height": 371
    },
    "colab_type": "code",
    "executionInfo": {
     "elapsed": 5358,
     "status": "ok",
     "timestamp": 1559565428776,
     "user": {
      "displayName": "Choi Gunho",
      "photoUrl": "",
      "userId": "04388737836176863066"
     },
     "user_tz": -540
    },
    "id": "Q9DrsVYbRsPJ",
    "outputId": "7037eab8-b3d3-48d8-b7c1-8c4f446aa0d5"
   },
   "outputs": [
    {
     "name": "stdout",
     "output_type": "stream",
     "text": [
      "tensor([[[[1., 2., 1., 2., 1.],\n",
      "          [2., 4., 2., 4., 2.],\n",
      "          [1., 2., 1., 2., 1.],\n",
      "          [2., 4., 2., 4., 2.],\n",
      "          [1., 2., 1., 2., 1.]]]], grad_fn=<ThnnConvTranspose2DBackward>) torch.Size([1, 1, 5, 5])\n"
     ]
    },
    {
     "data": {
      "text/plain": [
       "<matplotlib.image.AxesImage at 0x213041d4630>"
      ]
     },
     "execution_count": 6,
     "metadata": {},
     "output_type": "execute_result"
    },
    {
     "data": {
      "image/png": "[encoded data removed]",
      "text/plain": [
       "<Figure size 432x288 with 1 Axes>"
      ]
     },
     "metadata": {
      "needs_background": "light"
     },
     "output_type": "display_data"
    }
   ],
   "source": [
    "transpose = nn.ConvTranspose2d(in_channels=1, out_channels=1, kernel_size=3, stride=2, padding=1, output_padding=0, bias=False)\n",
    "init.constant_(transpose.weight.data,1)\n",
    "out = transpose(img)\n",
    "\n",
    "print(out,out.size())\n",
    "plt.imshow(out.detach().numpy()[0,0,...],vmin=0)"
   ]
  },
  {
   "cell_type": "markdown",
   "metadata": {
    "colab_type": "text",
    "id": "0nYcw1umRsPM"
   },
   "source": [
    "## Kernel Size=3, stride=2, padding=0, output_padding=1"
   ]
  },
  {
   "cell_type": "code",
   "execution_count": 7,
   "metadata": {
    "colab": {
     "base_uri": "https://localhost:8080/",
     "height": 439
    },
    "colab_type": "code",
    "executionInfo": {
     "elapsed": 5591,
     "status": "ok",
     "timestamp": 1559565429019,
     "user": {
      "displayName": "Choi Gunho",
      "photoUrl": "",
      "userId": "04388737836176863066"
     },
     "user_tz": -540
    },
    "id": "No7m6Z2SRsPN",
    "outputId": "744950da-cedf-406c-c2cc-d20ca2510223"
   },
   "outputs": [
    {
     "name": "stdout",
     "output_type": "stream",
     "text": [
      "tensor([[[[1., 1., 2., 1., 2., 1., 1., 0.],\n",
      "          [1., 1., 2., 1., 2., 1., 1., 0.],\n",
      "          [2., 2., 4., 2., 4., 2., 2., 0.],\n",
      "          [1., 1., 2., 1., 2., 1., 1., 0.],\n",
      "          [2., 2., 4., 2., 4., 2., 2., 0.],\n",
      "          [1., 1., 2., 1., 2., 1., 1., 0.],\n",
      "          [1., 1., 2., 1., 2., 1., 1., 0.],\n",
      "          [0., 0., 0., 0., 0., 0., 0., 0.]]]],\n",
      "       grad_fn=<ThnnConvTranspose2DBackward>) torch.Size([1, 1, 8, 8])\n"
     ]
    },
    {
     "data": {
      "text/plain": [
       "<matplotlib.image.AxesImage at 0x213042299e8>"
      ]
     },
     "execution_count": 7,
     "metadata": {},
     "output_type": "execute_result"
    },
    {
     "data": {
      "image/png": "[encoded data removed]",
      "text/plain": [
       "<Figure size 432x288 with 1 Axes>"
      ]
     },
     "metadata": {
      "needs_background": "light"
     },
     "output_type": "display_data"
    }
   ],
   "source": [
    "transpose = nn.ConvTranspose2d(in_channels=1, out_channels=1, kernel_size=3, stride=2, padding=0, output_padding=1, bias=False)\n",
    "init.constant_(transpose.weight.data,1)\n",
    "out=transpose(img)\n",
    "\n",
    "print(out,out.size())\n",
    "plt.imshow(out.detach().numpy()[0,0,...],vmin=0)"
   ]
  },
  {
   "cell_type": "markdown",
   "metadata": {
    "colab_type": "text",
    "id": "amN3Jj9RRsPQ"
   },
   "source": [
    "## Kernel Size=3, stride=2, padding=1, output_padding=1"
   ]
  },
  {
   "cell_type": "code",
   "execution_count": 8,
   "metadata": {
    "colab": {
     "base_uri": "https://localhost:8080/",
     "height": 388
    },
    "colab_type": "code",
    "executionInfo": {
     "elapsed": 5831,
     "status": "ok",
     "timestamp": 1559565429265,
     "user": {
      "displayName": "Choi Gunho",
      "photoUrl": "",
      "userId": "04388737836176863066"
     },
     "user_tz": -540
    },
    "id": "8I52Q-EfRsPQ",
    "outputId": "537fb602-f21e-43f0-8ca7-28627e0f8b0b"
   },
   "outputs": [
    {
     "name": "stdout",
     "output_type": "stream",
     "text": [
      "tensor([[[[1., 2., 1., 2., 1., 1.],\n",
      "          [2., 4., 2., 4., 2., 2.],\n",
      "          [1., 2., 1., 2., 1., 1.],\n",
      "          [2., 4., 2., 4., 2., 2.],\n",
      "          [1., 2., 1., 2., 1., 1.],\n",
      "          [1., 2., 1., 2., 1., 1.]]]], grad_fn=<ThnnConvTranspose2DBackward>) torch.Size([1, 1, 6, 6])\n"
     ]
    },
    {
     "data": {
      "text/plain": [
       "<matplotlib.image.AxesImage at 0x2130428c898>"
      ]
     },
     "execution_count": 8,
     "metadata": {},
     "output_type": "execute_result"
    },
    {
     "data": {
      "image/png": "[encoded data removed]",
      "text/plain": [
       "<Figure size 432x288 with 1 Axes>"
      ]
     },
     "metadata": {
      "needs_background": "light"
     },
     "output_type": "display_data"
    }
   ],
   "source": [
    "transpose = nn.ConvTranspose2d(in_channels=1, out_channels=1, kernel_size=3, stride=2, padding=1, output_padding=1, bias=False)\n",
    "init.constant_(transpose.weight.data,1)\n",
    "\n",
    "out = transpose(img)\n",
    "print(out,out.size())\n",
    "plt.imshow(out.detach().numpy()[0,0,...],vmin=0)"
   ]
  },
  {
   "cell_type": "code",
   "execution_count": 9,
   "metadata": {
    "colab": {
     "base_uri": "https://localhost:8080/",
     "height": 388
    },
    "colab_type": "code",
    "executionInfo": {
     "elapsed": 6182,
     "status": "ok",
     "timestamp": 1559565429621,
     "user": {
      "displayName": "Choi Gunho",
      "photoUrl": "",
      "userId": "04388737836176863066"
     },
     "user_tz": -540
    },
    "id": "mYDdkE4xRsPS",
    "outputId": "1f6739e2-90f3-487c-edee-a7d813a0dbd9"
   },
   "outputs": [
    {
     "name": "stdout",
     "output_type": "stream",
     "text": [
      "tensor([[[[1., 2., 2., 2., 2., 1.],\n",
      "          [2., 4., 4., 4., 4., 2.],\n",
      "          [2., 4., 4., 4., 4., 2.],\n",
      "          [2., 4., 4., 4., 4., 2.],\n",
      "          [2., 4., 4., 4., 4., 2.],\n",
      "          [1., 2., 2., 2., 2., 1.]]]], grad_fn=<ThnnConvTranspose2DBackward>) torch.Size([1, 1, 6, 6])\n"
     ]
    },
    {
     "data": {
      "text/plain": [
       "<matplotlib.image.AxesImage at 0x213042ec710>"
      ]
     },
     "execution_count": 9,
     "metadata": {},
     "output_type": "execute_result"
    },
    {
     "data": {
      "image/png": "[encoded data removed]",
      "text/plain": [
       "<Figure size 432x288 with 1 Axes>"
      ]
     },
     "metadata": {
      "needs_background": "light"
     },
     "output_type": "display_data"
    }
   ],
   "source": [
    "transpose = nn.ConvTranspose2d(in_channels=1, out_channels=1, kernel_size=4, stride=2, padding=1, output_padding=0, bias=False)\n",
    "init.constant_(transpose.weight.data,1)\n",
    "\n",
    "out = transpose(img)\n",
    "print(out,out.size())\n",
    "plt.imshow(out.detach().numpy()[0,0,...],vmin=0)"
   ]
  },
  {
   "cell_type": "code",
   "execution_count": null,
   "metadata": {
    "colab": {},
    "colab_type": "code",
    "id": "aio1tVIaRyTA"
   },
   "outputs": [],
   "source": []
  }
 ],
 "metadata": {
  "colab": {
   "collapsed_sections": [],
   "name": "[참고] Conv_Transposed_Exercise.ipynb",
   "provenance": [],
   "version": "0.3.2"
  },
  "kernelspec": {
   "display_name": "Python 3",
   "language": "python",
   "name": "python3"
  },
  "language_info": {
   "codemirror_mode": {
    "name": "ipython",
    "version": 3
   },
   "file_extension": ".py",
   "mimetype": "text/x-python",
   "name": "python",
   "nbconvert_exporter": "python",
   "pygments_lexer": "ipython3",
   "version": "3.7.3"
  }
 },
 "nbformat": 4,
 "nbformat_minor": 2
}
