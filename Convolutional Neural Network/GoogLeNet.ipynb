{
 "cells": [
  {
   "cell_type": "markdown",
   "metadata": {
    "colab_type": "text",
    "id": "R5TdJbHbenJk"
   },
   "source": [
    "# GoogleNet Implementation\n",
    "\n",
    "\n",
    "- VGG와 중복되는 부분은 주석을 생략했습니다. \n",
    "- 2014 ILSVRC 1nd place \n",
    "- Inception Module\n",
    "\n",
    "![대체 텍스트](https://cdn-images-1.medium.com/max/2560/1*ZFPOSAted10TPd3hBQU8iQ.png)"
   ]
  },
  {
   "cell_type": "code",
   "execution_count": 1,
   "metadata": {
    "colab": {
     "base_uri": "https://localhost:8080/",
     "height": 119
    },
    "colab_type": "code",
    "executionInfo": {
     "elapsed": 3758,
     "status": "ok",
     "timestamp": 1559511320952,
     "user": {
      "displayName": "Choi Gunho",
      "photoUrl": "",
      "userId": "04388737836176863066"
     },
     "user_tz": -540
    },
    "id": "tWY0JFsPe1Lb",
    "outputId": "b811f829-59aa-42ab-f1ac-25a4b16d136c"
   },
   "outputs": [],
   "source": [
    "# 런타임 유형 GPU 모드로 변경\n",
    "#!pip install torch torchvision"
   ]
  },
  {
   "cell_type": "code",
   "execution_count": 2,
   "metadata": {
    "colab": {
     "base_uri": "https://localhost:8080/",
     "height": 765
    },
    "colab_type": "code",
    "executionInfo": {
     "elapsed": 15197,
     "status": "ok",
     "timestamp": 1559511332404,
     "user": {
      "displayName": "Choi Gunho",
      "photoUrl": "",
      "userId": "04388737836176863066"
     },
     "user_tz": -540
    },
    "id": "WYHfQrT3e38Q",
    "outputId": "fed2b3a4-3b8b-4967-948b-15796e4ebf70"
   },
   "outputs": [
    {
     "name": "stdout",
     "output_type": "stream",
     "text": [
      "\n"
     ]
    }
   ],
   "source": [
    "\"\"\"\n",
    "!rm -r images\n",
    "import os \n",
    "\n",
    "# 이미지 파일을 저장할 폴더를 생성합니다.\n",
    "try:\n",
    "  os.mkdir(\"images\")\n",
    "  os.mkdir(\"images/dogs\")\n",
    "  os.mkdir(\"images/cats\")\n",
    "except:\n",
    "  pass\n",
    "\n",
    "# 이미지들을 지정한 위치에 다운로드합니다.\n",
    "# images/dogs 밑에 2개\n",
    "!wget https://i.kinja-img.com/gawker-media/image/upload/s--WFkXeene--/c_scale,f_auto,fl_progressive,q_80,w_800/ol9ceoqxidudap8owlwn.jpg -P images/dogs\n",
    "!wget https://www.rspcansw.org.au/wp-content/uploads/2017/08/50_a-feature_dogs-and-puppies_mobile.jpg -P images/dogs\n",
    "\n",
    "# images/cats 밑에 2개\n",
    "!wget https://www.catster.com/wp-content/uploads/2018/05/A-gray-cat-crying-looking-upset.jpg -P images/cats\n",
    "!wget https://www.scarymommy.com/wp-content/uploads/2018/01/c1.jpg?w=700 -P images/cats\n",
    "\"\"\"\n",
    "\n",
    "# 만약 윈도우 유저라면, 마소 스토어에서 우분투를 설치 후 wget [주소] 를 이용할 수 있다.\n",
    "print()"
   ]
  },
  {
   "cell_type": "markdown",
   "metadata": {
    "colab_type": "text",
    "id": "uAOTfwoKenJl"
   },
   "source": [
    "## 1. Settings\n",
    "### 1) Import required libraries"
   ]
  },
  {
   "cell_type": "code",
   "execution_count": 3,
   "metadata": {
    "colab": {},
    "colab_type": "code",
    "id": "YAvEAu6KenJm"
   },
   "outputs": [],
   "source": [
    "import numpy as np\n",
    "import torch\n",
    "import torch.nn as nn\n",
    "import torch.optim as optim\n",
    "import torch.nn.init as init\n",
    "import torch.utils.data as data\n",
    "import torchvision.datasets as dset\n",
    "import torchvision.transforms as transforms\n",
    "from torch.utils.data import DataLoader"
   ]
  },
  {
   "cell_type": "markdown",
   "metadata": {
    "colab_type": "text",
    "id": "FBsdNWWXenJq"
   },
   "source": [
    "### 2) Hyperparameter"
   ]
  },
  {
   "cell_type": "code",
   "execution_count": 4,
   "metadata": {
    "colab": {},
    "colab_type": "code",
    "id": "o_cxanrUenJs"
   },
   "outputs": [],
   "source": [
    "batch_size= 1\n",
    "learning_rate = 0.0002\n",
    "num_epoch = 100"
   ]
  },
  {
   "cell_type": "markdown",
   "metadata": {
    "colab_type": "text",
    "id": "5UjyZEidenJu"
   },
   "source": [
    "## 2. Data Loader"
   ]
  },
  {
   "cell_type": "code",
   "execution_count": 5,
   "metadata": {
    "colab": {},
    "colab_type": "code",
    "id": "miminY74enJv"
   },
   "outputs": [],
   "source": [
    "img_dir = \"../images\"\n",
    "img_data = dset.ImageFolder(img_dir, transforms.Compose([\n",
    "                                      transforms.Resize(256),                   \n",
    "                                      transforms.RandomResizedCrop(224),        \n",
    "                                      transforms.RandomHorizontalFlip(),        \n",
    "                                      transforms.ToTensor(),                    \n",
    "            ]))\n",
    "\n",
    "train_loader = data.DataLoader(img_data, batch_size=batch_size,\n",
    "                            shuffle=True, num_workers=2)"
   ]
  },
  {
   "cell_type": "markdown",
   "metadata": {
    "colab_type": "text",
    "id": "c5ciRmnzenJy"
   },
   "source": [
    "## 3. Model \n",
    "### 1) Base module\n",
    "\n",
    "- 인셉션 모듈을 구성하는 4가지 연산을 함수로 정의해놓습니다.\n",
    "- 1x1 컨볼루션\n",
    "- 1x1 컨볼루션 -> 3x3 컨볼루션\n",
    "- 1x1 컨볼루션 -> 5x5 컨볼루션\n",
    "- 3x3 맥스풀링 ->1x1 컨볼루션"
   ]
  },
  {
   "cell_type": "code",
   "execution_count": 6,
   "metadata": {
    "colab": {},
    "colab_type": "code",
    "id": "eZv204pmenJz"
   },
   "outputs": [],
   "source": [
    "def conv_1(in_dim,out_dim):\n",
    "    model = nn.Sequential(\n",
    "        nn.Conv2d(in_dim,out_dim,1,1),\n",
    "        nn.ReLU(),\n",
    "    )\n",
    "    return model\n",
    "\n",
    "def conv_1_3(in_dim,mid_dim,out_dim):\n",
    "    model = nn.Sequential(\n",
    "        nn.Conv2d(in_dim,mid_dim,1,1),\n",
    "        nn.ReLU(),\n",
    "        nn.Conv2d(mid_dim,out_dim,3,1,1),\n",
    "        nn.ReLU()\n",
    "    )\n",
    "    return model\n",
    "    \n",
    "def conv_1_5(in_dim,mid_dim,out_dim):\n",
    "    model = nn.Sequential(\n",
    "        nn.Conv2d(in_dim,mid_dim,1,1),\n",
    "        nn.ReLU(),\n",
    "        nn.Conv2d(mid_dim,out_dim,5,1,2),\n",
    "        nn.ReLU()\n",
    "    )\n",
    "    return model\n",
    "    \n",
    "\n",
    "def max_3_1(in_dim,out_dim):\n",
    "    model = nn.Sequential(\n",
    "        nn.MaxPool2d(3,1,1),\n",
    "        nn.Conv2d(in_dim,out_dim,1,1),\n",
    "        nn.ReLU(),\n",
    "    )\n",
    "    return model"
   ]
  },
  {
   "cell_type": "markdown",
   "metadata": {
    "colab_type": "text",
    "id": "IyQpdnGeenJ1"
   },
   "source": [
    "### 2) Inception Module\n",
    "- 앞서 정의한 연산으로 인셉션 모듈을 만듦니다."
   ]
  },
  {
   "cell_type": "code",
   "execution_count": 7,
   "metadata": {
    "colab": {},
    "colab_type": "code",
    "id": "9NjXLZMRenJ1"
   },
   "outputs": [],
   "source": [
    "class inception_module(nn.Module):\n",
    "    def __init__(self,in_dim,out_dim_1,mid_dim_3,out_dim_3,mid_dim_5,out_dim_5,pool):\n",
    "        super(inception_module,self).__init__()\n",
    "        self.conv_1 = conv_1(in_dim,out_dim_1)\n",
    "        self.conv_1_3 = conv_1_3(in_dim,mid_dim_3,out_dim_3)\n",
    "        self.conv_1_5 = conv_1_5(in_dim,mid_dim_5,out_dim_5)\n",
    "        self.max_3_1 = max_3_1(in_dim,pool)\n",
    "\n",
    "    def forward(self,x):\n",
    "        out_1 = self.conv_1(x)\n",
    "        out_2 = self.conv_1_3(x)\n",
    "        out_3 = self.conv_1_5(x)\n",
    "        out_4 = self.max_3_1(x)\n",
    "        output = torch.cat([out_1,out_2,out_3,out_4],1)\n",
    "        return output"
   ]
  },
  {
   "cell_type": "markdown",
   "metadata": {
    "colab_type": "text",
    "id": "kBBIZ8p2enJ4"
   },
   "source": [
    "### 3) GoogLeNet"
   ]
  },
  {
   "cell_type": "markdown",
   "metadata": {
    "colab_type": "text",
    "id": "62d-tMLEgsNE"
   },
   "source": [
    "![대체 텍스트](https://cdn-images-1.medium.com/max/1600/1*CWJGqfLiVjHAIan82nPbjg.png)"
   ]
  },
  {
   "cell_type": "code",
   "execution_count": 8,
   "metadata": {
    "colab": {},
    "colab_type": "code",
    "id": "l4T_rmP3enJ5"
   },
   "outputs": [],
   "source": [
    "# 표와 비교하면서 볼 수 있도록 구현했습니다. \n",
    "\n",
    "class GoogLeNet(nn.Module):\n",
    "    def __init__(self, base_dim, num_classes=2):\n",
    "        super(GoogLeNet, self).__init__()\n",
    "        self.layer_1 = nn.Sequential(\n",
    "            nn.Conv2d(3,base_dim,7,2,3),\n",
    "            nn.MaxPool2d(3,2,1),\n",
    "            nn.Conv2d(base_dim,base_dim*3,3,1,1),\n",
    "            nn.MaxPool2d(3,2,1),\n",
    "        )\n",
    "        self.layer_2 = nn.Sequential(\n",
    "            inception_module(base_dim*3,64,96,128,16,32,32),\n",
    "            inception_module(base_dim*4,128,128,192,32,96,64),\n",
    "            nn.MaxPool2d(3,2,1),\n",
    "        )\n",
    "        self.layer_3 = nn.Sequential(\n",
    "            inception_module(480,192,96,208,16,48,64),\n",
    "            inception_module(512,160,112,224,24,64,64),\n",
    "            inception_module(512,128,128,256,24,64,64),\n",
    "            inception_module(512,112,144,288,32,64,64),\n",
    "            inception_module(528,256,160,320,32,128,128),\n",
    "            nn.MaxPool2d(3,2,1),\n",
    "        )\n",
    "        self.layer_4 = nn.Sequential(\n",
    "            inception_module(832,256,160,320,32,128,128),\n",
    "            inception_module(832,384,192,384,48,128,128), \n",
    "            nn.AvgPool2d(7,1),\n",
    "        )\n",
    "        self.layer_5 = nn.Dropout2d(0.4)\n",
    "        self.fc_layer = nn.Linear(1024,1000)\n",
    "                \n",
    "        \n",
    "    def forward(self, x):\n",
    "        out = self.layer_1(x)\n",
    "        out = self.layer_2(out)\n",
    "        out = self.layer_3(out)\n",
    "        out = self.layer_4(out)\n",
    "        out = self.layer_5(out)\n",
    "        out = out.view(batch_size,-1)\n",
    "        out = self.fc_layer(out)\n",
    "        return out"
   ]
  },
  {
   "cell_type": "markdown",
   "metadata": {
    "colab_type": "text",
    "id": "u6vJaWWeenJ-"
   },
   "source": [
    "## 4. Optimizer & Loss"
   ]
  },
  {
   "cell_type": "code",
   "execution_count": 9,
   "metadata": {
    "colab": {
     "base_uri": "https://localhost:8080/",
     "height": 3842
    },
    "colab_type": "code",
    "executionInfo": {
     "elapsed": 20359,
     "status": "ok",
     "timestamp": 1559511337667,
     "user": {
      "displayName": "Choi Gunho",
      "photoUrl": "",
      "userId": "04388737836176863066"
     },
     "user_tz": -540
    },
    "id": "4ZoEfJvMenJ-",
    "outputId": "defd0666-9bfa-4039-fdee-4d4f3ed477ab"
   },
   "outputs": [
    {
     "name": "stdout",
     "output_type": "stream",
     "text": [
      "cuda:0\n",
      "('layer_1', Sequential(\n",
      "  (0): Conv2d(3, 64, kernel_size=(7, 7), stride=(2, 2), padding=(3, 3))\n",
      "  (1): MaxPool2d(kernel_size=3, stride=2, padding=1, dilation=1, ceil_mode=False)\n",
      "  (2): Conv2d(64, 192, kernel_size=(3, 3), stride=(1, 1), padding=(1, 1))\n",
      "  (3): MaxPool2d(kernel_size=3, stride=2, padding=1, dilation=1, ceil_mode=False)\n",
      "))\n",
      "('layer_2', Sequential(\n",
      "  (0): inception_module(\n",
      "    (conv_1): Sequential(\n",
      "      (0): Conv2d(192, 64, kernel_size=(1, 1), stride=(1, 1))\n",
      "      (1): ReLU()\n",
      "    )\n",
      "    (conv_1_3): Sequential(\n",
      "      (0): Conv2d(192, 96, kernel_size=(1, 1), stride=(1, 1))\n",
      "      (1): ReLU()\n",
      "      (2): Conv2d(96, 128, kernel_size=(3, 3), stride=(1, 1), padding=(1, 1))\n",
      "      (3): ReLU()\n",
      "    )\n",
      "    (conv_1_5): Sequential(\n",
      "      (0): Conv2d(192, 16, kernel_size=(1, 1), stride=(1, 1))\n",
      "      (1): ReLU()\n",
      "      (2): Conv2d(16, 32, kernel_size=(5, 5), stride=(1, 1), padding=(2, 2))\n",
      "      (3): ReLU()\n",
      "    )\n",
      "    (max_3_1): Sequential(\n",
      "      (0): MaxPool2d(kernel_size=3, stride=1, padding=1, dilation=1, ceil_mode=False)\n",
      "      (1): Conv2d(192, 32, kernel_size=(1, 1), stride=(1, 1))\n",
      "      (2): ReLU()\n",
      "    )\n",
      "  )\n",
      "  (1): inception_module(\n",
      "    (conv_1): Sequential(\n",
      "      (0): Conv2d(256, 128, kernel_size=(1, 1), stride=(1, 1))\n",
      "      (1): ReLU()\n",
      "    )\n",
      "    (conv_1_3): Sequential(\n",
      "      (0): Conv2d(256, 128, kernel_size=(1, 1), stride=(1, 1))\n",
      "      (1): ReLU()\n",
      "      (2): Conv2d(128, 192, kernel_size=(3, 3), stride=(1, 1), padding=(1, 1))\n",
      "      (3): ReLU()\n",
      "    )\n",
      "    (conv_1_5): Sequential(\n",
      "      (0): Conv2d(256, 32, kernel_size=(1, 1), stride=(1, 1))\n",
      "      (1): ReLU()\n",
      "      (2): Conv2d(32, 96, kernel_size=(5, 5), stride=(1, 1), padding=(2, 2))\n",
      "      (3): ReLU()\n",
      "    )\n",
      "    (max_3_1): Sequential(\n",
      "      (0): MaxPool2d(kernel_size=3, stride=1, padding=1, dilation=1, ceil_mode=False)\n",
      "      (1): Conv2d(256, 64, kernel_size=(1, 1), stride=(1, 1))\n",
      "      (2): ReLU()\n",
      "    )\n",
      "  )\n",
      "  (2): MaxPool2d(kernel_size=3, stride=2, padding=1, dilation=1, ceil_mode=False)\n",
      "))\n",
      "('layer_3', Sequential(\n",
      "  (0): inception_module(\n",
      "    (conv_1): Sequential(\n",
      "      (0): Conv2d(480, 192, kernel_size=(1, 1), stride=(1, 1))\n",
      "      (1): ReLU()\n",
      "    )\n",
      "    (conv_1_3): Sequential(\n",
      "      (0): Conv2d(480, 96, kernel_size=(1, 1), stride=(1, 1))\n",
      "      (1): ReLU()\n",
      "      (2): Conv2d(96, 208, kernel_size=(3, 3), stride=(1, 1), padding=(1, 1))\n",
      "      (3): ReLU()\n",
      "    )\n",
      "    (conv_1_5): Sequential(\n",
      "      (0): Conv2d(480, 16, kernel_size=(1, 1), stride=(1, 1))\n",
      "      (1): ReLU()\n",
      "      (2): Conv2d(16, 48, kernel_size=(5, 5), stride=(1, 1), padding=(2, 2))\n",
      "      (3): ReLU()\n",
      "    )\n",
      "    (max_3_1): Sequential(\n",
      "      (0): MaxPool2d(kernel_size=3, stride=1, padding=1, dilation=1, ceil_mode=False)\n",
      "      (1): Conv2d(480, 64, kernel_size=(1, 1), stride=(1, 1))\n",
      "      (2): ReLU()\n",
      "    )\n",
      "  )\n",
      "  (1): inception_module(\n",
      "    (conv_1): Sequential(\n",
      "      (0): Conv2d(512, 160, kernel_size=(1, 1), stride=(1, 1))\n",
      "      (1): ReLU()\n",
      "    )\n",
      "    (conv_1_3): Sequential(\n",
      "      (0): Conv2d(512, 112, kernel_size=(1, 1), stride=(1, 1))\n",
      "      (1): ReLU()\n",
      "      (2): Conv2d(112, 224, kernel_size=(3, 3), stride=(1, 1), padding=(1, 1))\n",
      "      (3): ReLU()\n",
      "    )\n",
      "    (conv_1_5): Sequential(\n",
      "      (0): Conv2d(512, 24, kernel_size=(1, 1), stride=(1, 1))\n",
      "      (1): ReLU()\n",
      "      (2): Conv2d(24, 64, kernel_size=(5, 5), stride=(1, 1), padding=(2, 2))\n",
      "      (3): ReLU()\n",
      "    )\n",
      "    (max_3_1): Sequential(\n",
      "      (0): MaxPool2d(kernel_size=3, stride=1, padding=1, dilation=1, ceil_mode=False)\n",
      "      (1): Conv2d(512, 64, kernel_size=(1, 1), stride=(1, 1))\n",
      "      (2): ReLU()\n",
      "    )\n",
      "  )\n",
      "  (2): inception_module(\n",
      "    (conv_1): Sequential(\n",
      "      (0): Conv2d(512, 128, kernel_size=(1, 1), stride=(1, 1))\n",
      "      (1): ReLU()\n",
      "    )\n",
      "    (conv_1_3): Sequential(\n",
      "      (0): Conv2d(512, 128, kernel_size=(1, 1), stride=(1, 1))\n",
      "      (1): ReLU()\n",
      "      (2): Conv2d(128, 256, kernel_size=(3, 3), stride=(1, 1), padding=(1, 1))\n",
      "      (3): ReLU()\n",
      "    )\n",
      "    (conv_1_5): Sequential(\n",
      "      (0): Conv2d(512, 24, kernel_size=(1, 1), stride=(1, 1))\n",
      "      (1): ReLU()\n",
      "      (2): Conv2d(24, 64, kernel_size=(5, 5), stride=(1, 1), padding=(2, 2))\n",
      "      (3): ReLU()\n",
      "    )\n",
      "    (max_3_1): Sequential(\n",
      "      (0): MaxPool2d(kernel_size=3, stride=1, padding=1, dilation=1, ceil_mode=False)\n",
      "      (1): Conv2d(512, 64, kernel_size=(1, 1), stride=(1, 1))\n",
      "      (2): ReLU()\n",
      "    )\n",
      "  )\n",
      "  (3): inception_module(\n",
      "    (conv_1): Sequential(\n",
      "      (0): Conv2d(512, 112, kernel_size=(1, 1), stride=(1, 1))\n",
      "      (1): ReLU()\n",
      "    )\n",
      "    (conv_1_3): Sequential(\n",
      "      (0): Conv2d(512, 144, kernel_size=(1, 1), stride=(1, 1))\n",
      "      (1): ReLU()\n",
      "      (2): Conv2d(144, 288, kernel_size=(3, 3), stride=(1, 1), padding=(1, 1))\n",
      "      (3): ReLU()\n",
      "    )\n",
      "    (conv_1_5): Sequential(\n",
      "      (0): Conv2d(512, 32, kernel_size=(1, 1), stride=(1, 1))\n",
      "      (1): ReLU()\n",
      "      (2): Conv2d(32, 64, kernel_size=(5, 5), stride=(1, 1), padding=(2, 2))\n",
      "      (3): ReLU()\n",
      "    )\n",
      "    (max_3_1): Sequential(\n",
      "      (0): MaxPool2d(kernel_size=3, stride=1, padding=1, dilation=1, ceil_mode=False)\n",
      "      (1): Conv2d(512, 64, kernel_size=(1, 1), stride=(1, 1))\n",
      "      (2): ReLU()\n",
      "    )\n",
      "  )\n",
      "  (4): inception_module(\n",
      "    (conv_1): Sequential(\n",
      "      (0): Conv2d(528, 256, kernel_size=(1, 1), stride=(1, 1))\n",
      "      (1): ReLU()\n",
      "    )\n",
      "    (conv_1_3): Sequential(\n",
      "      (0): Conv2d(528, 160, kernel_size=(1, 1), stride=(1, 1))\n",
      "      (1): ReLU()\n",
      "      (2): Conv2d(160, 320, kernel_size=(3, 3), stride=(1, 1), padding=(1, 1))\n",
      "      (3): ReLU()\n",
      "    )\n",
      "    (conv_1_5): Sequential(\n",
      "      (0): Conv2d(528, 32, kernel_size=(1, 1), stride=(1, 1))\n",
      "      (1): ReLU()\n",
      "      (2): Conv2d(32, 128, kernel_size=(5, 5), stride=(1, 1), padding=(2, 2))\n",
      "      (3): ReLU()\n",
      "    )\n",
      "    (max_3_1): Sequential(\n",
      "      (0): MaxPool2d(kernel_size=3, stride=1, padding=1, dilation=1, ceil_mode=False)\n",
      "      (1): Conv2d(528, 128, kernel_size=(1, 1), stride=(1, 1))\n",
      "      (2): ReLU()\n",
      "    )\n",
      "  )\n",
      "  (5): MaxPool2d(kernel_size=3, stride=2, padding=1, dilation=1, ceil_mode=False)\n",
      "))\n",
      "('layer_4', Sequential(\n",
      "  (0): inception_module(\n",
      "    (conv_1): Sequential(\n",
      "      (0): Conv2d(832, 256, kernel_size=(1, 1), stride=(1, 1))\n",
      "      (1): ReLU()\n",
      "    )\n",
      "    (conv_1_3): Sequential(\n",
      "      (0): Conv2d(832, 160, kernel_size=(1, 1), stride=(1, 1))\n",
      "      (1): ReLU()\n",
      "      (2): Conv2d(160, 320, kernel_size=(3, 3), stride=(1, 1), padding=(1, 1))\n",
      "      (3): ReLU()\n",
      "    )\n",
      "    (conv_1_5): Sequential(\n",
      "      (0): Conv2d(832, 32, kernel_size=(1, 1), stride=(1, 1))\n",
      "      (1): ReLU()\n",
      "      (2): Conv2d(32, 128, kernel_size=(5, 5), stride=(1, 1), padding=(2, 2))\n",
      "      (3): ReLU()\n",
      "    )\n",
      "    (max_3_1): Sequential(\n",
      "      (0): MaxPool2d(kernel_size=3, stride=1, padding=1, dilation=1, ceil_mode=False)\n",
      "      (1): Conv2d(832, 128, kernel_size=(1, 1), stride=(1, 1))\n",
      "      (2): ReLU()\n",
      "    )\n",
      "  )\n",
      "  (1): inception_module(\n",
      "    (conv_1): Sequential(\n",
      "      (0): Conv2d(832, 384, kernel_size=(1, 1), stride=(1, 1))\n",
      "      (1): ReLU()\n",
      "    )\n",
      "    (conv_1_3): Sequential(\n",
      "      (0): Conv2d(832, 192, kernel_size=(1, 1), stride=(1, 1))\n",
      "      (1): ReLU()\n",
      "      (2): Conv2d(192, 384, kernel_size=(3, 3), stride=(1, 1), padding=(1, 1))\n",
      "      (3): ReLU()\n",
      "    )\n",
      "    (conv_1_5): Sequential(\n",
      "      (0): Conv2d(832, 48, kernel_size=(1, 1), stride=(1, 1))\n",
      "      (1): ReLU()\n",
      "      (2): Conv2d(48, 128, kernel_size=(5, 5), stride=(1, 1), padding=(2, 2))\n",
      "      (3): ReLU()\n",
      "    )\n",
      "    (max_3_1): Sequential(\n",
      "      (0): MaxPool2d(kernel_size=3, stride=1, padding=1, dilation=1, ceil_mode=False)\n",
      "      (1): Conv2d(832, 128, kernel_size=(1, 1), stride=(1, 1))\n",
      "      (2): ReLU()\n",
      "    )\n",
      "  )\n",
      "  (2): AvgPool2d(kernel_size=7, stride=1, padding=0)\n",
      "))\n",
      "('layer_5', Dropout2d(p=0.4))\n",
      "('fc_layer', Linear(in_features=1024, out_features=1000, bias=True))\n"
     ]
    }
   ],
   "source": [
    "device = torch.device(\"cuda:0\" if torch.cuda.is_available() else \"cpu\")\n",
    "print(device)\n",
    "\n",
    "model = GoogLeNet(base_dim=64)\n",
    "for i in model.named_children():\n",
    "    print(i)\n",
    "\n",
    "model = GoogLeNet(base_dim=64).to(device)\n",
    "loss_func = nn.CrossEntropyLoss()\n",
    "optimizer = optim.Adam(model.parameters(),lr=learning_rate)"
   ]
  },
  {
   "cell_type": "markdown",
   "metadata": {
    "colab_type": "text",
    "id": "Esp4j-JxenKB"
   },
   "source": [
    "## 5. Train"
   ]
  },
  {
   "cell_type": "code",
   "execution_count": 10,
   "metadata": {
    "colab": {
     "base_uri": "https://localhost:8080/",
     "height": 187
    },
    "colab_type": "code",
    "executionInfo": {
     "elapsed": 47116,
     "status": "ok",
     "timestamp": 1559511364437,
     "user": {
      "displayName": "Choi Gunho",
      "photoUrl": "",
      "userId": "04388737836176863066"
     },
     "user_tz": -540
    },
    "id": "of1ESb4OenKB",
    "outputId": "18dbd262-b69a-4e7a-f62c-90f92f0b6e32"
   },
   "outputs": [
    {
     "name": "stdout",
     "output_type": "stream",
     "text": [
      "tensor(6.9069, device='cuda:0', grad_fn=<NllLossBackward>)\n",
      "tensor(1.3267, device='cuda:0', grad_fn=<NllLossBackward>)\n",
      "tensor(0.4445, device='cuda:0', grad_fn=<NllLossBackward>)\n",
      "tensor(0.9501, device='cuda:0', grad_fn=<NllLossBackward>)\n",
      "tensor(1.4789, device='cuda:0', grad_fn=<NllLossBackward>)\n",
      "tensor(0.5932, device='cuda:0', grad_fn=<NllLossBackward>)\n",
      "tensor(0.7223, device='cuda:0', grad_fn=<NllLossBackward>)\n",
      "tensor(0.9038, device='cuda:0', grad_fn=<NllLossBackward>)\n",
      "tensor(0.3259, device='cuda:0', grad_fn=<NllLossBackward>)\n",
      "tensor(0.3740, device='cuda:0', grad_fn=<NllLossBackward>)\n"
     ]
    }
   ],
   "source": [
    "for i in range(num_epoch):\n",
    "    for j,[image,label] in enumerate(train_loader):\n",
    "        x = image.to(device)\n",
    "        y_= label.to(device)\n",
    "        \n",
    "        optimizer.zero_grad()\n",
    "        output = model.forward(x)\n",
    "        loss = loss_func(output,y_)\n",
    "        loss.backward()\n",
    "        optimizer.step()\n",
    "\n",
    "    if i % 10 ==0:\n",
    "        print(loss)"
   ]
  },
  {
   "cell_type": "code",
   "execution_count": null,
   "metadata": {
    "colab": {},
    "colab_type": "code",
    "id": "AkCCQW0Wf-MV"
   },
   "outputs": [],
   "source": []
  }
 ],
 "metadata": {
  "accelerator": "GPU",
  "colab": {
   "collapsed_sections": [],
   "name": "5.7.2 GoogLeNet.ipynb",
   "provenance": [],
   "version": "0.3.2"
  },
  "kernelspec": {
   "display_name": "Python 3",
   "language": "python",
   "name": "python3"
  },
  "language_info": {
   "codemirror_mode": {
    "name": "ipython",
    "version": 3
   },
   "file_extension": ".py",
   "mimetype": "text/x-python",
   "name": "python",
   "nbconvert_exporter": "python",
   "pygments_lexer": "ipython3",
   "version": "3.7.3"
  }
 },
 "nbformat": 4,
 "nbformat_minor": 2
}
