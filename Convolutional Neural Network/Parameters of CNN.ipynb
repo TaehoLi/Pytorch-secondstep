{
 "cells": [
  {
   "cell_type": "code",
   "execution_count": 1,
   "metadata": {
    "colab": {
     "base_uri": "https://localhost:8080/",
     "height": 119
    },
    "colab_type": "code",
    "executionInfo": {
     "elapsed": 4733,
     "status": "ok",
     "timestamp": 1559506112000,
     "user": {
      "displayName": "Choi Gunho",
      "photoUrl": "",
      "userId": "04388737836176863066"
     },
     "user_tz": -540
    },
    "id": "vQnBTCoqmElL",
    "outputId": "c69914d7-3537-46d6-f8c1-a5449c14fc38"
   },
   "outputs": [],
   "source": [
    "#!pip install torch torchvision"
   ]
  },
  {
   "cell_type": "markdown",
   "metadata": {
    "colab_type": "text",
    "id": "p4cW9L6wm03l"
   },
   "source": [
    "# Convolutional Neural Network\n",
    "\n",
    "### 컨볼루션 연산의 다양한 인자들을 바꿔보며 결과가 어떻게 달라지는지 알아보는 노트북입니다.\n",
    "\n",
    "- https://pytorch.org/docs/stable/nn.html?highlight=conv2d#torch.nn.Conv2d\n",
    "- in_channels: 입력의 채널 수\n",
    "- out_channels: 출력의 채널 수\n",
    "- kernel_size: 필터 혹은 커널의 크기 \n",
    "- stride: 필터 적용의 간격 (stride: 걸음걸이)\n",
    "- padding: 입력 데이터를 추가적으로 둘러싸는 층의 두께\n",
    "- dilation: 책에서 다루지 않고 넘어간 내용이라 링크로 대체합니다. (https://laonple.blog.me/220991967450)\n",
    "- groups: 입력을 채널 단위로 몇개의 분리된 그룹으로 볼 것인가 \n",
    "- bias: 편차의 사용여부\n",
    "- padding_mode: 패딩 적용 방식 (ex. zero padding은 0으로 채우는 경우)"
   ]
  },
  {
   "cell_type": "markdown",
   "metadata": {
    "colab_type": "text",
    "id": "hXlGgH40nNDd"
   },
   "source": [
    "## 1. Settings\n",
    "### 1) Import required libraries"
   ]
  },
  {
   "cell_type": "code",
   "execution_count": 2,
   "metadata": {
    "colab": {},
    "colab_type": "code",
    "id": "AYVcJaYQm4Ts"
   },
   "outputs": [],
   "source": [
    "import torch\n",
    "import torch.nn as nn\n",
    "import torchvision.datasets as dset\n",
    "import torchvision.transforms as transforms\n",
    "from torch.utils.data import DataLoader\n",
    "import matplotlib.pyplot as plt"
   ]
  },
  {
   "cell_type": "markdown",
   "metadata": {
    "colab_type": "text",
    "id": "4w7EaN7onVDy"
   },
   "source": [
    "## 2. Data\n",
    "\n",
    "### 1) Download Data"
   ]
  },
  {
   "cell_type": "code",
   "execution_count": 3,
   "metadata": {
    "colab": {
     "base_uri": "https://localhost:8080/",
     "height": 255
    },
    "colab_type": "code",
    "executionInfo": {
     "elapsed": 6748,
     "status": "ok",
     "timestamp": 1559506118900,
     "user": {
      "displayName": "Choi Gunho",
      "photoUrl": "",
      "userId": "04388737836176863066"
     },
     "user_tz": -540
    },
    "id": "bLaoDeC-m6uD",
    "outputId": "abc1d1ad-9e95-4f31-dcb6-ee7527df9e9c"
   },
   "outputs": [],
   "source": [
    "mnist_train = dset.MNIST(\"../data\", train=True, transform=transforms.ToTensor(), target_transform=None, download=True)"
   ]
  },
  {
   "cell_type": "markdown",
   "metadata": {
    "colab_type": "text",
    "id": "hP71pb1onXkq"
   },
   "source": [
    "### 2) Item"
   ]
  },
  {
   "cell_type": "code",
   "execution_count": 4,
   "metadata": {
    "colab": {
     "base_uri": "https://localhost:8080/",
     "height": 119
    },
    "colab_type": "code",
    "executionInfo": {
     "elapsed": 4947,
     "status": "ok",
     "timestamp": 1559506118901,
     "user": {
      "displayName": "Choi Gunho",
      "photoUrl": "",
      "userId": "04388737836176863066"
     },
     "user_tz": -540
    },
    "id": "jKa1s4Qsm-6v",
    "outputId": "8a7b881c-6c2a-42ad-c35c-0598b9b9514b"
   },
   "outputs": [
    {
     "name": "stdout",
     "output_type": "stream",
     "text": [
      "Dataset MNIST\n",
      "    Number of datapoints: 60000\n",
      "    Root location: ../data\n",
      "    Split: Train\n",
      "torch.Size([1, 28, 28]) 5\n",
      "torch.Size([1, 28, 28]) 5\n"
     ]
    }
   ],
   "source": [
    "print(mnist_train)\n",
    "\n",
    "# dataset.__getitem__(idx)\n",
    "image,label = mnist_train.__getitem__(0)\n",
    "print(image.size(),label)\n",
    "\n",
    "# dataset[idx]\n",
    "image,label = mnist_train[0]\n",
    "print(image.size(),label)"
   ]
  },
  {
   "cell_type": "markdown",
   "metadata": {
    "colab_type": "text",
    "id": "X4pj4sSrncxm"
   },
   "source": [
    "### 3) Length"
   ]
  },
  {
   "cell_type": "code",
   "execution_count": 5,
   "metadata": {
    "colab": {
     "base_uri": "https://localhost:8080/",
     "height": 51
    },
    "colab_type": "code",
    "executionInfo": {
     "elapsed": 596,
     "status": "ok",
     "timestamp": 1559506119140,
     "user": {
      "displayName": "Choi Gunho",
      "photoUrl": "",
      "userId": "04388737836176863066"
     },
     "user_tz": -540
    },
    "id": "8rFlLl-ZnA4w",
    "outputId": "325355da-f500-4469-b9bd-d8b48f2103e6"
   },
   "outputs": [
    {
     "name": "stdout",
     "output_type": "stream",
     "text": [
      "60000\n"
     ]
    },
    {
     "data": {
      "text/plain": [
       "60000"
      ]
     },
     "execution_count": 5,
     "metadata": {},
     "output_type": "execute_result"
    }
   ],
   "source": [
    "# dataset.__len__()\n",
    "print(mnist_train.__len__())\n",
    "\n",
    "# len(dataset)\n",
    "len(mnist_train)"
   ]
  },
  {
   "cell_type": "markdown",
   "metadata": {
    "colab_type": "text",
    "id": "gYOL84cxnfK5"
   },
   "source": [
    "### 4) Show Image"
   ]
  },
  {
   "cell_type": "code",
   "execution_count": 6,
   "metadata": {
    "colab": {
     "base_uri": "https://localhost:8080/",
     "height": 773
    },
    "colab_type": "code",
    "executionInfo": {
     "elapsed": 1075,
     "status": "ok",
     "timestamp": 1559506124128,
     "user": {
      "displayName": "Choi Gunho",
      "photoUrl": "",
      "userId": "04388737836176863066"
     },
     "user_tz": -540
    },
    "id": "rcDAqDWwnDvy",
    "outputId": "0ab59a3a-1d02-45ab-d8cb-458e52169232"
   },
   "outputs": [
    {
     "data": {
      "image/png": "[encoded data removed]",
      "text/plain": [
       "<Figure size 432x288 with 1 Axes>"
      ]
     },
     "metadata": {
      "needs_background": "light"
     },
     "output_type": "display_data"
    },
    {
     "data": {
      "image/png": "[encoded data removed]",
      "text/plain": [
       "<Figure size 432x288 with 1 Axes>"
      ]
     },
     "metadata": {
      "needs_background": "light"
     },
     "output_type": "display_data"
    }
   ],
   "source": [
    "for i in range(2):\n",
    "    img= mnist_train[i][0].numpy()\n",
    "    plt.imshow(img[0],cmap='gray')\n",
    "    plt.show()"
   ]
  },
  {
   "cell_type": "markdown",
   "metadata": {
    "colab_type": "text",
    "id": "6biwkI3fnkMe"
   },
   "source": [
    "## 3. Convolution Layer\n",
    "\n",
    "- torch.nn.Conv2d(in_channels, out_channels, kernel_size, stride=1, padding=0, dilation=1, groups=1, bias=True, padding_mode='zeros')\n",
    "- Channels\n",
    "- Kernel size\n",
    "- Stride\n",
    "- Padding\n",
    "- 파이토치 텐서 사이즈는 다음과 같은 형태를 가지고 있습니다 -> [Batch,Channel,Height,Width]\n",
    "\n",
    "\n",
    "### 1) Channels\n",
    "\n",
    "- 채널을 바꾸면 어떻게 될까?"
   ]
  },
  {
   "cell_type": "code",
   "execution_count": 7,
   "metadata": {
    "colab": {
     "base_uri": "https://localhost:8080/",
     "height": 790
    },
    "colab_type": "code",
    "executionInfo": {
     "elapsed": 862,
     "status": "ok",
     "timestamp": 1559506408176,
     "user": {
      "displayName": "Choi Gunho",
      "photoUrl": "",
      "userId": "04388737836176863066"
     },
     "user_tz": -540
    },
    "id": "uRMw_9ggnFkk",
    "outputId": "a1a2ab85-3205-4153-a752-352ba4f9fff5"
   },
   "outputs": [
    {
     "name": "stdout",
     "output_type": "stream",
     "text": [
      "torch.Size([1, 3, 28, 28])\n"
     ]
    },
    {
     "data": {
      "image/png": "[encoded data removed]",
      "text/plain": [
       "<Figure size 432x288 with 1 Axes>"
      ]
     },
     "metadata": {
      "needs_background": "light"
     },
     "output_type": "display_data"
    },
    {
     "data": {
      "image/png": "[encoded data removed]",
      "text/plain": [
       "<Figure size 432x288 with 1 Axes>"
      ]
     },
     "metadata": {
      "needs_background": "light"
     },
     "output_type": "display_data"
    },
    {
     "data": {
      "image/png": "[encoded data removed]",
      "text/plain": [
       "<Figure size 432x288 with 1 Axes>"
      ]
     },
     "metadata": {
      "needs_background": "light"
     },
     "output_type": "display_data"
    }
   ],
   "source": [
    "# 먼저 트레이닝 데이터의 첫번째 이미지-라벨 쌍을 불러옵니다.\n",
    "image,label = mnist_train[0]\n",
    "\n",
    "# nn.Conv2d 연산을 적용할 수 있도록 이미지 데이터의 형태를 [1,1,28,28]로 만들어줍니다.\n",
    "# 이는 view 말고도 unsqueeze 함수로도 구현할 수 있습니다.\n",
    "image = image.view(-1,image.size()[0],image.size()[1],image.size()[2])\n",
    "\n",
    "# 1개의 채널을 입력으로 받아서 3개의 채널이 나오는 컨볼루션 연산을 정의합니다.\n",
    "conv_layer = nn.Conv2d(in_channels=1,out_channels=3,kernel_size=1)\n",
    "\n",
    "# 연산에 입력 이미지를 넣습니다.\n",
    "output = conv_layer(image)\n",
    "\n",
    "# 결과의 형태를 확인합니다. \n",
    "# 연산에서 정의한대로 결과값의 형태는 [1,3,28,28]이 나옵니다. \n",
    "print(output.size())\n",
    "\n",
    "# 출력의 각 채널별 이미지를 띄워봅니다. \n",
    "for i in range(output.size()[1]):\n",
    "    plt.imshow(output[0,i,:,:].data.numpy(),cmap='gray',vmin=-1,vmax=1)\n",
    "    plt.show()"
   ]
  },
  {
   "cell_type": "markdown",
   "metadata": {
    "colab_type": "text",
    "id": "WYfFnwOTnw3V"
   },
   "source": [
    "### 2) Kernel Size\n",
    "- 커널 혹은 필터의 크기가 어떤 역할을 할까?"
   ]
  },
  {
   "cell_type": "code",
   "execution_count": 8,
   "metadata": {
    "colab": {
     "base_uri": "https://localhost:8080/",
     "height": 824
    },
    "colab_type": "code",
    "executionInfo": {
     "elapsed": 1070,
     "status": "ok",
     "timestamp": 1559506619119,
     "user": {
      "displayName": "Choi Gunho",
      "photoUrl": "",
      "userId": "04388737836176863066"
     },
     "user_tz": -540
    },
    "id": "LuC_tVrbnnKX",
    "outputId": "3e84a912-cb2b-4964-d2e3-4d2a4c778184"
   },
   "outputs": [
    {
     "data": {
      "image/png": "[encoded data removed]",
      "text/plain": [
       "<Figure size 432x288 with 1 Axes>"
      ]
     },
     "metadata": {
      "needs_background": "light"
     },
     "output_type": "display_data"
    },
    {
     "name": "stdout",
     "output_type": "stream",
     "text": [
      "커널 사이즈가 1인 경우 결과값의 크기:torch.Size([1, 1, 28, 28])\n"
     ]
    },
    {
     "data": {
      "image/png": "[encoded data removed]",
      "text/plain": [
       "<Figure size 432x288 with 1 Axes>"
      ]
     },
     "metadata": {
      "needs_background": "light"
     },
     "output_type": "display_data"
    },
    {
     "name": "stdout",
     "output_type": "stream",
     "text": [
      "커널 사이즈가 3인 경우 결과값의 크기:torch.Size([1, 1, 26, 26])\n"
     ]
    },
    {
     "data": {
      "image/png": "[encoded data removed]",
      "text/plain": [
       "<Figure size 432x288 with 1 Axes>"
      ]
     },
     "metadata": {
      "needs_background": "light"
     },
     "output_type": "display_data"
    },
    {
     "name": "stdout",
     "output_type": "stream",
     "text": [
      "커널 사이즈가 5인 경우 결과값의 크기:torch.Size([1, 1, 24, 24])\n"
     ]
    }
   ],
   "source": [
    "# 커널 사이즈를 1로 하는 경우\n",
    "conv_layer = nn.Conv2d(in_channels=1,out_channels=1,kernel_size=1)\n",
    "output = conv_layer(image)\n",
    "plt.imshow(output[0,0,:,:].data.numpy(),cmap='gray')\n",
    "plt.show()\n",
    "print(\"커널 사이즈가 1인 경우 결과값의 크기:{}\".format(output.size()))\n",
    "\n",
    "\n",
    "# 커널 사이즈를 3로 하는 경우\n",
    "conv_layer = nn.Conv2d(in_channels=1,out_channels=1,kernel_size=3)\n",
    "output = conv_layer(image)\n",
    "plt.imshow(output[0,0,:,:].data.numpy(),cmap='gray')\n",
    "plt.show()\n",
    "print(\"커널 사이즈가 3인 경우 결과값의 크기:{}\".format(output.size()))\n",
    "\n",
    "\n",
    "# 커널 사이즈를 5로 하는 경우\n",
    "conv_layer = nn.Conv2d(in_channels=1,out_channels=1,kernel_size=5)\n",
    "output = conv_layer(image)\n",
    "plt.imshow(output[0,0,:,:].data.numpy(),cmap='gray')\n",
    "plt.show()\n",
    "print(\"커널 사이즈가 5인 경우 결과값의 크기:{}\".format(output.size()))"
   ]
  },
  {
   "cell_type": "markdown",
   "metadata": {
    "colab_type": "text",
    "id": "8dZrdTzqnwiR"
   },
   "source": [
    "### 3) Stride\n",
    "- 스트라이드를 다르게 하면 어떻게 될까?"
   ]
  },
  {
   "cell_type": "code",
   "execution_count": 9,
   "metadata": {
    "colab": {
     "base_uri": "https://localhost:8080/",
     "height": 824
    },
    "colab_type": "code",
    "executionInfo": {
     "elapsed": 880,
     "status": "ok",
     "timestamp": 1559506808126,
     "user": {
      "displayName": "Choi Gunho",
      "photoUrl": "",
      "userId": "04388737836176863066"
     },
     "user_tz": -540
    },
    "id": "WZyu6PVUn7sc",
    "outputId": "33070046-1a0d-4d6e-f569-67e83fe96470"
   },
   "outputs": [
    {
     "data": {
      "image/png": "[encoded data removed]",
      "text/plain": [
       "<Figure size 432x288 with 1 Axes>"
      ]
     },
     "metadata": {
      "needs_background": "light"
     },
     "output_type": "display_data"
    },
    {
     "name": "stdout",
     "output_type": "stream",
     "text": [
      "스트라이드가 1인 경우 결과값의 크기:torch.Size([1, 1, 28, 28])\n"
     ]
    },
    {
     "data": {
      "image/png": "[encoded data removed]",
      "text/plain": [
       "<Figure size 432x288 with 1 Axes>"
      ]
     },
     "metadata": {
      "needs_background": "light"
     },
     "output_type": "display_data"
    },
    {
     "name": "stdout",
     "output_type": "stream",
     "text": [
      "스트라이드가 3인 경우 결과값의 크기:torch.Size([1, 1, 14, 14])\n"
     ]
    },
    {
     "data": {
      "image/png": "[encoded data removed]",
      "text/plain": [
       "<Figure size 432x288 with 1 Axes>"
      ]
     },
     "metadata": {
      "needs_background": "light"
     },
     "output_type": "display_data"
    },
    {
     "name": "stdout",
     "output_type": "stream",
     "text": [
      "스트라이드가 5인 경우 결과값의 크기:torch.Size([1, 1, 10, 10])\n"
     ]
    }
   ],
   "source": [
    "# 스트라이드가 1인 경우\n",
    "conv_layer = nn.Conv2d(in_channels=1,out_channels=1,kernel_size=1,stride=1)\n",
    "output = conv_layer(image)\n",
    "plt.imshow(output[0,0,:,:].data.numpy(),cmap='gray')\n",
    "plt.show()\n",
    "print(\"스트라이드가 1인 경우 결과값의 크기:{}\".format(output.size()))\n",
    "\n",
    "\n",
    "# 스트라이드가 3인 경우\n",
    "conv_layer = nn.Conv2d(in_channels=1,out_channels=1,kernel_size=1,stride=2)\n",
    "output = conv_layer(image)\n",
    "plt.imshow(output[0,0,:,:].data.numpy(),cmap='gray')\n",
    "plt.show()\n",
    "print(\"스트라이드가 3인 경우 결과값의 크기:{}\".format(output.size()))\n",
    "\n",
    "\n",
    "# 스트라이드가 5인 경우\n",
    "conv_layer = nn.Conv2d(in_channels=1,out_channels=1,kernel_size=1,stride=3)\n",
    "output = conv_layer(image)\n",
    "plt.imshow(output[0,0,:,:].data.numpy(),cmap='gray')\n",
    "plt.show()\n",
    "print(\"스트라이드가 5인 경우 결과값의 크기:{}\".format(output.size()))"
   ]
  },
  {
   "cell_type": "markdown",
   "metadata": {
    "colab_type": "text",
    "id": "6R8hNaicoDF5"
   },
   "source": [
    "### 4) Padding\n",
    "- 패딩을 다르게 주면 어떻게 변할까?"
   ]
  },
  {
   "cell_type": "code",
   "execution_count": 10,
   "metadata": {
    "colab": {
     "base_uri": "https://localhost:8080/",
     "height": 824
    },
    "colab_type": "code",
    "executionInfo": {
     "elapsed": 1106,
     "status": "ok",
     "timestamp": 1559506926477,
     "user": {
      "displayName": "Choi Gunho",
      "photoUrl": "",
      "userId": "04388737836176863066"
     },
     "user_tz": -540
    },
    "id": "KDnnRiMPn_qf",
    "outputId": "42f2c3d1-a0a7-4e46-88ae-e292c7294706"
   },
   "outputs": [
    {
     "data": {
      "image/png": "[encoded data removed]",
      "text/plain": [
       "<Figure size 432x288 with 1 Axes>"
      ]
     },
     "metadata": {
      "needs_background": "light"
     },
     "output_type": "display_data"
    },
    {
     "name": "stdout",
     "output_type": "stream",
     "text": [
      "패딩이 0인 경우 결과값의 크기:torch.Size([1, 1, 28, 28])\n"
     ]
    },
    {
     "data": {
      "image/png": "[encoded data removed]",
      "text/plain": [
       "<Figure size 432x288 with 1 Axes>"
      ]
     },
     "metadata": {
      "needs_background": "light"
     },
     "output_type": "display_data"
    },
    {
     "name": "stdout",
     "output_type": "stream",
     "text": [
      "패딩이 1인 경우 결과값의 크기:torch.Size([1, 11, 30, 30])\n"
     ]
    },
    {
     "data": {
      "image/png": "[encoded data removed]",
      "text/plain": [
       "<Figure size 432x288 with 1 Axes>"
      ]
     },
     "metadata": {
      "needs_background": "light"
     },
     "output_type": "display_data"
    },
    {
     "name": "stdout",
     "output_type": "stream",
     "text": [
      "패딩이 2인 경우 결과값의 크기:torch.Size([1, 1, 32, 32])\n"
     ]
    }
   ],
   "source": [
    "# 패딩이 없는 경우\n",
    "conv_layer = nn.Conv2d(in_channels=1,out_channels=1,kernel_size=1,padding=0)\n",
    "output = conv_layer(image)\n",
    "plt.imshow(output[0,0,:,:].data.numpy(),cmap='gray')\n",
    "plt.show()\n",
    "print(\"패딩이 0인 경우 결과값의 크기:{}\".format(output.size()))\n",
    "\n",
    "# 패딩이 1인 경우\n",
    "conv_layer = nn.Conv2d(in_channels=1,out_channels=11,kernel_size=1,padding=1)\n",
    "output = conv_layer(image)\n",
    "plt.imshow(output[0,0,:,:].data.numpy(),cmap='gray')\n",
    "plt.show()\n",
    "print(\"패딩이 1인 경우 결과값의 크기:{}\".format(output.size()))\n",
    "\n",
    "# 패딩이 2인 경우\n",
    "conv_layer = nn.Conv2d(in_channels=1,out_channels=1,kernel_size=1,padding=2)\n",
    "output = conv_layer(image)\n",
    "plt.imshow(output[0,0,:,:].data.numpy(),cmap='gray')\n",
    "plt.show()\n",
    "print(\"패딩이 2인 경우 결과값의 크기:{}\".format(output.size()))"
   ]
  },
  {
   "cell_type": "code",
   "execution_count": null,
   "metadata": {},
   "outputs": [],
   "source": []
  }
 ],
 "metadata": {
  "colab": {
   "collapsed_sections": [],
   "name": "[참고] 컨볼루션 연산의 파라미터 살펴보기.ipynb",
   "provenance": [],
   "version": "0.3.2"
  },
  "kernelspec": {
   "display_name": "Python 3",
   "language": "python",
   "name": "python3"
  },
  "language_info": {
   "codemirror_mode": {
    "name": "ipython",
    "version": 3
   },
   "file_extension": ".py",
   "mimetype": "text/x-python",
   "name": "python",
   "nbconvert_exporter": "python",
   "pygments_lexer": "ipython3",
   "version": "3.7.3"
  }
 },
 "nbformat": 4,
 "nbformat_minor": 2
}
