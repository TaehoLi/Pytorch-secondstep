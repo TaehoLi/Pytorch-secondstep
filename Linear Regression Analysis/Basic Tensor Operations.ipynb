{
 "cells": [
  {
   "cell_type": "markdown",
   "metadata": {
    "colab_type": "text",
    "id": "-yHdn_y1CBHF"
   },
   "source": [
    "# PyTorch Tensor Basic Usage\n",
    "- Create Tensor\n",
    "- Indexing, Joining, Slicing, Squeezing\n",
    "- Initialization\n",
    "- Math Operations"
   ]
  },
  {
   "cell_type": "markdown",
   "metadata": {
    "colab_type": "text",
    "id": "81muwqKxOUD8"
   },
   "source": [
    "### Import Required Libraries"
   ]
  },
  {
   "cell_type": "code",
   "execution_count": 3,
   "metadata": {
    "colab": {
     "base_uri": "https://localhost:8080/",
     "height": 119
    },
    "colab_type": "code",
    "executionInfo": {
     "elapsed": 8665,
     "status": "ok",
     "timestamp": 1559294353488,
     "user": {
      "displayName": "Choi Gunho",
      "photoUrl": "",
      "userId": "04388737836176863066"
     },
     "user_tz": -540
    },
    "id": "BDG6uRfVOSmY",
    "outputId": "62985121-5bae-43bb-b886-4dbcda2d72b2"
   },
   "outputs": [],
   "source": [
    "#!pip3 install torch torchvision\n",
    "import torch"
   ]
  },
  {
   "cell_type": "markdown",
   "metadata": {
    "colab_type": "text",
    "id": "1uSLN_6YCU9s"
   },
   "source": [
    "## 1. Create Tensor\n",
    "\n"
   ]
  },
  {
   "cell_type": "markdown",
   "metadata": {
    "colab_type": "text",
    "id": "njZjSmiuRHUW"
   },
   "source": [
    "### 1) Random Numbers\n",
    "- torch.rand()\n",
    "- torch.randn()\n",
    "- torch.randint()"
   ]
  },
  {
   "cell_type": "code",
   "execution_count": 4,
   "metadata": {
    "colab": {
     "base_uri": "https://localhost:8080/",
     "height": 51
    },
    "colab_type": "code",
    "executionInfo": {
     "elapsed": 8653,
     "status": "ok",
     "timestamp": 1559294353493,
     "user": {
      "displayName": "Choi Gunho",
      "photoUrl": "",
      "userId": "04388737836176863066"
     },
     "user_tz": -540
    },
    "id": "fyOeO-xGOEem",
    "outputId": "1e51e12d-9d79-4a65-bae9-a5235c6479d5"
   },
   "outputs": [
    {
     "data": {
      "text/plain": [
       "tensor([[0.8789, 0.2112, 0.1319],\n",
       "        [0.1534, 0.1240, 0.3058]])"
      ]
     },
     "execution_count": 4,
     "metadata": {},
     "output_type": "execute_result"
    }
   ],
   "source": [
    "# https://pytorch.org/docs/stable/torch.html?highlight=rand#torch.rand\n",
    "# torch.rand(sizes) -> [0,1)\n",
    "# 0에서 1사이의 랜덤한 숫자\n",
    "x = torch.rand(2,3)\n",
    "x"
   ]
  },
  {
   "cell_type": "code",
   "execution_count": 5,
   "metadata": {
    "colab": {
     "base_uri": "https://localhost:8080/",
     "height": 51
    },
    "colab_type": "code",
    "executionInfo": {
     "elapsed": 8631,
     "status": "ok",
     "timestamp": 1559294353494,
     "user": {
      "displayName": "Choi Gunho",
      "photoUrl": "",
      "userId": "04388737836176863066"
     },
     "user_tz": -540
    },
    "id": "fZOKIjYvCddH",
    "outputId": "754d50e5-1608-4ba9-a23c-c90c5a8ba870"
   },
   "outputs": [
    {
     "data": {
      "text/plain": [
       "tensor([[-0.9978,  0.0926, -0.3512],\n",
       "        [-0.8538,  1.7504, -0.5391]])"
      ]
     },
     "execution_count": 5,
     "metadata": {},
     "output_type": "execute_result"
    }
   ],
   "source": [
    "# https://pytorch.org/docs/stable/torch.html?highlight=randn#torch.randn\n",
    "# Random Normal\n",
    "# 정규분포에서 샘플링한 값\n",
    "x = torch.randn(2,3)\n",
    "x"
   ]
  },
  {
   "cell_type": "code",
   "execution_count": 6,
   "metadata": {
    "colab": {
     "base_uri": "https://localhost:8080/",
     "height": 51
    },
    "colab_type": "code",
    "executionInfo": {
     "elapsed": 8616,
     "status": "ok",
     "timestamp": 1559294353495,
     "user": {
      "displayName": "Choi Gunho",
      "photoUrl": "",
      "userId": "04388737836176863066"
     },
     "user_tz": -540
    },
    "id": "nSW3FCNYCtUZ",
    "outputId": "9792eb19-28b7-4a54-d0fb-6b4d35070ef2"
   },
   "outputs": [
    {
     "data": {
      "text/plain": [
       "tensor([[2, 2, 3],\n",
       "        [3, 3, 2]])"
      ]
     },
     "execution_count": 6,
     "metadata": {},
     "output_type": "execute_result"
    }
   ],
   "source": [
    "# https://pytorch.org/docs/stable/torch.html?highlight=rand#torch.randint\n",
    "# Random Integer\n",
    "# 시작과 끝 사이의 랜덤한 자연수\n",
    "x = torch.randint(2,5,size=(2,3))\n",
    "x"
   ]
  },
  {
   "cell_type": "markdown",
   "metadata": {
    "colab_type": "text",
    "id": "OGHNHGwLP4Oh"
   },
   "source": [
    "### 2) zeros & ones\n",
    "- torch.ones()\n",
    "- torch.ones_like()\n",
    "- torch.zeros()\n",
    "- torch.zeros_like()"
   ]
  },
  {
   "cell_type": "code",
   "execution_count": 7,
   "metadata": {
    "colab": {
     "base_uri": "https://localhost:8080/",
     "height": 51
    },
    "colab_type": "code",
    "executionInfo": {
     "elapsed": 8607,
     "status": "ok",
     "timestamp": 1559294353495,
     "user": {
      "displayName": "Choi Gunho",
      "photoUrl": "",
      "userId": "04388737836176863066"
     },
     "user_tz": -540
    },
    "id": "Xqts1MqkCxAV",
    "outputId": "40918aa1-a173-43c9-918d-04e79287387f"
   },
   "outputs": [
    {
     "data": {
      "text/plain": [
       "tensor([[0., 0., 0.],\n",
       "        [0., 0., 0.]])"
      ]
     },
     "execution_count": 7,
     "metadata": {},
     "output_type": "execute_result"
    }
   ],
   "source": [
    "# https://pytorch.org/docs/stable/torch.html?highlight=zeros#torch.zeros\n",
    "# torch.zeros(2,3) -> [[0,0,0],[0,0,0]]\n",
    "# 0으로 채워진 텐서\n",
    "x = torch.zeros(2,3)\n",
    "x"
   ]
  },
  {
   "cell_type": "code",
   "execution_count": 8,
   "metadata": {
    "colab": {
     "base_uri": "https://localhost:8080/",
     "height": 85
    },
    "colab_type": "code",
    "executionInfo": {
     "elapsed": 8596,
     "status": "ok",
     "timestamp": 1559294353496,
     "user": {
      "displayName": "Choi Gunho",
      "photoUrl": "",
      "userId": "04388737836176863066"
     },
     "user_tz": -540
    },
    "id": "DC7BvwGVQcGo",
    "outputId": "7c4a2157-7b98-4ef4-8b5e-1a6a05f7f71e"
   },
   "outputs": [
    {
     "data": {
      "text/plain": [
       "tensor([[0., 0., 0., 0., 0.],\n",
       "        [0., 0., 0., 0., 0.],\n",
       "        [0., 0., 0., 0., 0.],\n",
       "        [0., 0., 0., 0., 0.]])"
      ]
     },
     "execution_count": 8,
     "metadata": {},
     "output_type": "execute_result"
    }
   ],
   "source": [
    "# https://pytorch.org/docs/stable/torch.html?highlight=zeros#torch.zeros_like\n",
    "# same shape tensor filled with zeros\n",
    "# 인자로 들어오는 텐서와 형태가 같은 0으로 채워진 텐서\n",
    "ref = torch.rand(4,5)\n",
    "x = torch.zeros_like(ref)\n",
    "x"
   ]
  },
  {
   "cell_type": "code",
   "execution_count": 9,
   "metadata": {
    "colab": {
     "base_uri": "https://localhost:8080/",
     "height": 51
    },
    "colab_type": "code",
    "executionInfo": {
     "elapsed": 8586,
     "status": "ok",
     "timestamp": 1559294353497,
     "user": {
      "displayName": "Choi Gunho",
      "photoUrl": "",
      "userId": "04388737836176863066"
     },
     "user_tz": -540
    },
    "id": "W1bb_T4XQA01",
    "outputId": "5bfbaadc-176b-4995-8d68-6b18972984bc"
   },
   "outputs": [
    {
     "data": {
      "text/plain": [
       "tensor([[1., 1., 1.],\n",
       "        [1., 1., 1.]])"
      ]
     },
     "execution_count": 9,
     "metadata": {},
     "output_type": "execute_result"
    }
   ],
   "source": [
    "# https://pytorch.org/docs/stable/torch.html?highlight=ones#torch.ones\n",
    "# torch.ones(2,3) -> [[1,1,1],[1,1,]]\n",
    "# 1로 채워진 텐서\n",
    "x = torch.ones(2,3)\n",
    "x"
   ]
  },
  {
   "cell_type": "code",
   "execution_count": 10,
   "metadata": {
    "colab": {
     "base_uri": "https://localhost:8080/",
     "height": 85
    },
    "colab_type": "code",
    "executionInfo": {
     "elapsed": 8577,
     "status": "ok",
     "timestamp": 1559294353497,
     "user": {
      "displayName": "Choi Gunho",
      "photoUrl": "",
      "userId": "04388737836176863066"
     },
     "user_tz": -540
    },
    "id": "Cz0sKrgAQEDx",
    "outputId": "277d63be-4045-4d5e-a44c-d7938b49d56b"
   },
   "outputs": [
    {
     "data": {
      "text/plain": [
       "tensor([[1., 1., 1., 1., 1.],\n",
       "        [1., 1., 1., 1., 1.],\n",
       "        [1., 1., 1., 1., 1.],\n",
       "        [1., 1., 1., 1., 1.]])"
      ]
     },
     "execution_count": 10,
     "metadata": {},
     "output_type": "execute_result"
    }
   ],
   "source": [
    "# https://pytorch.org/docs/stable/torch.html?highlight=ones_like#torch.ones_like\n",
    "# same shape tensor filled with ones\n",
    "# 인자로 들어오는 텐서와 형태가 같은 1로 채워진 텐서\n",
    "ref = torch.rand(4,5)\n",
    "x = torch.ones_like(ref)\n",
    "x"
   ]
  },
  {
   "cell_type": "markdown",
   "metadata": {
    "colab_type": "text",
    "id": "ggalWnMpRCAU"
   },
   "source": [
    "### 3) Tensor Data Type\n",
    "\n",
    "- tensor.type()\n",
    "- tensor.type_as()"
   ]
  },
  {
   "cell_type": "code",
   "execution_count": 11,
   "metadata": {
    "colab": {
     "base_uri": "https://localhost:8080/",
     "height": 51
    },
    "colab_type": "code",
    "executionInfo": {
     "elapsed": 8568,
     "status": "ok",
     "timestamp": 1559294353498,
     "user": {
      "displayName": "Choi Gunho",
      "photoUrl": "",
      "userId": "04388737836176863066"
     },
     "user_tz": -540
    },
    "id": "mHdR-E9PQ8Tk",
    "outputId": "50daa574-5ec6-4857-d623-c46776891c0e"
   },
   "outputs": [
    {
     "name": "stdout",
     "output_type": "stream",
     "text": [
      "torch.FloatTensor\n",
      "<class 'torch.Tensor'>\n"
     ]
    }
   ],
   "source": [
    "# https://pytorch.org/docs/stable/tensors.html?highlight=type#torch.Tensor.type\n",
    "# without dtype, returns type of tensor\n",
    "# tensor.type()은 해당 텐서의 타입을 리턴하고 type(tensor)는 토치의 텐서 클래스라는 것을 리턴함\n",
    "\n",
    "x = torch.rand(2,3)\n",
    "print(x.type())\n",
    "print(type(x))"
   ]
  },
  {
   "cell_type": "code",
   "execution_count": 12,
   "metadata": {
    "colab": {
     "base_uri": "https://localhost:8080/",
     "height": 34
    },
    "colab_type": "code",
    "executionInfo": {
     "elapsed": 8560,
     "status": "ok",
     "timestamp": 1559294353500,
     "user": {
      "displayName": "Choi Gunho",
      "photoUrl": "",
      "userId": "04388737836176863066"
     },
     "user_tz": -540
    },
    "id": "ZoYyAb1qRbNx",
    "outputId": "af4a7abd-2a90-4ec7-aa3d-a36a5d72c0a3"
   },
   "outputs": [
    {
     "name": "stdout",
     "output_type": "stream",
     "text": [
      "torch.DoubleTensor\n"
     ]
    }
   ],
   "source": [
    "# with dtype, cast the object to the dtype\n",
    "# tensor.type()을 dtype과 함께 사용하면 텐서의 데이터 타입을 dtype에 넣어준 데이터 타입으로 바꿔줍니다.\n",
    "double_x = x.type(dtype=torch.DoubleTensor)\n",
    "print(double_x.type())"
   ]
  },
  {
   "cell_type": "code",
   "execution_count": 13,
   "metadata": {
    "colab": {
     "base_uri": "https://localhost:8080/",
     "height": 34
    },
    "colab_type": "code",
    "executionInfo": {
     "elapsed": 8553,
     "status": "ok",
     "timestamp": 1559294353501,
     "user": {
      "displayName": "Choi Gunho",
      "photoUrl": "",
      "userId": "04388737836176863066"
     },
     "user_tz": -540
    },
    "id": "IGVQezVQST05",
    "outputId": "1866eb5f-16be-493c-8770-598fae46c866"
   },
   "outputs": [
    {
     "name": "stdout",
     "output_type": "stream",
     "text": [
      "torch.IntTensor\n"
     ]
    }
   ],
   "source": [
    "# https://pytorch.org/docs/stable/tensors.html?highlight=type#torch.Tensor.type_as\n",
    "# 위의 type 함수와 유사하게 type_as라는 함수를 사용해 데이터타입을 바꿀 수 있습니다.\n",
    "int_x = x.type_as(torch.IntTensor())\n",
    "print(int_x.type())"
   ]
  },
  {
   "cell_type": "markdown",
   "metadata": {
    "colab_type": "text",
    "id": "hKhD0Ul4THRO"
   },
   "source": [
    "### 4) Numpy to Tensor, Tensor to Numpy\n",
    "- torch.from_numpy()\n",
    "- tensor.numpy()\n"
   ]
  },
  {
   "cell_type": "code",
   "execution_count": 14,
   "metadata": {
    "colab": {
     "base_uri": "https://localhost:8080/",
     "height": 51
    },
    "colab_type": "code",
    "executionInfo": {
     "elapsed": 8545,
     "status": "ok",
     "timestamp": 1559294353502,
     "user": {
      "displayName": "Choi Gunho",
      "photoUrl": "",
      "userId": "04388737836176863066"
     },
     "user_tz": -540
    },
    "id": "iBajTUrvSdIc",
    "outputId": "351c584d-bce9-4539-eee1-1f2543afdc53"
   },
   "outputs": [
    {
     "data": {
      "text/plain": [
       "(tensor([[1, 2, 3],\n",
       "         [4, 5, 6]], dtype=torch.int32), 'torch.IntTensor')"
      ]
     },
     "execution_count": 14,
     "metadata": {},
     "output_type": "execute_result"
    }
   ],
   "source": [
    "# https://pytorch.org/docs/stable/torch.html?highlight=from_numpy#torch.from_numpy\n",
    "# torch.from_numpy(ndarray) -> tensor\n",
    "# from_numpy 함수를 이용해 넘파이 배열을 토치텐서로 바꿀 수 있습니다.\n",
    "\n",
    "import numpy as np\n",
    "\n",
    "x1 = np.ndarray(shape=(2,3), dtype=int,buffer=np.array([1,2,3,4,5,6]))\n",
    "x2 = torch.from_numpy(x1)\n",
    "\n",
    "x2,x2.type()"
   ]
  },
  {
   "cell_type": "code",
   "execution_count": 15,
   "metadata": {
    "colab": {
     "base_uri": "https://localhost:8080/",
     "height": 51
    },
    "colab_type": "code",
    "executionInfo": {
     "elapsed": 8536,
     "status": "ok",
     "timestamp": 1559294353502,
     "user": {
      "displayName": "Choi Gunho",
      "photoUrl": "",
      "userId": "04388737836176863066"
     },
     "user_tz": -540
    },
    "id": "EFxZYPvgTRdO",
    "outputId": "0462d409-a8d7-44bd-c9e1-9759d483f479"
   },
   "outputs": [
    {
     "data": {
      "text/plain": [
       "array([[1, 2, 3],\n",
       "       [4, 5, 6]])"
      ]
     },
     "execution_count": 15,
     "metadata": {},
     "output_type": "execute_result"
    }
   ],
   "source": [
    "# https://pytorch.org/docs/stable/tensors.html?highlight=numpy#torch.Tensor.numpy\n",
    "# tensor.numpy() -> ndarray\n",
    "# 반대로 토치 텐서를 .numpy() 를 통해 넘파이 배열로 바꿀 수 있습니다.\n",
    "\n",
    "x3 = x2.numpy()\n",
    "x3"
   ]
  },
  {
   "cell_type": "markdown",
   "metadata": {
    "colab_type": "text",
    "id": "gU7jVlvUTnDL"
   },
   "source": [
    "### 5) Tensor on CPU & GPU\n",
    "\n"
   ]
  },
  {
   "cell_type": "code",
   "execution_count": 16,
   "metadata": {
    "colab": {
     "base_uri": "https://localhost:8080/",
     "height": 51
    },
    "colab_type": "code",
    "executionInfo": {
     "elapsed": 8529,
     "status": "ok",
     "timestamp": 1559294353503,
     "user": {
      "displayName": "Choi Gunho",
      "photoUrl": "",
      "userId": "04388737836176863066"
     },
     "user_tz": -540
    },
    "id": "oCQSUV4GTZJ5",
    "outputId": "146a316e-93ec-47c4-fb9b-119d8d5b4e2f"
   },
   "outputs": [
    {
     "data": {
      "text/plain": [
       "tensor([[1., 2., 3.],\n",
       "        [4., 5., 6.]])"
      ]
     },
     "execution_count": 16,
     "metadata": {},
     "output_type": "execute_result"
    }
   ],
   "source": [
    "# 배열을 인자로 넣어 토치 텐서를 생성할 수 있습니다.\n",
    "\n",
    "x = torch.FloatTensor([[1,2,3],[4,5,6]])\n",
    "x"
   ]
  },
  {
   "cell_type": "code",
   "execution_count": 17,
   "metadata": {
    "colab": {
     "base_uri": "https://localhost:8080/",
     "height": 85
    },
    "colab_type": "code",
    "executionInfo": {
     "elapsed": 13081,
     "status": "ok",
     "timestamp": 1559294358065,
     "user": {
      "displayName": "Choi Gunho",
      "photoUrl": "",
      "userId": "04388737836176863066"
     },
     "user_tz": -540
    },
    "id": "g2s1nfdxUd6Y",
    "outputId": "b960f1eb-e7be-41a7-c8ac-b7fa9c1075fa"
   },
   "outputs": [
    {
     "name": "stdout",
     "output_type": "stream",
     "text": [
      "tensor([[1., 2., 3.],\n",
      "        [4., 5., 6.]], device='cuda:0')\n",
      "tensor([[1., 2., 3.],\n",
      "        [4., 5., 6.]])\n"
     ]
    }
   ],
   "source": [
    "# https://pytorch.org/docs/stable/cuda.html?highlight=device#torch.cuda.device\n",
    "# device 함수를 사용해 텐서를 원하는 장치로 이동시킬 수 있습니다.\n",
    "cpu = torch.device('cpu')\n",
    "gpu = torch.device('cuda')\n",
    "\n",
    "# https://pytorch.org/docs/stable/cuda.html?highlight=available#torch.cuda.is_available\n",
    "# gpu가 사용 가능한지 체크해줍니다.\n",
    "if torch.cuda.is_available():\n",
    "    # https://pytorch.org/docs/stable/tensors.html?highlight=#torch.Tensor.to\n",
    "    # .to 함수를 이용해 지정한 장치로 이동시켜줍니다.\n",
    "    x_gpu = x.to(gpu)\n",
    "    print(x_gpu)\n",
    "\n",
    "x_cpu = x_gpu.to(cpu)\n",
    "print(x_cpu)"
   ]
  },
  {
   "cell_type": "markdown",
   "metadata": {
    "colab_type": "text",
    "id": "hLwCiOJgVaxu"
   },
   "source": [
    "### 6) Tensor Size"
   ]
  },
  {
   "cell_type": "code",
   "execution_count": 18,
   "metadata": {
    "colab": {
     "base_uri": "https://localhost:8080/",
     "height": 34
    },
    "colab_type": "code",
    "executionInfo": {
     "elapsed": 13074,
     "status": "ok",
     "timestamp": 1559294358066,
     "user": {
      "displayName": "Choi Gunho",
      "photoUrl": "",
      "userId": "04388737836176863066"
     },
     "user_tz": -540
    },
    "id": "XIGOendjUyUv",
    "outputId": "0d7d51d1-44b0-4f01-b8f3-d24a78c21b26"
   },
   "outputs": [
    {
     "data": {
      "text/plain": [
       "(torch.Size([10, 12, 3, 3]), torch.Size([12]))"
      ]
     },
     "execution_count": 18,
     "metadata": {},
     "output_type": "execute_result"
    }
   ],
   "source": [
    "# https://pytorch.org/docs/stable/tensors.html?highlight=size#torch.Tensor.size\n",
    "# size 함수를 이용해 텐서의 형태를 알 수 있습니다.\n",
    "x = torch.FloatTensor(10,12,3,3)\n",
    "x.size(), x.size()[1:2]"
   ]
  },
  {
   "cell_type": "markdown",
   "metadata": {
    "colab_type": "text",
    "id": "BaUHQmoGV7cJ"
   },
   "source": [
    "## 2. Indexing, Joining, Slicing & Squeezing\n"
   ]
  },
  {
   "cell_type": "markdown",
   "metadata": {
    "colab_type": "text",
    "id": "oqgZ4H0VV-bJ"
   },
   "source": [
    "### 1) Indexing\n",
    "\n",
    "- torch.index_select()\n",
    "- torch.masked_select()"
   ]
  },
  {
   "cell_type": "code",
   "execution_count": 19,
   "metadata": {
    "colab": {
     "base_uri": "https://localhost:8080/",
     "height": 85
    },
    "colab_type": "code",
    "executionInfo": {
     "elapsed": 13067,
     "status": "ok",
     "timestamp": 1559294358067,
     "user": {
      "displayName": "Choi Gunho",
      "photoUrl": "",
      "userId": "04388737836176863066"
     },
     "user_tz": -540
    },
    "id": "l1LBaUPcVeDZ",
    "outputId": "a4c159f8-e987-40d0-ec4f-8868467baaf6"
   },
   "outputs": [
    {
     "name": "stdout",
     "output_type": "stream",
     "text": [
      "tensor([[-0.6696,  0.1110,  0.2212],\n",
      "        [ 0.7585,  0.6587,  0.2140],\n",
      "        [-0.2928,  1.1247,  0.1101],\n",
      "        [ 1.1167,  0.4320,  1.6208]])\n"
     ]
    }
   ],
   "source": [
    "# 임의의 텐서를 생성합니다.\n",
    "x = torch.randn(4,3)\n",
    "print(x)"
   ]
  },
  {
   "cell_type": "code",
   "execution_count": 20,
   "metadata": {
    "colab": {
     "base_uri": "https://localhost:8080/",
     "height": 51
    },
    "colab_type": "code",
    "executionInfo": {
     "elapsed": 13054,
     "status": "ok",
     "timestamp": 1559294358067,
     "user": {
      "displayName": "Choi Gunho",
      "photoUrl": "",
      "userId": "04388737836176863066"
     },
     "user_tz": -540
    },
    "id": "CH7-RioMWusl",
    "outputId": "b5f012b7-5dec-4092-cfd4-a4ebf3428708"
   },
   "outputs": [
    {
     "data": {
      "text/plain": [
       "tensor([[ 0.7585,  0.6587,  0.2140],\n",
       "        [-0.2928,  1.1247,  0.1101]])"
      ]
     },
     "execution_count": 20,
     "metadata": {},
     "output_type": "execute_result"
    }
   ],
   "source": [
    "# middle 2 rows\n",
    "# 토치 텐서 역시 기존 파이썬 인덱싱을 똑같이 쓸 수 있습니다.\n",
    "x[1:3,:]"
   ]
  },
  {
   "cell_type": "code",
   "execution_count": 21,
   "metadata": {
    "colab": {
     "base_uri": "https://localhost:8080/",
     "height": 85
    },
    "colab_type": "code",
    "executionInfo": {
     "elapsed": 13047,
     "status": "ok",
     "timestamp": 1559294358068,
     "user": {
      "displayName": "Choi Gunho",
      "photoUrl": "",
      "userId": "04388737836176863066"
     },
     "user_tz": -540
    },
    "id": "NfJlsiv4WKla",
    "outputId": "0982461d-e14c-43c9-fc10-76777013194e"
   },
   "outputs": [
    {
     "data": {
      "text/plain": [
       "tensor([[-0.6696,  0.2212],\n",
       "        [ 0.7585,  0.2140],\n",
       "        [-0.2928,  0.1101],\n",
       "        [ 1.1167,  1.6208]])"
      ]
     },
     "execution_count": 21,
     "metadata": {},
     "output_type": "execute_result"
    }
   ],
   "source": [
    "# https://pytorch.org/docs/stable/torch.html?highlight=index_select#torch.index_select\n",
    "# index select along dimension 1\n",
    "# index_select 함수를 사용해 지정한 차원 기준으로 원하는 값들을 뽑아낼 수 있습니다.\n",
    "\n",
    "selected = torch.index_select(x,dim=1,index=torch.LongTensor([0,2]))\n",
    "selected"
   ]
  },
  {
   "cell_type": "code",
   "execution_count": 22,
   "metadata": {
    "colab": {
     "base_uri": "https://localhost:8080/",
     "height": 136
    },
    "colab_type": "code",
    "executionInfo": {
     "elapsed": 13039,
     "status": "ok",
     "timestamp": 1559294358069,
     "user": {
      "displayName": "Choi Gunho",
      "photoUrl": "",
      "userId": "04388737836176863066"
     },
     "user_tz": -540
    },
    "id": "u74cPmFmWcSR",
    "outputId": "d095b0b0-1191-4789-9170-035d0154bd87"
   },
   "outputs": [
    {
     "name": "stdout",
     "output_type": "stream",
     "text": [
      "tensor([[-0.1004,  0.6535, -0.5698],\n",
      "        [ 0.0989, -0.8636, -0.4271]])\n",
      "\n",
      "tensor([[0, 0, 1],\n",
      "        [0, 1, 0]], dtype=torch.uint8)\n",
      "\n",
      "tensor([-0.5698, -0.8636])\n"
     ]
    }
   ],
   "source": [
    "# https://pytorch.org/docs/stable/torch.html?highlight=masked_select#torch.masked_select\n",
    "# torch.masked_select(input, mask)\n",
    "# masked_select를 통해 뽑고자 하는 값들을 마스킹해서 선택할 수 있습니다.\n",
    "\n",
    "x = torch.randn(2,3)\n",
    "mask = torch.ByteTensor([[0,0,1],[0,1,0]])\n",
    "out = torch.masked_select(x,mask)\n",
    "\n",
    "print(x, mask, out, sep=\"\\n\\n\")"
   ]
  },
  {
   "cell_type": "markdown",
   "metadata": {
    "colab_type": "text",
    "id": "Vc03BkR7YFlP"
   },
   "source": [
    "### 2) Joining\n",
    "- torch.cat()\n",
    "- torch.stack()"
   ]
  },
  {
   "cell_type": "code",
   "execution_count": 23,
   "metadata": {
    "colab": {
     "base_uri": "https://localhost:8080/",
     "height": 238
    },
    "colab_type": "code",
    "executionInfo": {
     "elapsed": 13028,
     "status": "ok",
     "timestamp": 1559294358069,
     "user": {
      "displayName": "Choi Gunho",
      "photoUrl": "",
      "userId": "04388737836176863066"
     },
     "user_tz": -540
    },
    "id": "SVAxXNkeXLko",
    "outputId": "89f2c08d-8398-4439-8bac-173722c8f471"
   },
   "outputs": [
    {
     "name": "stdout",
     "output_type": "stream",
     "text": [
      "tensor([[1., 2., 3.],\n",
      "        [4., 5., 6.]])\n",
      "\n",
      "tensor([[-1., -2., -3.],\n",
      "        [-4., -5., -6.]])\n",
      "\n",
      "tensor([[ 1.,  2.,  3.],\n",
      "        [ 4.,  5.,  6.],\n",
      "        [-1., -2., -3.],\n",
      "        [-4., -5., -6.]])\n",
      "\n",
      "tensor([[ 1.,  2.,  3., -1., -2., -3.],\n",
      "        [ 4.,  5.,  6., -4., -5., -6.]])\n"
     ]
    }
   ],
   "source": [
    "# https://pytorch.org/docs/stable/torch.html?highlight=torch%20cat#torch.cat\n",
    "# torch.cat(seq, dim=0) -> concatenate tensor along dim\n",
    "# cat 함수를 이용해 텐서를 원하는대로 붙일 수 있습니다.\n",
    "# cat은 concatenate의 약자입니다.\n",
    "\n",
    "x = torch.FloatTensor([[1,2,3],[4,5,6]])\n",
    "y = torch.FloatTensor([[-1,-2,-3],[-4,-5,-6]])\n",
    "z1 = torch.cat([x,y],dim=0)\n",
    "z2 = torch.cat([x,y],dim=1)\n",
    "\n",
    "print(x,y,z1,z2,sep=\"\\n\\n\")"
   ]
  },
  {
   "cell_type": "code",
   "execution_count": 24,
   "metadata": {
    "colab": {
     "base_uri": "https://localhost:8080/",
     "height": 238
    },
    "colab_type": "code",
    "executionInfo": {
     "elapsed": 13019,
     "status": "ok",
     "timestamp": 1559294358070,
     "user": {
      "displayName": "Choi Gunho",
      "photoUrl": "",
      "userId": "04388737836176863066"
     },
     "user_tz": -540
    },
    "id": "XDcuI6s1YNyP",
    "outputId": "23ede18e-af31-464f-aff0-11cc26150769"
   },
   "outputs": [
    {
     "name": "stdout",
     "output_type": "stream",
     "text": [
      "tensor([[[1., 2., 3.],\n",
      "         [4., 5., 6.]],\n",
      "\n",
      "        [[1., 2., 3.],\n",
      "         [4., 5., 6.]],\n",
      "\n",
      "        [[1., 2., 3.],\n",
      "         [4., 5., 6.]],\n",
      "\n",
      "        [[1., 2., 3.],\n",
      "         [4., 5., 6.]]])\n",
      "\n",
      "torch.Size([4, 2, 3])\n"
     ]
    }
   ],
   "source": [
    "# https://pytorch.org/docs/stable/torch.html?highlight=torch%20stack#torch.stack\n",
    "# torch.stack(sequence,dim=0) -> stack along new dim\n",
    "# stack 함수를 통해 텐서를 붙일수도 있습니다.\n",
    "\n",
    "x = torch.FloatTensor([[1,2,3],[4,5,6]])\n",
    "x_stack = torch.stack([x,x,x,x],dim=0)\n",
    "\n",
    "print(x_stack,x_stack.size(),sep=\"\\n\\n\")"
   ]
  },
  {
   "cell_type": "markdown",
   "metadata": {
    "colab_type": "text",
    "id": "rJYr1WIDY2iW"
   },
   "source": [
    "### 3) Slicing\n",
    "- torch.chunk()\n",
    "- torch.split()"
   ]
  },
  {
   "cell_type": "code",
   "execution_count": 25,
   "metadata": {
    "colab": {
     "base_uri": "https://localhost:8080/",
     "height": 425
    },
    "colab_type": "code",
    "executionInfo": {
     "elapsed": 13010,
     "status": "ok",
     "timestamp": 1559294358070,
     "user": {
      "displayName": "Choi Gunho",
      "photoUrl": "",
      "userId": "04388737836176863066"
     },
     "user_tz": -540
    },
    "id": "Fn55J-T2Yjp1",
    "outputId": "2e22c418-3af1-44c8-f0cf-82d1cc41df73"
   },
   "outputs": [
    {
     "name": "stdout",
     "output_type": "stream",
     "text": [
      "tensor([[ 1.,  2.,  3.],\n",
      "        [ 4.,  5.,  6.],\n",
      "        [-1., -2., -3.],\n",
      "        [-4., -5., -6.]])\n",
      "tensor([[1., 2., 3.],\n",
      "        [4., 5., 6.]])\n",
      "tensor([[-1., -2., -3.],\n",
      "        [-4., -5., -6.]])\n",
      "tensor([[ 1.,  2.,  3.],\n",
      "        [ 4.,  5.,  6.],\n",
      "        [-1., -2., -3.],\n",
      "        [-4., -5., -6.]])\n",
      "tensor([[ 1.],\n",
      "        [ 4.],\n",
      "        [-1.],\n",
      "        [-4.]])\n",
      "tensor([[ 2.],\n",
      "        [ 5.],\n",
      "        [-2.],\n",
      "        [-5.]])\n",
      "tensor([[ 3.],\n",
      "        [ 6.],\n",
      "        [-3.],\n",
      "        [-6.]])\n"
     ]
    }
   ],
   "source": [
    "# https://pytorch.org/docs/stable/torch.html?highlight=chunk#torch.chunk\n",
    "# torch.chunk(tensor, chunks, dim=0) -> tensor into number of chunks\n",
    "# chunk 함수를 통해 텐서를 원하는 chunk 개수만큼으로 분리할 수 있습니다.\n",
    "\n",
    "x_1, x_2 = torch.chunk(z1,2,dim=0)\n",
    "y_1, y_2, y_3 = torch.chunk(z1,3,dim=1)\n",
    "\n",
    "print(z1,x_1,x_2,z1,y_1,y_2,y_3,sep=\"\\n\")"
   ]
  },
  {
   "cell_type": "code",
   "execution_count": 26,
   "metadata": {
    "colab": {
     "base_uri": "https://localhost:8080/",
     "height": 323
    },
    "colab_type": "code",
    "executionInfo": {
     "elapsed": 13002,
     "status": "ok",
     "timestamp": 1559294358072,
     "user": {
      "displayName": "Choi Gunho",
      "photoUrl": "",
      "userId": "04388737836176863066"
     },
     "user_tz": -540
    },
    "id": "Bw6hLM7KZMdP",
    "outputId": "31e7619c-0491-485a-909a-81527f6586e0"
   },
   "outputs": [
    {
     "name": "stdout",
     "output_type": "stream",
     "text": [
      "tensor([[ 1.,  2.,  3.],\n",
      "        [ 4.,  5.,  6.],\n",
      "        [-1., -2., -3.],\n",
      "        [-4., -5., -6.]])\n",
      "tensor([[1., 2., 3.],\n",
      "        [4., 5., 6.]])\n",
      "tensor([[-1., -2., -3.],\n",
      "        [-4., -5., -6.]])\n",
      "\n",
      "This is y1:\n",
      "tensor([[ 1.,  2.],\n",
      "        [ 4.,  5.],\n",
      "        [-1., -2.],\n",
      "        [-4., -5.]])\n",
      "tensor([[ 3.],\n",
      "        [ 6.],\n",
      "        [-3.],\n",
      "        [-6.]])\n"
     ]
    }
   ],
   "source": [
    "# https://pytorch.org/docs/stable/torch.html?highlight=split#torch.split\n",
    "# torch.split(tensor,split_size,dim=0) -> split into specific size\n",
    "# split 함수를 통해 원하는 사이즈로 텐서를 자를 수 있습니다.\n",
    "\n",
    "x1,x2 = torch.split(z1,2,dim=0)\n",
    "y1 = torch.split(z1,2,dim=1) \n",
    "\n",
    "print(z1,x1,x2,sep=\"\\n\")\n",
    "\n",
    "print(\"\\nThis is y1:\")\n",
    "for i in y1:\n",
    "    print(i)"
   ]
  },
  {
   "cell_type": "markdown",
   "metadata": {
    "colab_type": "text",
    "id": "FHBNDxaIaA7e"
   },
   "source": [
    "### 4) squeezing\n"
   ]
  },
  {
   "cell_type": "code",
   "execution_count": 27,
   "metadata": {
    "colab": {
     "base_uri": "https://localhost:8080/",
     "height": 51
    },
    "colab_type": "code",
    "executionInfo": {
     "elapsed": 12995,
     "status": "ok",
     "timestamp": 1559294358073,
     "user": {
      "displayName": "Choi Gunho",
      "photoUrl": "",
      "userId": "04388737836176863066"
     },
     "user_tz": -540
    },
    "id": "OOQe0rHoZmL8",
    "outputId": "b2c02ad7-0da9-428b-f3b2-e2ba1cbbb62a"
   },
   "outputs": [
    {
     "name": "stdout",
     "output_type": "stream",
     "text": [
      "torch.Size([10, 1, 3, 1, 4])\n",
      "torch.Size([10, 3, 4])\n"
     ]
    }
   ],
   "source": [
    "# https://pytorch.org/docs/stable/torch.html?highlight=squeeze#torch.squeeze\n",
    "# torch.squeeze(input,dim=None) -> reduce dim by 1\n",
    "# squeeze 함수를 통해 길이가 1인 차원들을 압축시킬 수 있습니다.\n",
    "\n",
    "x1 = torch.FloatTensor(10,1,3,1,4)\n",
    "x2 = torch.squeeze(x1)\n",
    "\n",
    "print(x1.size(),x2.size(),sep=\"\\n\")"
   ]
  },
  {
   "cell_type": "code",
   "execution_count": 28,
   "metadata": {
    "colab": {
     "base_uri": "https://localhost:8080/",
     "height": 51
    },
    "colab_type": "code",
    "executionInfo": {
     "elapsed": 12980,
     "status": "ok",
     "timestamp": 1559294358073,
     "user": {
      "displayName": "Choi Gunho",
      "photoUrl": "",
      "userId": "04388737836176863066"
     },
     "user_tz": -540
    },
    "id": "yOLRHC1TaH6-",
    "outputId": "63255e1e-6aaa-4517-9ce0-c1fc9f45e544"
   },
   "outputs": [
    {
     "name": "stdout",
     "output_type": "stream",
     "text": [
      "torch.Size([10, 3, 4])\n",
      "torch.Size([1, 10, 3, 4])\n"
     ]
    }
   ],
   "source": [
    "# https://pytorch.org/docs/stable/torch.html#torch.unsqueeze\n",
    "# torch.unsqueeze(input,dim=None) -> add dim by 1\n",
    "# squeeze와 반대로 unsqueeze를 통해 차원을 늘릴수 있습니다.\n",
    "\n",
    "x1 = torch.FloatTensor(10,3,4)\n",
    "x2 = torch.unsqueeze(x1,dim=0)\n",
    "\n",
    "print(x1.size(),x2.size(),sep=\"\\n\")"
   ]
  },
  {
   "cell_type": "markdown",
   "metadata": {
    "colab_type": "text",
    "id": "7F-8jix0as1a"
   },
   "source": [
    "## 3. Initialization\n",
    "- 텐서 값 초기화"
   ]
  },
  {
   "cell_type": "code",
   "execution_count": 29,
   "metadata": {
    "colab": {
     "base_uri": "https://localhost:8080/",
     "height": 170
    },
    "colab_type": "code",
    "executionInfo": {
     "elapsed": 12972,
     "status": "ok",
     "timestamp": 1559294358074,
     "user": {
      "displayName": "Choi Gunho",
      "photoUrl": "",
      "userId": "04388737836176863066"
     },
     "user_tz": -540
    },
    "id": "6jhxWPKJafxj",
    "outputId": "9878dba9-9ed4-4158-f81b-36a19ae2724a"
   },
   "outputs": [
    {
     "data": {
      "text/plain": [
       "(tensor([[2.6023, 8.4891, 2.8176, 3.6469],\n",
       "         [1.5822, 8.0149, 8.5135, 4.0650],\n",
       "         [2.4741, 0.3854, 0.7558, 3.4972]]),\n",
       " tensor([[ 0.3600, -0.1842, -0.0721, -0.1827],\n",
       "         [ 0.0411,  0.1905, -0.3303, -0.1554],\n",
       "         [-0.0693, -0.1448, -0.0362,  0.2345]]),\n",
       " tensor([[3.1415, 3.1415, 3.1415, 3.1415],\n",
       "         [3.1415, 3.1415, 3.1415, 3.1415],\n",
       "         [3.1415, 3.1415, 3.1415, 3.1415]]))"
      ]
     },
     "execution_count": 29,
     "metadata": {},
     "output_type": "execute_result"
    }
   ],
   "source": [
    "# _(underbar) refers to in-place operation -> https://discuss.pytorch.org/t/what-is-in-place-operation/16244\n",
    "import torch.nn.init as init\n",
    "\n",
    "# https://pytorch.org/docs/stable/nn.html?highlight=init%20uniform#torch.nn.init.uniform_\n",
    "# uniform 분포를 따라 텐서를 초기화 할 수 있습니다.\n",
    "x1 = init.uniform_(torch.FloatTensor(3,4),a=0,b=9) \n",
    "\n",
    "# https://pytorch.org/docs/stable/nn.html?highlight=init%20uniform#torch.nn.init.normal_\n",
    "# 정규 분포를 따라 텐서를 초기화 할 수 있습니다.\n",
    "x2 = init.normal_(torch.FloatTensor(3,4),std=0.2)\n",
    "\n",
    "# https://pytorch.org/docs/stable/nn.html?highlight=init%20uniform#torch.nn.init.constant_\n",
    "# 지정한 값으로 텐서를 초기화 할 수 있습니다.\n",
    "x3 = init.constant_(torch.FloatTensor(3,4),3.1415)\n",
    "\n",
    "x1,x2,x3"
   ]
  },
  {
   "cell_type": "markdown",
   "metadata": {
    "colab_type": "text",
    "id": "OYy8PIzWb4gL"
   },
   "source": [
    "## 4. Math Operations"
   ]
  },
  {
   "cell_type": "markdown",
   "metadata": {
    "colab_type": "text",
    "id": "0Dp3uWbob4k8"
   },
   "source": [
    "### 1) Arithmetic operations\n"
   ]
  },
  {
   "cell_type": "code",
   "execution_count": 30,
   "metadata": {
    "colab": {
     "base_uri": "https://localhost:8080/",
     "height": 187
    },
    "colab_type": "code",
    "executionInfo": {
     "elapsed": 12965,
     "status": "ok",
     "timestamp": 1559294358074,
     "user": {
      "displayName": "Choi Gunho",
      "photoUrl": "",
      "userId": "04388737836176863066"
     },
     "user_tz": -540
    },
    "id": "r6Lm2oh9axf5",
    "outputId": "0a140c93-f544-457f-adfa-83bf4e5810c4"
   },
   "outputs": [
    {
     "name": "stdout",
     "output_type": "stream",
     "text": [
      "tensor([[1., 2., 3.],\n",
      "        [4., 5., 6.]])\n",
      "tensor([[1., 2., 3.],\n",
      "        [4., 5., 6.]])\n",
      "tensor([[ 2.,  4.,  6.],\n",
      "        [ 8., 10., 12.]])\n",
      "tensor([[ 2.,  4.,  6.],\n",
      "        [ 8., 10., 12.]])\n",
      "tensor([[0., 0., 0.],\n",
      "        [0., 0., 0.]])\n"
     ]
    }
   ],
   "source": [
    "# https://pytorch.org/docs/stable/torch.html?highlight=add#torch.add\n",
    "# torch.add()\n",
    "# 더하기 연산\n",
    "\n",
    "x1 = torch.FloatTensor([[1,2,3],[4,5,6]])\n",
    "x2 = torch.FloatTensor([[1,2,3],[4,5,6]])\n",
    "add = torch.add(x1,x2)\n",
    "\n",
    "print(x1,x2,add,x1+x2,x1-x2,sep=\"\\n\")"
   ]
  },
  {
   "cell_type": "code",
   "execution_count": 31,
   "metadata": {
    "colab": {
     "base_uri": "https://localhost:8080/",
     "height": 153
    },
    "colab_type": "code",
    "executionInfo": {
     "elapsed": 12957,
     "status": "ok",
     "timestamp": 1559294358075,
     "user": {
      "displayName": "Choi Gunho",
      "photoUrl": "",
      "userId": "04388737836176863066"
     },
     "user_tz": -540
    },
    "id": "zGZLEmTwcDdI",
    "outputId": "61f3c3bb-c2fe-4996-e610-58d9ba8a8f49"
   },
   "outputs": [
    {
     "name": "stdout",
     "output_type": "stream",
     "text": [
      "tensor([[1., 2., 3.],\n",
      "        [4., 5., 6.]])\n",
      "tensor([[11., 12., 13.],\n",
      "        [14., 15., 16.]])\n",
      "tensor([[11., 12., 13.],\n",
      "        [14., 15., 16.]])\n",
      "tensor([[1., 2., 3.],\n",
      "        [4., 5., 6.]])\n"
     ]
    }
   ],
   "source": [
    "# torch.add() broadcasting\n",
    "# 더하기 연산의 브로드캐스팅\n",
    "\n",
    "x1 = torch.FloatTensor([[1,2,3],[4,5,6]])\n",
    "x2 = torch.add(x1,10)\n",
    "\n",
    "print(x1,x2,x1+10,x2-10,sep=\"\\n\")"
   ]
  },
  {
   "cell_type": "code",
   "execution_count": 32,
   "metadata": {
    "colab": {
     "base_uri": "https://localhost:8080/",
     "height": 51
    },
    "colab_type": "code",
    "executionInfo": {
     "elapsed": 12950,
     "status": "ok",
     "timestamp": 1559294358075,
     "user": {
      "displayName": "Choi Gunho",
      "photoUrl": "",
      "userId": "04388737836176863066"
     },
     "user_tz": -540
    },
    "id": "PlZifRXdcLdX",
    "outputId": "72003119-60eb-4f66-fc7b-22905044ac87"
   },
   "outputs": [
    {
     "data": {
      "text/plain": [
       "tensor([[ 1.,  4.,  9.],\n",
       "        [16., 25., 36.]])"
      ]
     },
     "execution_count": 32,
     "metadata": {},
     "output_type": "execute_result"
    }
   ],
   "source": [
    "# https://pytorch.org/docs/stable/torch.html?highlight=add#torch.mul\n",
    "# torch.mul() -> element-wise multiplication \n",
    "# size better match\n",
    "# 곱하기 연산입니다. 각각의 요소간 곱이기 때문에 사이즈가 일치해야 연산이 가능합니다.\n",
    "\n",
    "x1 = torch.FloatTensor([[1,2,3],[4,5,6]])\n",
    "x2 = torch.FloatTensor([[1,2,3],[4,5,6]])\n",
    "x3 = torch.mul(x1,x2)\n",
    "\n",
    "x3"
   ]
  },
  {
   "cell_type": "code",
   "execution_count": 33,
   "metadata": {
    "colab": {
     "base_uri": "https://localhost:8080/",
     "height": 51
    },
    "colab_type": "code",
    "executionInfo": {
     "elapsed": 12944,
     "status": "ok",
     "timestamp": 1559294358076,
     "user": {
      "displayName": "Choi Gunho",
      "photoUrl": "",
      "userId": "04388737836176863066"
     },
     "user_tz": -540
    },
    "id": "FIcK3vblcWew",
    "outputId": "3c654f09-6ab9-4c2a-bd45-d417a7c54936"
   },
   "outputs": [
    {
     "data": {
      "text/plain": [
       "tensor([[10., 20., 30.],\n",
       "        [40., 50., 60.]])"
      ]
     },
     "execution_count": 33,
     "metadata": {},
     "output_type": "execute_result"
    }
   ],
   "source": [
    "# torch.mul() -> broadcasting\n",
    "# 곱하기 연산의 브로드캐스팅\n",
    "\n",
    "x1 = torch.FloatTensor([[1,2,3],[4,5,6]])\n",
    "x2 = x1*10\n",
    "\n",
    "x2"
   ]
  },
  {
   "cell_type": "code",
   "execution_count": 34,
   "metadata": {
    "colab": {
     "base_uri": "https://localhost:8080/",
     "height": 51
    },
    "colab_type": "code",
    "executionInfo": {
     "elapsed": 12938,
     "status": "ok",
     "timestamp": 1559294358077,
     "user": {
      "displayName": "Choi Gunho",
      "photoUrl": "",
      "userId": "04388737836176863066"
     },
     "user_tz": -540
    },
    "id": "H259cDMWcZIS",
    "outputId": "c26817f5-788e-4aac-afb1-c517e7096b76"
   },
   "outputs": [
    {
     "data": {
      "text/plain": [
       "tensor([[1., 1., 1.],\n",
       "        [1., 1., 1.]])"
      ]
     },
     "execution_count": 34,
     "metadata": {},
     "output_type": "execute_result"
    }
   ],
   "source": [
    "# https://pytorch.org/docs/stable/torch.html?highlight=add#torch.div\n",
    "# torch.div() -> size better match\n",
    "# 나누기 연산. 각각의 요소간 나누기이기 때문에 사이즈가 일치해야 연산이 가능합니다.\n",
    "\n",
    "x1 = torch.FloatTensor([[1,2,3],[4,5,6]])\n",
    "x2 = torch.FloatTensor([[1,2,3],[4,5,6]])\n",
    "x3 = torch.div(x1,x2)\n",
    "\n",
    "x3"
   ]
  },
  {
   "cell_type": "code",
   "execution_count": 35,
   "metadata": {
    "colab": {
     "base_uri": "https://localhost:8080/",
     "height": 51
    },
    "colab_type": "code",
    "executionInfo": {
     "elapsed": 12931,
     "status": "ok",
     "timestamp": 1559294358077,
     "user": {
      "displayName": "Choi Gunho",
      "photoUrl": "",
      "userId": "04388737836176863066"
     },
     "user_tz": -540
    },
    "id": "wYx33c0eceEX",
    "outputId": "7f8daca1-ff4b-4b79-9448-630b880a9d00"
   },
   "outputs": [
    {
     "data": {
      "text/plain": [
       "tensor([[0.2000, 0.4000, 0.6000],\n",
       "        [0.8000, 1.0000, 1.2000]])"
      ]
     },
     "execution_count": 35,
     "metadata": {},
     "output_type": "execute_result"
    }
   ],
   "source": [
    "# torch.div() -> broadcasting\n",
    "# 나누기 연산의 브로드캐스팅\n",
    "\n",
    "x1 = torch.FloatTensor([[1,2,3],[4,5,6]])\n",
    "x1/5"
   ]
  },
  {
   "cell_type": "markdown",
   "metadata": {
    "colab_type": "text",
    "id": "g8pSePric79F"
   },
   "source": [
    "### 2) Other Operations"
   ]
  },
  {
   "cell_type": "code",
   "execution_count": 36,
   "metadata": {
    "colab": {
     "base_uri": "https://localhost:8080/",
     "height": 119
    },
    "colab_type": "code",
    "executionInfo": {
     "elapsed": 12924,
     "status": "ok",
     "timestamp": 1559294358078,
     "user": {
      "displayName": "Choi Gunho",
      "photoUrl": "",
      "userId": "04388737836176863066"
     },
     "user_tz": -540
    },
    "id": "SGuMrlFkcgsH",
    "outputId": "dcc6f584-eac2-4e9b-f262-d26dcf2e7bc3"
   },
   "outputs": [
    {
     "data": {
      "text/plain": [
       "(tensor([[0., 0., 0., 0.],\n",
       "         [0., 0., 0., 0.],\n",
       "         [0., 0., 0., 0.]]), tensor([[0., 0., 0., 0.],\n",
       "         [0., 0., 0., 0.],\n",
       "         [0., 0., 0., 0.]]))"
      ]
     },
     "execution_count": 36,
     "metadata": {},
     "output_type": "execute_result"
    }
   ],
   "source": [
    "# https://pytorch.org/docs/stable/torch.html?highlight=add#torch.pow\n",
    "# torch.pow(input,exponent)\n",
    "# 파워 연산(x의 n승)\n",
    "\n",
    "x1 = torch.FloatTensor(3,4)\n",
    "torch.pow(x1,2),x1**2"
   ]
  },
  {
   "cell_type": "code",
   "execution_count": 37,
   "metadata": {
    "colab": {
     "base_uri": "https://localhost:8080/",
     "height": 68
    },
    "colab_type": "code",
    "executionInfo": {
     "elapsed": 12917,
     "status": "ok",
     "timestamp": 1559294358078,
     "user": {
      "displayName": "Choi Gunho",
      "photoUrl": "",
      "userId": "04388737836176863066"
     },
     "user_tz": -540
    },
    "id": "IBRin_yZcmAf",
    "outputId": "6295102e-8a23-4684-8ed6-d8b4b363ce0f"
   },
   "outputs": [
    {
     "data": {
      "text/plain": [
       "tensor([[1., 1., 1., 1.],\n",
       "        [1., 1., 1., 1.],\n",
       "        [1., 1., 1., 1.]])"
      ]
     },
     "execution_count": 37,
     "metadata": {},
     "output_type": "execute_result"
    }
   ],
   "source": [
    "# https://pytorch.org/docs/stable/torch.html?highlight=add#torch.exp\n",
    "# torch.exp(tensor,out=None) \n",
    "# exponential 연산\n",
    "\n",
    "x1 = torch.FloatTensor(3,4)\n",
    "torch.exp(x1)"
   ]
  },
  {
   "cell_type": "code",
   "execution_count": 38,
   "metadata": {
    "colab": {
     "base_uri": "https://localhost:8080/",
     "height": 68
    },
    "colab_type": "code",
    "executionInfo": {
     "elapsed": 12910,
     "status": "ok",
     "timestamp": 1559294358079,
     "user": {
      "displayName": "Choi Gunho",
      "photoUrl": "",
      "userId": "04388737836176863066"
     },
     "user_tz": -540
    },
    "id": "K5TD_dDxcqmX",
    "outputId": "3c764434-53d2-40d5-a3fe-6a08d5614874"
   },
   "outputs": [
    {
     "data": {
      "text/plain": [
       "tensor([[-inf, -inf, -inf, -inf],\n",
       "        [-inf, -inf, -inf, -inf],\n",
       "        [-inf, -inf, -inf, -inf]])"
      ]
     },
     "execution_count": 38,
     "metadata": {},
     "output_type": "execute_result"
    }
   ],
   "source": [
    "# https://pytorch.org/docs/stable/torch.html?highlight=add#torch.log\n",
    "# torch.log(input, out=None) -> natural logarithm\n",
    "# 로그 연산\n",
    "\n",
    "x1 = torch.FloatTensor(3,4)\n",
    "torch.log(x1)"
   ]
  },
  {
   "cell_type": "markdown",
   "metadata": {
    "colab_type": "text",
    "id": "Gu7pa4-vcupm"
   },
   "source": [
    "### 3) Matrix Operations"
   ]
  },
  {
   "cell_type": "code",
   "execution_count": 39,
   "metadata": {
    "colab": {
     "base_uri": "https://localhost:8080/",
     "height": 68
    },
    "colab_type": "code",
    "executionInfo": {
     "elapsed": 12903,
     "status": "ok",
     "timestamp": 1559294358079,
     "user": {
      "displayName": "Choi Gunho",
      "photoUrl": "",
      "userId": "04388737836176863066"
     },
     "user_tz": -540
    },
    "id": "uYlLZW3rcsHN",
    "outputId": "41139dd4-a96f-44a5-e312-3cf403bb5457"
   },
   "outputs": [
    {
     "data": {
      "text/plain": [
       "tensor([[0., 0., 0., 0., 0.],\n",
       "        [0., 0., 0., 0., 0.],\n",
       "        [0., 0., 0., 0., 0.]])"
      ]
     },
     "execution_count": 39,
     "metadata": {},
     "output_type": "execute_result"
    }
   ],
   "source": [
    "# https://pytorch.org/docs/stable/torch.html?highlight=add#torch.mm\n",
    "# torch.mm(mat1, mat2) -> matrix multiplication\n",
    "# 행렬곱 연산\n",
    "\n",
    "x1 = torch.FloatTensor(3,4)\n",
    "x2 = torch.FloatTensor(4,5)\n",
    "\n",
    "torch.mm(x1,x2)"
   ]
  },
  {
   "cell_type": "code",
   "execution_count": 40,
   "metadata": {
    "colab": {
     "base_uri": "https://localhost:8080/",
     "height": 34
    },
    "colab_type": "code",
    "executionInfo": {
     "elapsed": 12897,
     "status": "ok",
     "timestamp": 1559294358080,
     "user": {
      "displayName": "Choi Gunho",
      "photoUrl": "",
      "userId": "04388737836176863066"
     },
     "user_tz": -540
    },
    "id": "8wBC9yu-dCOs",
    "outputId": "d5e8e714-ad2d-425e-e2a0-7de08122f00d"
   },
   "outputs": [
    {
     "data": {
      "text/plain": [
       "torch.Size([10, 3, 5])"
      ]
     },
     "execution_count": 40,
     "metadata": {},
     "output_type": "execute_result"
    }
   ],
   "source": [
    "# https://pytorch.org/docs/stable/torch.html?highlight=add#torch.bmm\n",
    "# torch.bmm(batch1, batch2) -> batch matrix multiplication\n",
    "# 배치 행렬곱 연산. 맨 앞에 batch 차원은 무시하고 뒤에 요소들로 행렬곱을 합니다.\n",
    "\n",
    "x1 = torch.FloatTensor(10,3,4)\n",
    "x2 = torch.FloatTensor(10,4,5)\n",
    "\n",
    "torch.bmm(x1,x2).size()"
   ]
  },
  {
   "cell_type": "code",
   "execution_count": 41,
   "metadata": {
    "colab": {
     "base_uri": "https://localhost:8080/",
     "height": 34
    },
    "colab_type": "code",
    "executionInfo": {
     "elapsed": 12890,
     "status": "ok",
     "timestamp": 1559294358080,
     "user": {
      "displayName": "Choi Gunho",
      "photoUrl": "",
      "userId": "04388737836176863066"
     },
     "user_tz": -540
    },
    "id": "FLXBqKXDdEbT",
    "outputId": "631b23a6-12a2-44af-90f6-00c02be5e553"
   },
   "outputs": [
    {
     "data": {
      "text/plain": [
       "tensor(7)"
      ]
     },
     "execution_count": 41,
     "metadata": {},
     "output_type": "execute_result"
    }
   ],
   "source": [
    "# https://pytorch.org/docs/stable/torch.html?highlight=add#torch.dot\n",
    "# torch.dot(tensor1,tensor2) -> dot product of two tensor\n",
    "# 두 텐서간의 프로덕트 연산\n",
    "\n",
    "x1 = torch.tensor([2, 3])\n",
    "x2 = torch.tensor([2, 1])\n",
    "\n",
    "torch.dot(x1,x2)"
   ]
  },
  {
   "cell_type": "code",
   "execution_count": 42,
   "metadata": {
    "colab": {
     "base_uri": "https://localhost:8080/",
     "height": 85
    },
    "colab_type": "code",
    "executionInfo": {
     "elapsed": 12885,
     "status": "ok",
     "timestamp": 1559294358082,
     "user": {
      "displayName": "Choi Gunho",
      "photoUrl": "",
      "userId": "04388737836176863066"
     },
     "user_tz": -540
    },
    "id": "4GBgAGUidGj-",
    "outputId": "deda3be0-6361-4a32-b273-cc5c1dfe6d38"
   },
   "outputs": [
    {
     "name": "stdout",
     "output_type": "stream",
     "text": [
      "tensor([[1, 2],\n",
      "        [3, 4]])\n",
      "tensor([[1, 3],\n",
      "        [2, 4]])\n"
     ]
    }
   ],
   "source": [
    "# https://pytorch.org/docs/stable/torch.html?highlight=add#torch.t\n",
    "# torch.t(matrix) -> transposed matrix\n",
    "# 행렬의 전치\n",
    "\n",
    "x1 = torch.tensor([[1,2],[3,4]])\n",
    "print(x1,x1.t(),sep=\"\\n\")"
   ]
  },
  {
   "cell_type": "code",
   "execution_count": 43,
   "metadata": {
    "colab": {
     "base_uri": "https://localhost:8080/",
     "height": 68
    },
    "colab_type": "code",
    "executionInfo": {
     "elapsed": 12878,
     "status": "ok",
     "timestamp": 1559294358082,
     "user": {
      "displayName": "Choi Gunho",
      "photoUrl": "",
      "userId": "04388737836176863066"
     },
     "user_tz": -540
    },
    "id": "Zq5mYNlOdmgv",
    "outputId": "be0fbd0d-38a3-4d9b-f1c4-7280f2e4b3b8"
   },
   "outputs": [
    {
     "name": "stdout",
     "output_type": "stream",
     "text": [
      "torch.Size([10, 3, 4])\n",
      "torch.Size([10, 4, 3])\n",
      "torch.Size([10, 4, 3])\n"
     ]
    }
   ],
   "source": [
    "# https://pytorch.org/docs/stable/torch.html?highlight=add#torch.transpose\n",
    "# torch.transpose(input,dim0,dim1) -> transposed matrix\n",
    "# 차원을 지정할 수 있는 행렬의 전치 연산\n",
    "\n",
    "x1 = torch.FloatTensor(10,3,4)\n",
    "print(x1.size(), torch.transpose(x1,1,2).size(), x1.transpose(1,2).size(),sep=\"\\n\")"
   ]
  },
  {
   "cell_type": "code",
   "execution_count": null,
   "metadata": {},
   "outputs": [],
   "source": []
  }
 ],
 "metadata": {
  "accelerator": "GPU",
  "colab": {
   "collapsed_sections": [],
   "name": "[참고] 알아두면 좋은 기본 텐서 연산들.ipynb",
   "provenance": [],
   "version": "0.3.2"
  },
  "kernelspec": {
   "display_name": "Python 3",
   "language": "python",
   "name": "python3"
  },
  "language_info": {
   "codemirror_mode": {
    "name": "ipython",
    "version": 3
   },
   "file_extension": ".py",
   "mimetype": "text/x-python",
   "name": "python",
   "nbconvert_exporter": "python",
   "pygments_lexer": "ipython3",
   "version": "3.7.3"
  }
 },
 "nbformat": 4,
 "nbformat_minor": 2
}
