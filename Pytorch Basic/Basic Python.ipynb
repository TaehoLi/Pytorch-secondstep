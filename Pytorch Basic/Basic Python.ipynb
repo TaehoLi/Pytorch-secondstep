{
 "cells": [
  {
   "cell_type": "markdown",
   "metadata": {
    "colab_type": "text",
    "id": "31h-TFOg1YnZ"
   },
   "source": [
    "# Basic Python\n",
    "\n",
    "- Print\n",
    "- Variables and Types\n",
    "- Arithmetic Operations\n",
    "- List\n",
    "- Dictionary\n",
    "- Loop\n",
    "- Condition\n",
    "- Function\n",
    "- Class and Objects"
   ]
  },
  {
   "cell_type": "markdown",
   "metadata": {
    "colab_type": "text",
    "id": "HsQw3nrr1y8U"
   },
   "source": [
    "## 1. Print\n",
    "출력함수\n"
   ]
  },
  {
   "cell_type": "code",
   "execution_count": 1,
   "metadata": {
    "colab": {
     "base_uri": "https://localhost:8080/",
     "height": 68
    },
    "colab_type": "code",
    "executionInfo": {
     "elapsed": 1412,
     "status": "ok",
     "timestamp": 1559286642280,
     "user": {
      "displayName": "Choi Gunho",
      "photoUrl": "",
      "userId": "04388737836176863066"
     },
     "user_tz": -540
    },
    "id": "_H4SoVuW1wE_",
    "outputId": "8205f3a5-0fa7-4024-ea4a-483fd8ff8bd5"
   },
   "outputs": [
    {
     "name": "stdout",
     "output_type": "stream",
     "text": [
      "Hello World!\n",
      "Hello World!\n",
      "Hello World!end"
     ]
    }
   ],
   "source": [
    "# print 함수에는 기본적으로 줄바꿈(new line)이 들어가 있습니다. 그렇기 때문에 여러개를 출력했을때 항상 다음 줄로 넘어가게 됩니다.\n",
    "print(\"Hello World!\") \n",
    "\n",
    "# 문자열을 출력하고 이어서 출력할 문자열을 명시적으로 지정하는 방법. 여기서는 줄바꿈으로 설정했습니다.\n",
    "print(\"Hello World!\",end=\"\\n\") \n",
    "\n",
    "# 문자열을 출력하고 이어서 출력할 문자열은 명시적으로 바꿀 수 있습니다. 여기서는 \"end\"라는 문자열입니다.\n",
    "print(\"Hello World!\",end=\"end\")"
   ]
  },
  {
   "cell_type": "code",
   "execution_count": 2,
   "metadata": {
    "colab": {
     "base_uri": "https://localhost:8080/",
     "height": 102
    },
    "colab_type": "code",
    "executionInfo": {
     "elapsed": 1392,
     "status": "ok",
     "timestamp": 1559286642281,
     "user": {
      "displayName": "Choi Gunho",
      "photoUrl": "",
      "userId": "04388737836176863066"
     },
     "user_tz": -540
    },
    "id": "dHx5xJAi2RCJ",
    "outputId": "d2a8f183-b674-4f2c-cdae-12cafb57bd76"
   },
   "outputs": [
    {
     "name": "stdout",
     "output_type": "stream",
     "text": [
      "I love python\n",
      "999      \n",
      "      999\n",
      "   999   \n",
      "***999***\n"
     ]
    }
   ],
   "source": [
    "# https://pyformat.info/\n",
    "\n",
    "# format 이라는 함수를 이용해 문자열의 특정 위치에 변수를 출력할수도 있습니다.\n",
    "string = \"python\"\n",
    "print(\"I love {}\".format(string))\n",
    "\n",
    "# format 함수는 다양한 설정으로 사용할 수 있습니다. 아래의 예시는 전체 9칸에서 왼쪽 정렬, 오른쪽 정렬, 가운데 정렬 그리고 빈칸을 다른 값으로 채우는 방법입니다.\n",
    "print(\"{:<9}\".format(999))\n",
    "print(\"{:>9}\".format(999))\n",
    "print(\"{:^9}\".format(999))\n",
    "print(\"{:*^9}\".format(999))"
   ]
  },
  {
   "cell_type": "markdown",
   "metadata": {
    "colab_type": "text",
    "id": "zDoDIe-y4CAO"
   },
   "source": [
    "## 2. Variables and Types\n",
    "\n",
    "변수와 변수의 타입에 관한 내용"
   ]
  },
  {
   "cell_type": "code",
   "execution_count": 3,
   "metadata": {
    "colab": {
     "base_uri": "https://localhost:8080/",
     "height": 102
    },
    "colab_type": "code",
    "executionInfo": {
     "elapsed": 1366,
     "status": "ok",
     "timestamp": 1559286642281,
     "user": {
      "displayName": "Choi Gunho",
      "photoUrl": "",
      "userId": "04388737836176863066"
     },
     "user_tz": -540
    },
    "id": "OYeLSF1l27mN",
    "outputId": "2657300b-c260-48eb-f7f6-6820f9ff98e8"
   },
   "outputs": [
    {
     "name": "stdout",
     "output_type": "stream",
     "text": [
      "2 <class 'int'>\n",
      "2.0 <class 'float'>\n",
      "Pytorch <class 'str'>\n",
      "4.0 <class 'float'>\n",
      "2 Pytorch <class 'str'>\n"
     ]
    }
   ],
   "source": [
    "# 파이썬은 c++ 같은 언어와 달리 타입을 지정해주지 않고 자동으로 타입을 지정해줍니다.\n",
    "\n",
    "# 그냥 정수를 입력했을때는 타입이 정수(integer)임을 알 수 있습니다.\n",
    "a = 2\n",
    "print(a,type(a))\n",
    "\n",
    "# 소숫점을 추가해서 입력해주면 기본적으로 부동소수점 수(floating point number)로 타입이 지정됩니다.\n",
    "b = 2.0\n",
    "print(b,type(b))\n",
    "\n",
    "# 문자열을 정의하면 이는 문자열(string)으로 지정됩니다.\n",
    "c = \"Pytorch\"\n",
    "print(c,type(c))\n",
    "\n",
    "# 만약 정수와 부동소수점 수를 더하면 부동소수점 수로 저장됩니다.\n",
    "d = a+b\n",
    "print(d,type(d))\n",
    "\n",
    "\n",
    "# 문자열끼리는 더하기 연산으로 이어 붙이는 것이 가능합니다.\n",
    "e = str(a)+\" \"+c\n",
    "print(e,type(e))"
   ]
  },
  {
   "cell_type": "markdown",
   "metadata": {
    "colab_type": "text",
    "id": "f72VTHBS4RRe"
   },
   "source": [
    "## 3. Arithmetic Operations\n",
    "사칙연산"
   ]
  },
  {
   "cell_type": "code",
   "execution_count": 4,
   "metadata": {
    "colab": {
     "base_uri": "https://localhost:8080/",
     "height": 136
    },
    "colab_type": "code",
    "executionInfo": {
     "elapsed": 1299,
     "status": "ok",
     "timestamp": 1559286642283,
     "user": {
      "displayName": "Choi Gunho",
      "photoUrl": "",
      "userId": "04388737836176863066"
     },
     "user_tz": -540
    },
    "id": "stOzM0F24H5z",
    "outputId": "c4fec137-6bee-497f-95c5-4a1a2a4bbbe3"
   },
   "outputs": [
    {
     "name": "stdout",
     "output_type": "stream",
     "text": [
      "3\n",
      "-1\n",
      "10\n",
      "0.4\n",
      "2\n",
      "1\n",
      "32\n"
     ]
    }
   ],
   "source": [
    "# 파이썬에서는 다양한 사칙연산이 정의되어 있습니다.\n",
    "\n",
    "a=1\n",
    "b=2\n",
    "c=5\n",
    "\n",
    "print(a+b)  # add\n",
    "print(a-b)  # subtract\n",
    "print(b*c)  # multiply\n",
    "print(b/c)  # divide\n",
    "print(c//b) # quotient\n",
    "print(c%b)  # remainder\n",
    "print(b**c) # power"
   ]
  },
  {
   "cell_type": "markdown",
   "metadata": {
    "colab_type": "text",
    "id": "rVO-hg-84_54"
   },
   "source": [
    "## 4. List\n",
    "리스트\n"
   ]
  },
  {
   "cell_type": "code",
   "execution_count": 5,
   "metadata": {
    "colab": {
     "base_uri": "https://localhost:8080/",
     "height": 119
    },
    "colab_type": "code",
    "executionInfo": {
     "elapsed": 1275,
     "status": "ok",
     "timestamp": 1559286642284,
     "user": {
      "displayName": "Choi Gunho",
      "photoUrl": "",
      "userId": "04388737836176863066"
     },
     "user_tz": -540
    },
    "id": "zNsUJu8F4iFH",
    "outputId": "3393e93d-ada4-42fc-e971-40d8d2026962"
   },
   "outputs": [
    {
     "name": "stdout",
     "output_type": "stream",
     "text": [
      "[1, 2, 3]\n",
      "[1, 2, 3, 4]\n",
      "[1, 2, 3, 4, 'abc']\n",
      "[3, 4]\n",
      "[1, 2, 3, 4]\n",
      "[1, 2, 3]\n"
     ]
    }
   ],
   "source": [
    "# 리스트의 생성\n",
    "list_1 = [1,2,3]\n",
    "print(list_1)\n",
    "\n",
    "# 리스트에 요소 추가\n",
    "list_1.append(4)\n",
    "print(list_1)\n",
    "\n",
    "# 정수로만 이루어진 리스트에 문자열 추가\n",
    "list_1.append(\"abc\")\n",
    "print(list_1)\n",
    "\n",
    "# 리스트의 인덱싱\n",
    "print(list_1[2:-1])\n",
    "\n",
    "# 리스트 요소 지우기(delete)\n",
    "del list_1[-1]\n",
    "print(list_1)\n",
    "\n",
    "# 리스트 마지막 요소 꺼내기(pop)\n",
    "list_1.pop()\n",
    "print(list_1)"
   ]
  },
  {
   "cell_type": "markdown",
   "metadata": {
    "colab_type": "text",
    "id": "xJ2m_XqY5kbi"
   },
   "source": [
    "## 5. Dictionary\n",
    "딕셔너리\n"
   ]
  },
  {
   "cell_type": "code",
   "execution_count": 6,
   "metadata": {
    "colab": {
     "base_uri": "https://localhost:8080/",
     "height": 85
    },
    "colab_type": "code",
    "executionInfo": {
     "elapsed": 1245,
     "status": "ok",
     "timestamp": 1559286642284,
     "user": {
      "displayName": "Choi Gunho",
      "photoUrl": "",
      "userId": "04388737836176863066"
     },
     "user_tz": -540
    },
    "id": "goe5vFcI5HsO",
    "outputId": "c09b974a-51a7-4238-ff33-d4ebe55d17d4"
   },
   "outputs": [
    {
     "name": "stdout",
     "output_type": "stream",
     "text": [
      "{'python': 0, 'java': 1, 'c++': 2, 'ruby': 3, 'html': 4, 'key': 'value'}\n",
      "2\n",
      "{'python': 0, 'java': 1, 'c++': 2, 'ruby': 3, 'html': 4}\n",
      "{'python': 0, 'java': 1, 'c++': 2, 'ruby': 3, 'html': 4, 'pytorch': 6}\n"
     ]
    }
   ],
   "source": [
    "# 딕셔너리의 생성\n",
    "# \"key\" = value\n",
    "dict_1 = {\n",
    "    \"python\": 0,\n",
    "    \"java\":1,\n",
    "    \"c++\":2,\n",
    "    \"ruby\":3,\n",
    "    \"html\":4,\n",
    "    \"key\":\"value\",\n",
    "}\n",
    "\n",
    "# 딕셔너리 전체를 출력하는 방법\n",
    "print(dict_1)\n",
    "\n",
    "# 키를 이용해 그 키에 해당하는 값을 불러오는 법 (call value by key)\n",
    "print(dict_1[\"c++\"])\n",
    "\n",
    "# 키를 이용해 삭제하는 방법 (delete by key)\n",
    "del dict_1[\"key\"]\n",
    "print(dict_1)\n",
    "\n",
    "# 딕셔너리에 요소를 추가하는 방법 \n",
    "dict_1[\"pytorch\"]=6\n",
    "print(dict_1)"
   ]
  },
  {
   "cell_type": "markdown",
   "metadata": {
    "colab_type": "text",
    "id": "LoKwyHOn57-y"
   },
   "source": [
    "## 6. Loop\n",
    "반복문"
   ]
  },
  {
   "cell_type": "code",
   "execution_count": 7,
   "metadata": {
    "colab": {
     "base_uri": "https://localhost:8080/",
     "height": 221
    },
    "colab_type": "code",
    "executionInfo": {
     "elapsed": 1235,
     "status": "ok",
     "timestamp": 1559286642286,
     "user": {
      "displayName": "Choi Gunho",
      "photoUrl": "",
      "userId": "04388737836176863066"
     },
     "user_tz": -540
    },
    "id": "7owoZjHW5nJt",
    "outputId": "dc1b2ced-9a8d-4011-deca-84601db6ff93"
   },
   "outputs": [
    {
     "name": "stdout",
     "output_type": "stream",
     "text": [
      "0\n",
      "1\n",
      "2\n",
      "3\n",
      "4\n",
      "\n",
      "\n",
      "0\n",
      "-1\n",
      "-2\n",
      "-3\n",
      "-4\n"
     ]
    }
   ],
   "source": [
    "# range 함수를 이용한 기본적인 반복문\n",
    "for i in range(5):\n",
    "    print(i)\n",
    "print(\"\\n\")\n",
    "    \n",
    "# range 함수는 시작점, 끝점, 한번에 이동하는 크기를 지정할 수 있습니다.\n",
    "for i in range(0,-5,-1):\n",
    "    print(i)"
   ]
  },
  {
   "cell_type": "code",
   "execution_count": 8,
   "metadata": {
    "colab": {
     "base_uri": "https://localhost:8080/",
     "height": 374
    },
    "colab_type": "code",
    "executionInfo": {
     "elapsed": 1223,
     "status": "ok",
     "timestamp": 1559286642286,
     "user": {
      "displayName": "Choi Gunho",
      "photoUrl": "",
      "userId": "04388737836176863066"
     },
     "user_tz": -540
    },
    "id": "E1Vg81-k6Btq",
    "outputId": "2f674ae8-6426-46f2-f158-012d45dc0752"
   },
   "outputs": [
    {
     "name": "stdout",
     "output_type": "stream",
     "text": [
      "[1, 2, 3]\n",
      "1\n",
      "2\n",
      "3\n",
      "\n",
      "\n",
      "{'python': 0, 'java': 1, 'c++': 2, 'ruby': 3, 'html': 4, 'pytorch': 6}\n",
      "python 0\n",
      "java 1\n",
      "c++ 2\n",
      "ruby 3\n",
      "html 4\n",
      "pytorch 6\n",
      "\n",
      "\n",
      "0 python\n",
      "1 java\n",
      "2 c++\n",
      "3 ruby\n",
      "4 html\n",
      "5 pytorch\n"
     ]
    }
   ],
   "source": [
    "# 리스트의 요소들을 하나하나씩 출력하는 법\n",
    "print(list_1)\n",
    "for i in list_1:\n",
    "    print(i)\n",
    "print(\"\\n\")\n",
    "\n",
    "# 딕셔너리의 key와 이에 해당하는 value를 출력하는 법\n",
    "print(dict_1)\n",
    "for key in dict_1:\n",
    "    print(key,dict_1[key])\n",
    "print(\"\\n\")\n",
    "\n",
    "# enumerate 함수를 사용하면 현재 몇번째 출력인지 확인이 가능합니다.\n",
    "for idx,i in enumerate(dict_1.keys()):\n",
    "  print(idx,i)"
   ]
  },
  {
   "cell_type": "code",
   "execution_count": 9,
   "metadata": {
    "colab": {
     "base_uri": "https://localhost:8080/",
     "height": 187
    },
    "colab_type": "code",
    "executionInfo": {
     "elapsed": 1210,
     "status": "ok",
     "timestamp": 1559286642287,
     "user": {
      "displayName": "Choi Gunho",
      "photoUrl": "",
      "userId": "04388737836176863066"
     },
     "user_tz": -540
    },
    "id": "6yXuetCb7AXY",
    "outputId": "1cfaa7ec-60ea-41e1-a27b-94cb7fc8e8c9"
   },
   "outputs": [
    {
     "name": "stdout",
     "output_type": "stream",
     "text": [
      "0\n",
      "1\n",
      "2\n",
      "3\n",
      "4\n",
      "5\n",
      "6\n",
      "7\n",
      "8\n",
      "9\n"
     ]
    }
   ],
   "source": [
    "# while 문을 이용하는 방법\n",
    "a=0\n",
    "while(a<10):\n",
    "    print(a)\n",
    "    a+=1"
   ]
  },
  {
   "cell_type": "markdown",
   "metadata": {
    "colab_type": "text",
    "id": "EUQfdA9H7mf3"
   },
   "source": [
    "## 7. Condition\n",
    "조건문\n"
   ]
  },
  {
   "cell_type": "code",
   "execution_count": 10,
   "metadata": {
    "colab": {
     "base_uri": "https://localhost:8080/",
     "height": 85
    },
    "colab_type": "code",
    "executionInfo": {
     "elapsed": 1198,
     "status": "ok",
     "timestamp": 1559286642288,
     "user": {
      "displayName": "Choi Gunho",
      "photoUrl": "",
      "userId": "04388737836176863066"
     },
     "user_tz": -540
    },
    "id": "rA-4WXpF7jCz",
    "outputId": "6deb9eeb-2c39-449a-bdd4-ebec25a1890b"
   },
   "outputs": [
    {
     "name": "stdout",
     "output_type": "stream",
     "text": [
      "True\n",
      "False\n",
      "False\n",
      "True\n"
     ]
    }
   ],
   "source": [
    "# 일치 여부 출력\n",
    "print(2==2)\n",
    "print(2==3)\n",
    "\n",
    "# 불일치 여부 출력\n",
    "print(2!=2)\n",
    "print(2!=3)"
   ]
  },
  {
   "cell_type": "code",
   "execution_count": 11,
   "metadata": {
    "colab": {
     "base_uri": "https://localhost:8080/",
     "height": 51
    },
    "colab_type": "code",
    "executionInfo": {
     "elapsed": 1187,
     "status": "ok",
     "timestamp": 1559286642288,
     "user": {
      "displayName": "Choi Gunho",
      "photoUrl": "",
      "userId": "04388737836176863066"
     },
     "user_tz": -540
    },
    "id": "VJJmU1Il7rps",
    "outputId": "ef508c2c-b809-476d-9836-6f7c8207736d"
   },
   "outputs": [
    {
     "name": "stdout",
     "output_type": "stream",
     "text": [
      "{'python': 0, 'java': 1, 'c++': 2, 'ruby': 3, 'html': 4, 'pytorch': 6}\n",
      "3\n"
     ]
    }
   ],
   "source": [
    "# 딕셔너리에서 ruby라는 키에 해당하는 value 뽑아내기\n",
    "\n",
    "print(dict_1)\n",
    "\n",
    "for key in dict_1:\n",
    "    # key 값이 일치하면 해당 키에 대한 value를 프린트합니다.\n",
    "    if key==\"ruby\":\n",
    "        print(dict_1[key])\n",
    "    # 일치하지 않는 경우는 딕셔너리의 다음 key로 넘어갑니다\n",
    "    else:\n",
    "        pass"
   ]
  },
  {
   "cell_type": "code",
   "execution_count": 12,
   "metadata": {
    "colab": {
     "base_uri": "https://localhost:8080/",
     "height": 34
    },
    "colab_type": "code",
    "executionInfo": {
     "elapsed": 1169,
     "status": "ok",
     "timestamp": 1559286642289,
     "user": {
      "displayName": "Choi Gunho",
      "photoUrl": "",
      "userId": "04388737836176863066"
     },
     "user_tz": -540
    },
    "id": "0FA1_Iuh7zYq",
    "outputId": "0b00738c-ee6d-4e7c-beb5-0ba13e3decd3"
   },
   "outputs": [
    {
     "data": {
      "text/plain": [
       "[3]"
      ]
     },
     "execution_count": 12,
     "metadata": {},
     "output_type": "execute_result"
    }
   ],
   "source": [
    "# 위의 방식을 한줄로 표현 가능합니다. 이는 list comprehension의 한 예시입니다.\n",
    "[dict_1[key] for key in dict_1 if key==\"ruby\"]"
   ]
  },
  {
   "cell_type": "markdown",
   "metadata": {
    "colab_type": "text",
    "id": "DW8hSrQz8tjA"
   },
   "source": [
    "## 8. Function\n",
    "함수를 정의하는 법"
   ]
  },
  {
   "cell_type": "code",
   "execution_count": 13,
   "metadata": {
    "colab": {
     "base_uri": "https://localhost:8080/",
     "height": 34
    },
    "colab_type": "code",
    "executionInfo": {
     "elapsed": 1156,
     "status": "ok",
     "timestamp": 1559286642289,
     "user": {
      "displayName": "Choi Gunho",
      "photoUrl": "",
      "userId": "04388737836176863066"
     },
     "user_tz": -540
    },
    "id": "3T5c0AIS8GIe",
    "outputId": "e56dfe00-a91c-49e8-f312-981dd43e7557"
   },
   "outputs": [
    {
     "name": "stdout",
     "output_type": "stream",
     "text": [
      "120\n"
     ]
    }
   ],
   "source": [
    "# 단순한 팩토리얼 함수를 정의하는 예시\n",
    "def factorial(num):\n",
    "    result = 1\n",
    "    for i in range(1,num+1):\n",
    "        result = result*i\n",
    "    return result\n",
    "\n",
    "print(factorial(5))"
   ]
  },
  {
   "cell_type": "markdown",
   "metadata": {
    "colab_type": "text",
    "id": "fKy00eDf8118"
   },
   "source": [
    "## 9. Class & Instance"
   ]
  },
  {
   "cell_type": "code",
   "execution_count": 14,
   "metadata": {
    "colab": {
     "base_uri": "https://localhost:8080/",
     "height": 68
    },
    "colab_type": "code",
    "executionInfo": {
     "elapsed": 1144,
     "status": "ok",
     "timestamp": 1559286642290,
     "user": {
      "displayName": "Choi Gunho",
      "photoUrl": "",
      "userId": "04388737836176863066"
     },
     "user_tz": -540
    },
    "id": "KY6WXGyg8wfs",
    "outputId": "6bcd9373-ca79-4b2d-f6b8-7be25815ab5e"
   },
   "outputs": [
    {
     "name": "stdout",
     "output_type": "stream",
     "text": [
      "Anakin Skywalker\n",
      "R2D2\n",
      "10\n"
     ]
    }
   ],
   "source": [
    "# 클래스의 생성 및 인스턴스화 하는 방법\n",
    "class Jedi(object):\n",
    "    def __init__(self,name,droid):\n",
    "        self.name = name\n",
    "        self.droid = droid\n",
    "        self.exp = 0\n",
    "        \n",
    "    def train(self):\n",
    "        self.exp += 10\n",
    "\n",
    "# instance \n",
    "anakin = Jedi(\"Anakin Skywalker\",\"R2D2\")\n",
    "anakin.train()\n",
    "\n",
    "print(anakin.name)\n",
    "print(anakin.droid)\n",
    "print(anakin.exp)"
   ]
  },
  {
   "cell_type": "code",
   "execution_count": null,
   "metadata": {
    "colab": {},
    "colab_type": "code",
    "id": "9jRrJuwMspY3"
   },
   "outputs": [],
   "source": []
  }
 ],
 "metadata": {
  "colab": {
   "collapsed_sections": [],
   "name": "[참고] 파이썬 기초.ipynb",
   "provenance": [],
   "version": "0.3.2"
  },
  "kernelspec": {
   "display_name": "Python 3",
   "language": "python",
   "name": "python3"
  },
  "language_info": {
   "codemirror_mode": {
    "name": "ipython",
    "version": 3
   },
   "file_extension": ".py",
   "mimetype": "text/x-python",
   "name": "python",
   "nbconvert_exporter": "python",
   "pygments_lexer": "ipython3",
   "version": "3.7.3"
  }
 },
 "nbformat": 4,
 "nbformat_minor": 2
}
