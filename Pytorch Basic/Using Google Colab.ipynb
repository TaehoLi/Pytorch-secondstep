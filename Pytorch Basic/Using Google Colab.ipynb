{
 "cells": [
  {
   "cell_type": "markdown",
   "metadata": {
    "colab_type": "text",
    "id": "f7YmBvnLoStR"
   },
   "source": [
    "# Installation\n",
    "\n",
    "- 파이썬 버젼 체크 (Python version Check)\n",
    "- 파이토치 설치 (PyTorch Installation)\n",
    "- 쿠다 및 CuDNN 체크 (Cuda & CuDNN Check)"
   ]
  },
  {
   "cell_type": "markdown",
   "metadata": {
    "colab_type": "text",
    "id": "06f_Mo-IqpAK"
   },
   "source": [
    "## 1. Python Version Check\n",
    "파이썬 버젼 체크"
   ]
  },
  {
   "cell_type": "code",
   "execution_count": 1,
   "metadata": {
    "colab": {
     "base_uri": "https://localhost:8080/",
     "height": 51
    },
    "colab_type": "code",
    "executionInfo": {
     "elapsed": 1043,
     "status": "ok",
     "timestamp": 1559292151039,
     "user": {
      "displayName": "Choi Gunho",
      "photoUrl": "",
      "userId": "04388737836176863066"
     },
     "user_tz": -540
    },
    "id": "RKr8deu5qQxV",
    "outputId": "68fab34b-1cee-490e-991b-112d3b367d4e"
   },
   "outputs": [
    {
     "name": "stdout",
     "output_type": "stream",
     "text": [
      "3.6.7 (default, Oct 22 2018, 11:32:17) \n",
      "[GCC 8.2.0]\n"
     ]
    }
   ],
   "source": [
    "import sys\n",
    "print(sys.version)"
   ]
  },
  {
   "cell_type": "markdown",
   "metadata": {
    "colab_type": "text",
    "id": "fHDAz4Y1qtQR"
   },
   "source": [
    "## 2. PyTorch Installation\n",
    "- 구글 콜라브 버젼에 따라 파이토치가 설치되어 있을수도 있고 아닐 수도 있습니다.\n",
    "- 설치가 안되어 있을 경우 아래와 같은 명령어로 설치하면 됩니다.\n",
    "- !pip3 install torch torchvision"
   ]
  },
  {
   "cell_type": "code",
   "execution_count": null,
   "metadata": {
    "colab": {},
    "colab_type": "code",
    "id": "MjXpmFmsoNir"
   },
   "outputs": [],
   "source": [
    "import torch"
   ]
  },
  {
   "cell_type": "code",
   "execution_count": 3,
   "metadata": {
    "colab": {
     "base_uri": "https://localhost:8080/",
     "height": 119
    },
    "colab_type": "code",
    "executionInfo": {
     "elapsed": 7413,
     "status": "ok",
     "timestamp": 1559292157430,
     "user": {
      "displayName": "Choi Gunho",
      "photoUrl": "",
      "userId": "04388737836176863066"
     },
     "user_tz": -540
    },
    "id": "Ca5b9q88oNu_",
    "outputId": "b8eb4a9e-1cdb-4685-8ece-836b731d8719"
   },
   "outputs": [
    {
     "name": "stdout",
     "output_type": "stream",
     "text": [
      "Requirement already satisfied: torch in /usr/local/lib/python3.6/dist-packages (1.1.0)\n",
      "Requirement already satisfied: torchvision in /usr/local/lib/python3.6/dist-packages (0.3.0)\n",
      "Requirement already satisfied: numpy in /usr/local/lib/python3.6/dist-packages (from torch) (1.16.3)\n",
      "Requirement already satisfied: pillow>=4.1.1 in /usr/local/lib/python3.6/dist-packages (from torchvision) (4.3.0)\n",
      "Requirement already satisfied: six in /usr/local/lib/python3.6/dist-packages (from torchvision) (1.12.0)\n",
      "Requirement already satisfied: olefile in /usr/local/lib/python3.6/dist-packages (from pillow>=4.1.1->torchvision) (0.46)\n"
     ]
    }
   ],
   "source": [
    "!pip3 install torch torchvision"
   ]
  },
  {
   "cell_type": "markdown",
   "metadata": {
    "colab_type": "text",
    "id": "qI5zft-7r-G5"
   },
   "source": [
    "## 3. Cuda & cudnn Version Check\n",
    "- 파이토치를 통해 각각 몇 버젼이 설치 되어있는지 확인해줍니다."
   ]
  },
  {
   "cell_type": "code",
   "execution_count": 4,
   "metadata": {
    "colab": {
     "base_uri": "https://localhost:8080/",
     "height": 68
    },
    "colab_type": "code",
    "executionInfo": {
     "elapsed": 7408,
     "status": "ok",
     "timestamp": 1559292157432,
     "user": {
      "displayName": "Choi Gunho",
      "photoUrl": "",
      "userId": "04388737836176863066"
     },
     "user_tz": -540
    },
    "id": "SWzr0ZYuoAx3",
    "outputId": "ac4099a9-cee4-47ce-c253-f80baf14cd31"
   },
   "outputs": [
    {
     "name": "stdout",
     "output_type": "stream",
     "text": [
      "Torch version:1.1.0\n",
      "cuda version: 10.0.130\n",
      "cudnn version:7501\n"
     ]
    }
   ],
   "source": [
    "import torch\n",
    "\n",
    "print(\"Torch version:{}\".format(torch.__version__))\n",
    "print(\"cuda version: {}\".format(torch.version.cuda))\n",
    "print(\"cudnn version:{}\".format(torch.backends.cudnn.version()))"
   ]
  },
  {
   "cell_type": "markdown",
   "metadata": {
    "colab_type": "text",
    "id": "HPs2iVjbsaHb"
   },
   "source": [
    "## 4. Command Line cuda & cudnn Check\n",
    "- 쿠다 및 CuDNN 버젼은 커맨드라인 명령어로도 확인 가능합니다."
   ]
  },
  {
   "cell_type": "code",
   "execution_count": 5,
   "metadata": {
    "colab": {
     "base_uri": "https://localhost:8080/",
     "height": 85
    },
    "colab_type": "code",
    "executionInfo": {
     "elapsed": 12619,
     "status": "ok",
     "timestamp": 1559292162649,
     "user": {
      "displayName": "Choi Gunho",
      "photoUrl": "",
      "userId": "04388737836176863066"
     },
     "user_tz": -540
    },
    "id": "rr-joKu0sGf5",
    "outputId": "451f07fb-9839-4d6d-ebbb-ff55af73885d"
   },
   "outputs": [
    {
     "name": "stdout",
     "output_type": "stream",
     "text": [
      "nvcc: NVIDIA (R) Cuda compiler driver\n",
      "Copyright (c) 2005-2018 NVIDIA Corporation\n",
      "Built on Sat_Aug_25_21:08:01_CDT_2018\n",
      "Cuda compilation tools, release 10.0, V10.0.130\n"
     ]
    }
   ],
   "source": [
    "!nvcc --version"
   ]
  },
  {
   "cell_type": "code",
   "execution_count": 6,
   "metadata": {
    "colab": {
     "base_uri": "https://localhost:8080/",
     "height": 136
    },
    "colab_type": "code",
    "executionInfo": {
     "elapsed": 17220,
     "status": "ok",
     "timestamp": 1559292167260,
     "user": {
      "displayName": "Choi Gunho",
      "photoUrl": "",
      "userId": "04388737836176863066"
     },
     "user_tz": -540
    },
    "id": "7ZMgAzL3sPQ6",
    "outputId": "ca90c100-35fe-412d-b050-597895e58afd"
   },
   "outputs": [
    {
     "name": "stdout",
     "output_type": "stream",
     "text": [
      "#define CUDNN_MAJOR 7\n",
      "#define CUDNN_MINOR 5\n",
      "#define CUDNN_PATCHLEVEL 1\n",
      "--\n",
      "#define CUDNN_VERSION (CUDNN_MAJOR * 1000 + CUDNN_MINOR * 100 + CUDNN_PATCHLEVEL)\n",
      "\n",
      "#include \"driver_types.h\"\n"
     ]
    }
   ],
   "source": [
    "!cat /usr/include/x86_64-linux-gnu/cudnn_v*.h | grep CUDNN_MAJOR -A 2"
   ]
  },
  {
   "cell_type": "markdown",
   "metadata": {
    "colab_type": "text",
    "id": "rPvgso5LuCWF"
   },
   "source": [
    "# 5. PyTorch CPU & GPU Tensor Check\n",
    "- 파이토치 텐서를 생성해봄으로써 제대로 설치 되었는지, 잘 동작하는지 확인해줍니다."
   ]
  },
  {
   "cell_type": "markdown",
   "metadata": {
    "colab_type": "text",
    "id": "pBgm1epHwTSA"
   },
   "source": [
    "### 5-1 Create CPU tensor"
   ]
  },
  {
   "cell_type": "code",
   "execution_count": 7,
   "metadata": {
    "colab": {
     "base_uri": "https://localhost:8080/",
     "height": 51
    },
    "colab_type": "code",
    "executionInfo": {
     "elapsed": 17210,
     "status": "ok",
     "timestamp": 1559292167261,
     "user": {
      "displayName": "Choi Gunho",
      "photoUrl": "",
      "userId": "04388737836176863066"
     },
     "user_tz": -540
    },
    "id": "2nZVqGHxt_8D",
    "outputId": "229095dd-02a7-42fc-bedf-9cfbf6db7f4c"
   },
   "outputs": [
    {
     "name": "stdout",
     "output_type": "stream",
     "text": [
      "tensor([[0., 0., 0.],\n",
      "        [0., 0., 0.]])\n"
     ]
    }
   ],
   "source": [
    "# https://pytorch.org/docs/stable/torch.html?highlight=tensor#torch.tensor\n",
    "# 0으로 차있는 2x3 형태의 텐서를 생성합니다.\n",
    "cpu_tensor = torch.zeros(2,3)\n",
    "print(cpu_tensor)"
   ]
  },
  {
   "cell_type": "markdown",
   "metadata": {
    "colab_type": "text",
    "id": "kCxV8pxHwZc6"
   },
   "source": [
    "### 5-2 Allocate tensor on GPU"
   ]
  },
  {
   "cell_type": "code",
   "execution_count": 8,
   "metadata": {
    "colab": {
     "base_uri": "https://localhost:8080/",
     "height": 51
    },
    "colab_type": "code",
    "executionInfo": {
     "elapsed": 21617,
     "status": "ok",
     "timestamp": 1559292171677,
     "user": {
      "displayName": "Choi Gunho",
      "photoUrl": "",
      "userId": "04388737836176863066"
     },
     "user_tz": -540
    },
    "id": "uyDZg5BbuSe9",
    "outputId": "c046c24d-b3b4-4320-ab06-d6ba2e763951"
   },
   "outputs": [
    {
     "name": "stdout",
     "output_type": "stream",
     "text": [
      "tensor([[0., 0., 0.],\n",
      "        [0., 0., 0.]], device='cuda:0')\n"
     ]
    }
   ],
   "source": [
    "# https://pytorch.org/docs/stable/tensor_attributes.html#torch.torch.device\n",
    "# 어느 장치(cpu 혹은 gpu)에 텐서를 올릴지 지정합니다.\n",
    "# 아래는 torch.device라는 함수를 사용해 gpu로 장치를 지정합니다. \n",
    "device = torch.device('cuda')\n",
    "\n",
    "# https://pytorch.org/docs/stable/cuda.html?highlight=available#torch.cuda.is_available\n",
    "# gpu가 사용 가능한지 확인해줍니다.\n",
    "if torch.cuda.is_available():\n",
    "  \n",
    "  # https://pytorch.org/docs/stable/tensors.html?highlight=#torch.Tensor.to\n",
    "  # cpu에 있었던 텐서를 to 함수를 이용해 지정해놓은 장치(여기서는 gpu)로 올려줍니다.\n",
    "  gpu_tensor = cpu_tensor.to(device)\n",
    "  print(gpu_tensor)"
   ]
  },
  {
   "cell_type": "markdown",
   "metadata": {
    "colab_type": "text",
    "id": "cKRTa76_wiGA"
   },
   "source": [
    "### 5-3 Reallocate tensor back on CPU"
   ]
  },
  {
   "cell_type": "code",
   "execution_count": 9,
   "metadata": {
    "colab": {
     "base_uri": "https://localhost:8080/",
     "height": 51
    },
    "colab_type": "code",
    "executionInfo": {
     "elapsed": 21612,
     "status": "ok",
     "timestamp": 1559292171679,
     "user": {
      "displayName": "Choi Gunho",
      "photoUrl": "",
      "userId": "04388737836176863066"
     },
     "user_tz": -540
    },
    "id": "9NIT1b6vvf8a",
    "outputId": "c62b8276-b0ce-430a-c69b-5198bcb85112"
   },
   "outputs": [
    {
     "data": {
      "text/plain": [
       "tensor([[0., 0., 0.],\n",
       "        [0., 0., 0.]])"
      ]
     },
     "execution_count": 9,
     "metadata": {
      "tags": []
     },
     "output_type": "execute_result"
    }
   ],
   "source": [
    "# device 함수와 to 함수를 이용해 gpu에 있던 텐서를 다시 cpu로 옮겨올 수 있습니다.\n",
    "cpu_tensor_back = gpu_tensor.to(torch.device('cpu'))\n",
    "cpu_tensor_back"
   ]
  },
  {
   "cell_type": "code",
   "execution_count": null,
   "metadata": {
    "colab": {},
    "colab_type": "code",
    "id": "IO79CKh9DdUb"
   },
   "outputs": [],
   "source": []
  }
 ],
 "metadata": {
  "accelerator": "GPU",
  "colab": {
   "collapsed_sections": [],
   "name": "2.3 구글 Colab에서 파이썬, 파이토치, Cuda, Cudnn 버젼 체크하기.ipynb",
   "provenance": [],
   "version": "0.3.2"
  },
  "kernelspec": {
   "display_name": "Python 3",
   "language": "python",
   "name": "python3"
  },
  "language_info": {
   "codemirror_mode": {
    "name": "ipython",
    "version": 3
   },
   "file_extension": ".py",
   "mimetype": "text/x-python",
   "name": "python",
   "nbconvert_exporter": "python",
   "pygments_lexer": "ipython3",
   "version": "3.7.3"
  }
 },
 "nbformat": 4,
 "nbformat_minor": 2
}
