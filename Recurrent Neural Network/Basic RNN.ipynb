{
 "cells": [
  {
   "cell_type": "code",
   "execution_count": 1,
   "metadata": {
    "colab": {
     "base_uri": "https://localhost:8080/",
     "height": 119
    },
    "colab_type": "code",
    "executionInfo": {
     "elapsed": 4512,
     "status": "ok",
     "timestamp": 1559517541700,
     "user": {
      "displayName": "Choi Gunho",
      "photoUrl": "",
      "userId": "04388737836176863066"
     },
     "user_tz": -540
    },
    "id": "9QGnnbwC37wF",
    "outputId": "e33cbd6b-4d39-4802-cdcc-8b843b8d0736"
   },
   "outputs": [],
   "source": [
    "#!pip install torch torchvision"
   ]
  },
  {
   "cell_type": "code",
   "execution_count": 2,
   "metadata": {
    "colab": {},
    "colab_type": "code",
    "id": "VwV7Yzdz4Lla"
   },
   "outputs": [],
   "source": [
    "# 단순한 문자 RNN을 만들어보겠습니다.\n",
    "\n",
    "import torch \n",
    "import torch.nn as nn\n",
    "import torch.optim as optim\n",
    "import numpy as np"
   ]
  },
  {
   "cell_type": "code",
   "execution_count": 3,
   "metadata": {
    "colab": {},
    "colab_type": "code",
    "id": "jcjSLaS337wU"
   },
   "outputs": [],
   "source": [
    "# 하이퍼파라미터 설정\n",
    "\n",
    "n_hidden = 35 \n",
    "lr = 0.01\n",
    "epochs = 1000"
   ]
  },
  {
   "cell_type": "code",
   "execution_count": 4,
   "metadata": {
    "colab": {},
    "colab_type": "code",
    "id": "HE0ZIXVp37wJ"
   },
   "outputs": [],
   "source": [
    "# 사용하는 문자는 영어 소문자 및 몇가지 특수문자로 제한했습니다.\n",
    "# alphabet(0-25), space(26), ... , start(0), end(1)\n",
    "\n",
    "string = \"hello pytorch. how long can a rnn cell remember? show me your limit!\"\n",
    "chars =  \"abcdefghijklmnopqrstuvwxyz ?!.,:;01\"\n",
    "\n",
    "# 문자들을 리스트로 바꾸고 이의 길이(=문자의 개수)를 저장해놓습니다.\n",
    "char_list = [i for i in chars]\n",
    "n_letters = len(char_list)"
   ]
  },
  {
   "cell_type": "code",
   "execution_count": 5,
   "metadata": {
    "colab": {},
    "colab_type": "code",
    "id": "DhYTZTsuGygL"
   },
   "outputs": [],
   "source": [
    "# 문자를 그대로 쓰지않고 one-hot 벡터로 바꿔서 연산에 쓰도록 하겠습니다.\n",
    "\n",
    "#Start = [0 0 0 … 1 0]\n",
    "#a =     [1 0 0 … 0 0]\n",
    "#b =     [0 1 0 … 0 0]\n",
    "#c =     [0 0 1 … 0 0]\n",
    "#...\n",
    "#end =   [0 0 0 … 0 1]"
   ]
  },
  {
   "cell_type": "code",
   "execution_count": 6,
   "metadata": {
    "colab": {},
    "colab_type": "code",
    "id": "R0oGDc_o37wN"
   },
   "outputs": [],
   "source": [
    "# 문자열을 one-hot 벡터의 스택으로 만드는 함수\n",
    "# abc -> [[1 0 0 … 0 0],\n",
    "#         [0 1 0 … 0 0],\n",
    "#         [0 0 1 … 0 0]]\n",
    "\n",
    "def string_to_onehot(string):\n",
    "    # 먼저 시작 토큰과 끝 토큰을 만들어줍니다.\n",
    "    start = np.zeros(shape=n_letters ,dtype=int)\n",
    "    end = np.zeros(shape=n_letters ,dtype=int)\n",
    "    start[-2] = 1\n",
    "    end[-1] = 1\n",
    "    # 여기서부터는 문자열의 문자들을 차례대로 받아서 진행합니다.\n",
    "    for i in string:\n",
    "        # 먼저 문자가 몇번째 문자인지 찾습니다.\n",
    "        # a:0, b:1, c:2,...\n",
    "        idx = char_list.index(i)\n",
    "        # 0으로만 구성된 배열을 만들어줍니다.\n",
    "        # [0 0 0 … 0 0]\n",
    "        zero = np.zeros(shape=n_letters ,dtype=int)\n",
    "        # 해당 문자 인데스만 1로 바꿔줍니다.\n",
    "        # b: [0 1 0 … 0 0]\n",
    "        zero[idx]=1\n",
    "        # start와 새로 생긴 zero를 붙이고 이를 start에 할당합니다.\n",
    "        # 이게 반복되면 start에는 문자를 one-hot 벡터로 바꾼 배열들이 점점 쌓여가게 됩니다.\n",
    "        start = np.vstack([start,zero])\n",
    "    # 문자열이 다 끝나면 쌓아온 start와 end를 붙여줍니다.\n",
    "    output = np.vstack([start,end])\n",
    "    return output"
   ]
  },
  {
   "cell_type": "code",
   "execution_count": 7,
   "metadata": {
    "colab": {},
    "colab_type": "code",
    "id": "UNSZj7Tv37wQ"
   },
   "outputs": [],
   "source": [
    "# One-hot 벡터를 문자로 바꿔주는 함수 \n",
    "# [1 0 0 ... 0 0] -> a \n",
    "# https://pytorch.org/docs/stable/tensors.html?highlight=numpy#torch.Tensor.numpy\n",
    "\n",
    "def onehot_to_word(onehot_1):\n",
    "    # 텐서를 입력으로 받아 넘파이 배열로 바꿔줍니다.\n",
    "    onehot = torch.Tensor.numpy(onehot_1)\n",
    "    # one-hot 벡터의 최대값(=1) 위치 인덱스로 문자를 찾습니다.\n",
    "    return char_list[onehot.argmax()]"
   ]
  },
  {
   "cell_type": "code",
   "execution_count": 8,
   "metadata": {
    "colab": {},
    "colab_type": "code",
    "id": "HMI_b1MO37wR"
   },
   "outputs": [],
   "source": [
    "# RNN with 1 hidden layer\n",
    "\n",
    "class RNN(nn.Module):\n",
    "    def __init__(self, input_size, hidden_size, output_size):\n",
    "        super(RNN, self).__init__()\n",
    "        \n",
    "        self.input_size = input_size\n",
    "        self.hidden_size = hidden_size\n",
    "        self.output_size = output_size\n",
    "        \n",
    "        self.i2h = nn.Linear(input_size + hidden_size, hidden_size)\n",
    "        self.i2o = nn.Linear(input_size + hidden_size, output_size)\n",
    "        self.act_fn = nn.Tanh()\n",
    "    \n",
    "    def forward(self, input, hidden):\n",
    "        # 입력과 hidden state를 cat함수로 붙여줍니다.\n",
    "        combined = torch.cat((input, hidden), 1)\n",
    "        # 붙인 값을 i2h 및 i2o에 통과시켜 hidden state는 업데이트, 결과값은 계산해줍니다.\n",
    "        hidden = self.act_fn(self.i2h(combined))\n",
    "        output = self.i2o(combined)\n",
    "        return output, hidden\n",
    "    \n",
    "    # 아직 입력이 없을때(t=0)의 hidden state를 초기화해줍니다. \n",
    "    def init_hidden(self):\n",
    "        return torch.zeros(1, self.hidden_size)\n",
    "    \n",
    "rnn = RNN(n_letters, n_hidden, n_letters)"
   ]
  },
  {
   "cell_type": "code",
   "execution_count": 9,
   "metadata": {
    "colab": {},
    "colab_type": "code",
    "id": "dseHJCeb37wW"
   },
   "outputs": [],
   "source": [
    "# 손실함수와 최적화함수를 설정해줍니다.\n",
    "\n",
    "loss_func = nn.MSELoss()\n",
    "optimizer = torch.optim.Adam(rnn.parameters(), lr=lr)"
   ]
  },
  {
   "cell_type": "code",
   "execution_count": 10,
   "metadata": {
    "colab": {
     "base_uri": "https://localhost:8080/",
     "height": 1717
    },
    "colab_type": "code",
    "executionInfo": {
     "elapsed": 20539,
     "status": "ok",
     "timestamp": 1559517557821,
     "user": {
      "displayName": "Choi Gunho",
      "photoUrl": "",
      "userId": "04388737836176863066"
     },
     "user_tz": -540
    },
    "id": "d9x44BXX37wZ",
    "outputId": "b2643cae-1f35-4c1a-8c82-bdaf2abb4acf"
   },
   "outputs": [
    {
     "name": "stdout",
     "output_type": "stream",
     "text": [
      "tensor(2.7090, grad_fn=<AddBackward0>)\n",
      "tensor(0.0740, grad_fn=<AddBackward0>)\n",
      "tensor(0.0209, grad_fn=<AddBackward0>)\n",
      "tensor(0.0124, grad_fn=<AddBackward0>)\n",
      "tensor(0.0083, grad_fn=<AddBackward0>)\n",
      "tensor(0.0077, grad_fn=<AddBackward0>)\n",
      "tensor(0.0042, grad_fn=<AddBackward0>)\n",
      "tensor(0.0034, grad_fn=<AddBackward0>)\n",
      "tensor(0.0039, grad_fn=<AddBackward0>)\n",
      "tensor(0.0028, grad_fn=<AddBackward0>)\n"
     ]
    }
   ],
   "source": [
    "# train\n",
    "\n",
    "# 문자열을 onehot 벡터로 만들고 이를 토치 텐서로 바꿔줍니다.\n",
    "# 또한 데이터타입도 학습에 맞게 바꿔줍니다.\n",
    "one_hot = torch.from_numpy(string_to_onehot(string)).type_as(torch.FloatTensor())\n",
    "\n",
    "for i in range(epochs):\n",
    "    optimizer.zero_grad()\n",
    "    # 학습에 앞서 hidden state를 초기화해줍니다.\n",
    "    hidden = rnn.init_hidden()\n",
    "    \n",
    "    # 문자열 전체에 대한 손실을 구하기 위해 total_loss라는 변수를 만들어줍니다. \n",
    "    total_loss = 0\n",
    "    for j in range(one_hot.size()[0]-1):\n",
    "        # 입력은 앞에 글자 \n",
    "        # pyotrch 에서 p y t o r c\n",
    "        input_ = one_hot[j:j+1,:]\n",
    "        # 목표값은 뒤에 글자\n",
    "        # pytorch 에서 y t o r c h\n",
    "        target = one_hot[j+1]\n",
    "        output, hidden = rnn.forward(input_, hidden)\n",
    "        \n",
    "        loss = loss_func(output.view(-1),target.view(-1))\n",
    "        total_loss += loss\n",
    "\n",
    "    total_loss.backward()\n",
    "    optimizer.step()\n",
    "\n",
    "    if i % 100 == 0:\n",
    "        print(total_loss)"
   ]
  },
  {
   "cell_type": "code",
   "execution_count": 11,
   "metadata": {
    "colab": {
     "base_uri": "https://localhost:8080/",
     "height": 34
    },
    "colab_type": "code",
    "executionInfo": {
     "elapsed": 20534,
     "status": "ok",
     "timestamp": 1559517557823,
     "user": {
      "displayName": "Choi Gunho",
      "photoUrl": "",
      "userId": "04388737836176863066"
     },
     "user_tz": -540
    },
    "id": "O8suWP0r37wf",
    "outputId": "891bbd66-520f-4434-f502-d91aee67ce0a"
   },
   "outputs": [
    {
     "name": "stdout",
     "output_type": "stream",
     "text": [
      "hello pytorch. how n cnonnn noyoyyyyyyyeeeeemmmmmrrrrrrrllllllllllll\n"
     ]
    }
   ],
   "source": [
    "# test \n",
    "# hidden state 는 처음 한번만 초기화해줍니다.\n",
    "\n",
    "start = torch.zeros(1,n_letters)\n",
    "start[:,-2] = 1\n",
    "\n",
    "with torch.no_grad():\n",
    "    hidden = rnn.init_hidden()\n",
    "    # 처음 입력으로 start token을 전달해줍니다.\n",
    "    input_ = start\n",
    "    # output string에 문자들을 계속 붙여줍니다.\n",
    "    output_string = \"\"\n",
    "\n",
    "    # 원래는 end token이 나올때 까지 반복하는게 맞으나 끝나지 않아서 string의 길이로 정했습니다.\n",
    "    for i in range(len(string)):\n",
    "        output, hidden = rnn.forward(input_, hidden)\n",
    "        # 결과값을 문자로 바꿔서 output_string에 붙여줍니다.\n",
    "        output_string += onehot_to_word(output.data)\n",
    "        # 또한 이번의 결과값이 다음의 입력값이 됩니다.\n",
    "        input_ = output\n",
    "\n",
    "print(output_string)"
   ]
  },
  {
   "cell_type": "code",
   "execution_count": null,
   "metadata": {},
   "outputs": [],
   "source": []
  }
 ],
 "metadata": {
  "colab": {
   "collapsed_sections": [],
   "name": "6.3 간단한 문자 순환 신경망 실습.ipynb",
   "provenance": [],
   "version": "0.3.2"
  },
  "kernelspec": {
   "display_name": "Python 3",
   "language": "python",
   "name": "python3"
  },
  "language_info": {
   "codemirror_mode": {
    "name": "ipython",
    "version": 3
   },
   "file_extension": ".py",
   "mimetype": "text/x-python",
   "name": "python",
   "nbconvert_exporter": "python",
   "pygments_lexer": "ipython3",
   "version": "3.7.3"
  }
 },
 "nbformat": 4,
 "nbformat_minor": 2
}
