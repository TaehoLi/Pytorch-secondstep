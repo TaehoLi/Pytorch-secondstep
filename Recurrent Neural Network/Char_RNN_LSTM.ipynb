{
 "cells": [
  {
   "cell_type": "markdown",
   "metadata": {
    "colab_type": "text",
    "id": "W7hT6Mg8necL"
   },
   "source": [
    "# Character Recurrent Neural Network\n",
    "- mimicing Shakespeare's writing style\n",
    "- LSTM"
   ]
  },
  {
   "cell_type": "code",
   "execution_count": 1,
   "metadata": {
    "colab": {
     "base_uri": "https://localhost:8080/",
     "height": 204
    },
    "colab_type": "code",
    "executionInfo": {
     "elapsed": 4142,
     "status": "ok",
     "timestamp": 1559554456530,
     "user": {
      "displayName": "Choi Gunho",
      "photoUrl": "",
      "userId": "04388737836176863066"
     },
     "user_tz": -540
    },
    "id": "P7lEWk4NoL93",
    "outputId": "6ae1149b-18fb-495f-a2ee-7f81700ee3ca"
   },
   "outputs": [
    {
     "name": "stdout",
     "output_type": "stream",
     "text": [
      "\n"
     ]
    }
   ],
   "source": [
    "\"\"\"\n",
    "!rm -r data\n",
    "import os \n",
    "\n",
    "try:\n",
    "  os.mkdir(\"./data\")\n",
    "except:\n",
    "  pass\n",
    "\n",
    "!wget https://raw.githubusercontent.com/dmlc/web-data/master/mxnet/tinyshakespeare/input.txt -P ./data\n",
    "\"\"\"\n",
    "print()"
   ]
  },
  {
   "cell_type": "markdown",
   "metadata": {
    "colab_type": "text",
    "id": "3OBRPhf_necM"
   },
   "source": [
    "## 1. Settings\n",
    "### 1) Import required libraries"
   ]
  },
  {
   "cell_type": "code",
   "execution_count": 2,
   "metadata": {
    "colab": {},
    "colab_type": "code",
    "id": "Vuxr-8XZnecN"
   },
   "outputs": [],
   "source": [
    "import torch\n",
    "import torch.nn as nn"
   ]
  },
  {
   "cell_type": "code",
   "execution_count": 3,
   "metadata": {
    "colab": {},
    "colab_type": "code",
    "id": "CIzxg9NxnecS"
   },
   "outputs": [],
   "source": [
    "import unidecode\n",
    "import string\n",
    "import random\n",
    "import re\n",
    "import time, math"
   ]
  },
  {
   "cell_type": "markdown",
   "metadata": {
    "colab_type": "text",
    "id": "IklHCh8rnecW"
   },
   "source": [
    "## 2) Hyperparameter"
   ]
  },
  {
   "cell_type": "code",
   "execution_count": 4,
   "metadata": {
    "colab": {},
    "colab_type": "code",
    "id": "FVSB-hSznecX"
   },
   "outputs": [],
   "source": [
    "num_epochs = 2000\n",
    "print_every = 100\n",
    "plot_every = 10\n",
    "chunk_len = 200\n",
    "hidden_size = 100\n",
    "batch_size = 1\n",
    "num_layers = 1\n",
    "embedding_size = 70\n",
    "lr = 0.002"
   ]
  },
  {
   "cell_type": "markdown",
   "metadata": {
    "colab_type": "text",
    "id": "jz29N2xAnecb"
   },
   "source": [
    "## 2. Data\n",
    "### 1) Prepare characters"
   ]
  },
  {
   "cell_type": "code",
   "execution_count": 5,
   "metadata": {
    "colab": {
     "base_uri": "https://localhost:8080/",
     "height": 68
    },
    "colab_type": "code",
    "executionInfo": {
     "elapsed": 4131,
     "status": "ok",
     "timestamp": 1559554456540,
     "user": {
      "displayName": "Choi Gunho",
      "photoUrl": "",
      "userId": "04388737836176863066"
     },
     "user_tz": -540
    },
    "id": "nTGjZHugnecc",
    "outputId": "22a81170-497b-4cef-9c15-3245ece433ac"
   },
   "outputs": [
    {
     "name": "stdout",
     "output_type": "stream",
     "text": [
      "0123456789abcdefghijklmnopqrstuvwxyzABCDEFGHIJKLMNOPQRSTUVWXYZ!\"#$%&'()*+,-./:;<=>?@[\\]^_`{|}~ \t\n",
      "\u000b",
      "\f",
      "\n",
      "num_chars =  100\n"
     ]
    }
   ],
   "source": [
    "all_characters = string.printable\n",
    "n_characters = len(all_characters)\n",
    "print(all_characters)\n",
    "print('num_chars = ', n_characters)"
   ]
  },
  {
   "cell_type": "markdown",
   "metadata": {
    "colab_type": "text",
    "id": "yJDAA3ytneci"
   },
   "source": [
    "### 2) Get text data"
   ]
  },
  {
   "cell_type": "code",
   "execution_count": 6,
   "metadata": {
    "colab": {
     "base_uri": "https://localhost:8080/",
     "height": 34
    },
    "colab_type": "code",
    "executionInfo": {
     "elapsed": 4360,
     "status": "ok",
     "timestamp": 1559554456788,
     "user": {
      "displayName": "Choi Gunho",
      "photoUrl": "",
      "userId": "04388737836176863066"
     },
     "user_tz": -540
    },
    "id": "FFdIZ2Wnnecj",
    "outputId": "13b9c607-db76-4a3a-bb9c-8bb38cc7394c"
   },
   "outputs": [
    {
     "name": "stdout",
     "output_type": "stream",
     "text": [
      "file_len = 1115394\n"
     ]
    }
   ],
   "source": [
    "file = unidecode.unidecode(open('./data/input.txt').read())\n",
    "file_len = len(file)\n",
    "print('file_len =', file_len)"
   ]
  },
  {
   "cell_type": "markdown",
   "metadata": {
    "colab_type": "text",
    "id": "pz-tESMOneco"
   },
   "source": [
    "## 3. Functions for text processing\n",
    "### 1) Random Chunk"
   ]
  },
  {
   "cell_type": "code",
   "execution_count": 7,
   "metadata": {
    "colab": {
     "base_uri": "https://localhost:8080/",
     "height": 153
    },
    "colab_type": "code",
    "executionInfo": {
     "elapsed": 4352,
     "status": "ok",
     "timestamp": 1559554456789,
     "user": {
      "displayName": "Choi Gunho",
      "photoUrl": "",
      "userId": "04388737836176863066"
     },
     "user_tz": -540
    },
    "id": "NdTnR6Icnecp",
    "outputId": "e8be4cce-9cb7-45f8-b0ab-bea642cd10cf"
   },
   "outputs": [
    {
     "name": "stdout",
     "output_type": "stream",
     "text": [
      " opinion,\n",
      "Make yourselves scabs?\n",
      "\n",
      "First Citizen:\n",
      "We have ever your good word.\n",
      "\n",
      "MARCIUS:\n",
      "He that will give good words to thee will flatter\n",
      "Beneath abhorring. What would you have, you curs,\n",
      "That like nor\n"
     ]
    }
   ],
   "source": [
    "def random_chunk():\n",
    "    start_index = random.randint(0, file_len - chunk_len)\n",
    "    end_index = start_index + chunk_len + 1\n",
    "    return file[start_index:end_index]\n",
    "\n",
    "print(random_chunk())"
   ]
  },
  {
   "cell_type": "markdown",
   "metadata": {
    "colab_type": "text",
    "id": "M_sidyEEnect"
   },
   "source": [
    "### 2) Character to tensor"
   ]
  },
  {
   "cell_type": "code",
   "execution_count": 8,
   "metadata": {
    "colab": {
     "base_uri": "https://localhost:8080/",
     "height": 34
    },
    "colab_type": "code",
    "executionInfo": {
     "elapsed": 4343,
     "status": "ok",
     "timestamp": 1559554456790,
     "user": {
      "displayName": "Choi Gunho",
      "photoUrl": "",
      "userId": "04388737836176863066"
     },
     "user_tz": -540
    },
    "id": "wIo5ENFUnecu",
    "outputId": "b5033e94-1c7b-4731-cbcb-8b5cc5a0a333"
   },
   "outputs": [
    {
     "name": "stdout",
     "output_type": "stream",
     "text": [
      "tensor([36, 37, 38, 13, 14, 15])\n"
     ]
    }
   ],
   "source": [
    "def char_tensor(string):\n",
    "    tensor = torch.zeros(len(string)).long()\n",
    "    for c in range(len(string)):\n",
    "        tensor[c] = all_characters.index(string[c])\n",
    "    return tensor\n",
    "\n",
    "print(char_tensor('ABCdef'))"
   ]
  },
  {
   "cell_type": "markdown",
   "metadata": {
    "colab_type": "text",
    "id": "L8xkdhOSnec7"
   },
   "source": [
    "### 3) Chunk into input & label"
   ]
  },
  {
   "cell_type": "code",
   "execution_count": 9,
   "metadata": {
    "colab": {},
    "colab_type": "code",
    "id": "t-W0g3V1nec8"
   },
   "outputs": [],
   "source": [
    "def random_training_set():    \n",
    "    chunk = random_chunk()\n",
    "    inp = char_tensor(chunk[:-1])\n",
    "    target = char_tensor(chunk[1:])\n",
    "    return inp, target"
   ]
  },
  {
   "cell_type": "markdown",
   "metadata": {
    "colab_type": "text",
    "id": "2C2EZJ-GnedA"
   },
   "source": [
    "## 3. Model & Optimizer\n",
    "### 1) Model"
   ]
  },
  {
   "cell_type": "code",
   "execution_count": 10,
   "metadata": {
    "colab": {},
    "colab_type": "code",
    "id": "nSknjiO8nedB"
   },
   "outputs": [],
   "source": [
    "class RNN(nn.Module):\n",
    "    def __init__(self, input_size, embedding_size, hidden_size, output_size, num_layers=1):\n",
    "        super(RNN, self).__init__()\n",
    "        self.input_size = input_size\n",
    "        self.embedding_size = embedding_size\n",
    "        self.hidden_size = hidden_size\n",
    "        self.output_size = output_size\n",
    "        self.num_layers = num_layers\n",
    "        \n",
    "        self.encoder = nn.Embedding(self.input_size, self.embedding_size)\n",
    "        self.rnn = nn.LSTM(self.embedding_size,self.hidden_size,self.num_layers)\n",
    "        self.decoder = nn.Linear(self.hidden_size, self.output_size)\n",
    "        \n",
    "    \n",
    "    def forward(self, input, hidden, cell):\n",
    "        out = self.encoder(input.view(1,-1))\n",
    "        out,(hidden,cell) = self.rnn(out,(hidden,cell))\n",
    "        out = self.decoder(out.view(batch_size,-1))\n",
    "        return out,hidden,cell\n",
    "\n",
    "    def init_hidden(self):\n",
    "        hidden = torch.zeros(self.num_layers,batch_size,self.hidden_size)\n",
    "        cell = torch.zeros(self.num_layers,batch_size,self.hidden_size)\n",
    "        return hidden,cell\n",
    "    \n",
    "\n",
    "model = RNN(n_characters, embedding_size, hidden_size, n_characters, num_layers)"
   ]
  },
  {
   "cell_type": "code",
   "execution_count": 11,
   "metadata": {
    "colab": {
     "base_uri": "https://localhost:8080/",
     "height": 68
    },
    "colab_type": "code",
    "executionInfo": {
     "elapsed": 4331,
     "status": "ok",
     "timestamp": 1559554456795,
     "user": {
      "displayName": "Choi Gunho",
      "photoUrl": "",
      "userId": "04388737836176863066"
     },
     "user_tz": -540
    },
    "id": "h94Esex2nedF",
    "outputId": "9321b59b-fc0b-4046-bcf5-a71f5d3ce694"
   },
   "outputs": [
    {
     "name": "stdout",
     "output_type": "stream",
     "text": [
      "tensor([36])\n",
      "torch.Size([1, 1, 100])\n",
      "torch.Size([1, 100])\n"
     ]
    }
   ],
   "source": [
    "inp = char_tensor(\"A\")\n",
    "print(inp)\n",
    "hidden,cell = model.init_hidden()\n",
    "print(hidden.size())\n",
    "\n",
    "out,hidden,cell = model(inp,hidden,cell)\n",
    "print(out.size())"
   ]
  },
  {
   "cell_type": "markdown",
   "metadata": {
    "colab_type": "text",
    "id": "QCHyMtW-nedI"
   },
   "source": [
    "### 2) Loss & Optimizer"
   ]
  },
  {
   "cell_type": "code",
   "execution_count": 12,
   "metadata": {
    "colab": {},
    "colab_type": "code",
    "id": "W2IMoyjBnedK"
   },
   "outputs": [],
   "source": [
    "optimizer = torch.optim.Adam(model.parameters(), lr=lr)\n",
    "loss_func = nn.CrossEntropyLoss()"
   ]
  },
  {
   "cell_type": "markdown",
   "metadata": {
    "colab_type": "text",
    "id": "6g8zfJ8xnedN"
   },
   "source": [
    "### 3) Test function"
   ]
  },
  {
   "cell_type": "code",
   "execution_count": 13,
   "metadata": {
    "colab": {},
    "colab_type": "code",
    "id": "H_M371JznedO"
   },
   "outputs": [],
   "source": [
    "def test():\n",
    "    start_str = \"b\"\n",
    "    inp = char_tensor(start_str)\n",
    "    hidden,cell = model.init_hidden()\n",
    "    x = inp\n",
    "\n",
    "    print(start_str,end=\"\")\n",
    "    for i in range(200):\n",
    "        output,hidden,cell = model(x,hidden,cell)\n",
    "\n",
    "        output_dist = output.data.view(-1).div(0.8).exp()\n",
    "        top_i = torch.multinomial(output_dist, 1)[0]\n",
    "        predicted_char = all_characters[top_i]\n",
    "\n",
    "        print(predicted_char,end=\"\")\n",
    "\n",
    "        x = char_tensor(predicted_char)"
   ]
  },
  {
   "cell_type": "markdown",
   "metadata": {
    "colab_type": "text",
    "id": "Vv4y8BCTnedT"
   },
   "source": [
    "## 4. Train"
   ]
  },
  {
   "cell_type": "code",
   "execution_count": 14,
   "metadata": {
    "colab": {
     "base_uri": "https://localhost:8080/",
     "height": 3624
    },
    "colab_type": "code",
    "executionInfo": {
     "elapsed": 483680,
     "status": "ok",
     "timestamp": 1559554936162,
     "user": {
      "displayName": "Choi Gunho",
      "photoUrl": "",
      "userId": "04388737836176863066"
     },
     "user_tz": -540
    },
    "id": "PjUzB5fKnedU",
    "outputId": "306c1b84-789c-4780-e9be-ff8bccf8f89b",
    "scrolled": true
   },
   "outputs": [
    {
     "name": "stdout",
     "output_type": "stream",
     "text": [
      "\n",
      " tensor([4.5826], grad_fn=<DivBackward0>) \n",
      "\n",
      "bS1K`IJla\"`Vg%d\n",
      "e@3\u000b",
      "k<r;K[7qjNJOl=I[ELg:rwX6a|^@E-G\n",
      "\n",
      "d6y[v1<pfL<d:|13]u~)sKpn/]NK>!+Z^ZS,\n",
      "jU.q#a'V7_2=J9v1\u000b",
      "@Hq;l;G;_/Y&\n",
      "\n",
      "\n",
      "\n",
      " tensor([2.3578], grad_fn=<DivBackward0>) \n",
      "\n",
      "bwnrans venis here, the thit bpane I fat, uir ang in to and,\n",
      "Thane the and wat meche pe? ome ord da enof tours the ind fom of romat and thatet fouaf it is, hter nof iny ore? won,\n",
      "HNY anderd fore thy my\n",
      "\n",
      "\n",
      "\n",
      " tensor([2.2635], grad_fn=<DivBackward0>) \n",
      "\n",
      "bre youe an peray and name too ath the hy wlave, what shere.\n",
      "\n",
      "ENGrLIN':\n",
      "Beant hre bene to have I and fores, chartrosh thard, :\n",
      "mand nars lant frat bind, ang your mlod to is gof,all pey, to wine thave h\n",
      "\n",
      "\n",
      "\n",
      " tensor([2.1647], grad_fn=<DivBackward0>) \n",
      "\n",
      "bliy mile, the so mart it ouck and fot lice shawchim.\n",
      "Whes rool, I wito my mantiofo pay oom dray be prerst likle, or ik is the fince, in the thy the bay on mut.\n",
      "\n",
      "MINY RDo:\n",
      "Inpoue the a friks cowior ful\n",
      "\n",
      "\n",
      "\n",
      " tensor([2.1938], grad_fn=<DivBackward0>) \n",
      "\n",
      "bse and wort\n",
      "Whis acles as Lenreed us my here vow racor fome in pain the year it fit her the hear theive so in wome thal feall the come wereder!\n",
      "\n",
      "WAnd stagtir?\n",
      "Foul kiming of me lay the live:\n",
      "It your l\n",
      "\n",
      "\n",
      "\n",
      " tensor([1.9327], grad_fn=<DivBackward0>) \n",
      "\n",
      "by it don the firt,\n",
      "The pree; I plais, as to Gace her farn axe\n",
      "It lome he dear a you to the be daung in this dealt the salls.\n",
      "\n",
      "RARICE:\n",
      "So noth;\n",
      "Whive male in baite ofa ricond det lea: Ures with the cen\n",
      "\n",
      "\n",
      "\n",
      " tensor([2.3252], grad_fn=<DivBackward0>) \n",
      "\n",
      "bat, hat hear,\n",
      "O's lassey breerjent farter are trade I whore heaghtert!\n",
      "\n",
      "ANTARTO:\n",
      "Be bay, stall chat maonour thut mare mise the sillos bain my till free unise, my some he thom heer\n",
      "That main come my ca\n",
      "\n",
      "\n",
      "\n",
      " tensor([2.1101], grad_fn=<DivBackward0>) \n",
      "\n",
      "blace doodes you theuse me afe! die it halt, now wand no deose the piarfen the sill, whore,\n",
      "To with thee and puthen the wiplion faithen didae! whimn the daa.\n",
      "\n",
      "DUCHIO:\n",
      "O dive wild? the his a suplefor,\n",
      "\n",
      "\n",
      "\n",
      "\n",
      "\n",
      " tensor([2.0689], grad_fn=<DivBackward0>) \n",
      "\n",
      "brulrion the namices, I my comen. subte to friterof him rease, not there and comperod it it:\n",
      "Sever that sut moress.\n",
      "\n",
      "LUCSESTIO:\n",
      "I shating there simes os; CEwand the give my hatheven.\n",
      "\n",
      "ELCEWIO:\n",
      "He thy l\n",
      "\n",
      "\n",
      "\n",
      " tensor([1.9685], grad_fn=<DivBackward0>) \n",
      "\n",
      "bpead how that firther gome have deone, pay; as stark to must be word thince are do are the pirther, the shath what abent the farthous to to cuting thee.\n",
      "\n",
      "PENTINANUS:\n",
      "Sine them my the dains 'gond I sin\n",
      "\n",
      "\n"
     ]
    }
   ],
   "source": [
    "for i in range(num_epochs):\n",
    "    inp,label = random_training_set()\n",
    "    hidden,cell = model.init_hidden()\n",
    "\n",
    "    loss = torch.tensor([0]).type(torch.FloatTensor)\n",
    "    optimizer.zero_grad()\n",
    "    for j in range(chunk_len-1):\n",
    "        x  = inp[j]\n",
    "        y_ = label[j].unsqueeze(0).type(torch.LongTensor)\n",
    "        y,hidden,cell = model(x,hidden,cell)\n",
    "        loss += loss_func(y,y_)\n",
    "\n",
    "    loss.backward()\n",
    "    optimizer.step()\n",
    "    \n",
    "    if i % 200 == 0:\n",
    "        print(\"\\n\",loss/chunk_len,\"\\n\")\n",
    "        test()\n",
    "        print(\"\\n\\n\")"
   ]
  },
  {
   "cell_type": "code",
   "execution_count": null,
   "metadata": {
    "colab": {},
    "colab_type": "code",
    "id": "gmxPZMiwugpf"
   },
   "outputs": [],
   "source": []
  }
 ],
 "metadata": {
  "colab": {
   "collapsed_sections": [],
   "name": "6.4.4.3 Char_RNN_LSTM.ipynb",
   "provenance": [],
   "version": "0.3.2"
  },
  "kernelspec": {
   "display_name": "Python 3",
   "language": "python",
   "name": "python3"
  },
  "language_info": {
   "codemirror_mode": {
    "name": "ipython",
    "version": 3
   },
   "file_extension": ".py",
   "mimetype": "text/x-python",
   "name": "python",
   "nbconvert_exporter": "python",
   "pygments_lexer": "ipython3",
   "version": "3.7.3"
  }
 },
 "nbformat": 4,
 "nbformat_minor": 2
}
