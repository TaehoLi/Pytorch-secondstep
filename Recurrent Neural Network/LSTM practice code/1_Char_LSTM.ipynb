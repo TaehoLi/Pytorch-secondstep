{
 "cells": [
  {
   "cell_type": "code",
   "execution_count": 1,
   "metadata": {
    "colab": {},
    "colab_type": "code",
    "id": "ShSWYFSlENxq"
   },
   "outputs": [],
   "source": [
    "# Simple Character LSTM\n",
    "# Char RNN에서 설명한 부분은 생략했습니다.\n",
    "\n",
    "import torch \n",
    "import torch.nn as nn\n",
    "import torch.optim as optim\n",
    "import numpy as np"
   ]
  },
  {
   "cell_type": "code",
   "execution_count": 2,
   "metadata": {
    "colab": {
     "base_uri": "https://localhost:8080/",
     "height": 34
    },
    "colab_type": "code",
    "executionInfo": {
     "elapsed": 815,
     "status": "ok",
     "timestamp": 1559548279205,
     "user": {
      "displayName": "Choi Gunho",
      "photoUrl": "",
      "userId": "04388737836176863066"
     },
     "user_tz": -540
    },
    "id": "jPTxJL3qENxu",
    "outputId": "bc058c22-4b09-4a0e-f46f-7e05a51136b0"
   },
   "outputs": [
    {
     "data": {
      "text/plain": [
       "35"
      ]
     },
     "execution_count": 2,
     "metadata": {},
     "output_type": "execute_result"
    }
   ],
   "source": [
    "# Preprocessing string data\n",
    "# alphabet(0-25), space(26),..., start, end \n",
    "\n",
    "string = \"hello pytorch. how long can a rnn cell remember? show me your limit!\"\n",
    "chars = \"abcdefghijklmnopqrstuvwxyz ?!.,:;01\"\n",
    "char_list = [i for i in chars]\n",
    "char_len = len(char_list)\n",
    "\n",
    "char_len"
   ]
  },
  {
   "cell_type": "code",
   "execution_count": 3,
   "metadata": {
    "colab": {},
    "colab_type": "code",
    "id": "h-xqHFGdENx0"
   },
   "outputs": [],
   "source": [
    "# String to onehot vector\n",
    "# a -> [1 0 0 ... 0 0]\n",
    "\n",
    "def string_to_onehot(string):\n",
    "    start = np.zeros(shape=char_len ,dtype=int)\n",
    "    end = np.zeros(shape=char_len ,dtype=int)\n",
    "    start[-2] = 1\n",
    "    end[-1] = 1\n",
    "    for i in string:\n",
    "        idx = char_list.index(i)\n",
    "        zero = np.zeros(shape=char_len ,dtype=int)\n",
    "        zero[idx]=1\n",
    "        start = np.vstack([start,zero])\n",
    "    output = np.vstack([start,end])\n",
    "    return output"
   ]
  },
  {
   "cell_type": "code",
   "execution_count": 4,
   "metadata": {
    "colab": {},
    "colab_type": "code",
    "id": "k_gqctcyENx3"
   },
   "outputs": [],
   "source": [
    "# Onehot vector to word\n",
    "# [1 0 0 ... 0 0] -> a \n",
    "\n",
    "def onehot_to_word(onehot_1):\n",
    "    onehot = torch.Tensor.numpy(onehot_1)\n",
    "    return char_list[onehot.argmax()]"
   ]
  },
  {
   "cell_type": "code",
   "execution_count": 5,
   "metadata": {
    "colab": {
     "base_uri": "https://localhost:8080/",
     "height": 34
    },
    "colab_type": "code",
    "executionInfo": {
     "elapsed": 1088,
     "status": "ok",
     "timestamp": 1559548279513,
     "user": {
      "displayName": "Choi Gunho",
      "photoUrl": "",
      "userId": "04388737836176863066"
     },
     "user_tz": -540
    },
    "id": "gjb-I6DlENx6",
    "outputId": "839a9b8e-20c8-47c7-d7ef-e5f0eb783f2d"
   },
   "outputs": [
    {
     "name": "stdout",
     "output_type": "stream",
     "text": [
      "torch.Size([70, 35])\n"
     ]
    }
   ],
   "source": [
    "# 하이퍼파라미터 설정\n",
    "# 문자열을 단어 하나씩 잘러서 사용하는걸로 구현해서 batch_size 1로 고정입니다.\n",
    "# batch_size가 1보다 큰 경우는 다음 실습코드에 있습니다.\n",
    "batch_size = 1\n",
    "\n",
    "# seq_len는 바꿔도 학습은 되지만 테스트시 편의성을 위해 1로 설정했습니다.\n",
    "seq_len = 1\n",
    "\n",
    "# num_layers는 입력 형식에만 맞게 형태를 바꿔주면 됩니다.\n",
    "num_layers = 3\n",
    "input_size = char_len\n",
    "hidden_size = 35 \n",
    "lr = 0.01\n",
    "num_epochs = 1000\n",
    "\n",
    "one_hot = torch.from_numpy(string_to_onehot(string)).type_as(torch.FloatTensor())\n",
    "\n",
    "print(one_hot.size())"
   ]
  },
  {
   "cell_type": "code",
   "execution_count": 6,
   "metadata": {
    "colab": {},
    "colab_type": "code",
    "id": "mGTtv6T5ENx9"
   },
   "outputs": [],
   "source": [
    "# RNN with 1 hidden layer\n",
    "\n",
    "class RNN(nn.Module):\n",
    "    def __init__(self, input_size, hidden_size,num_layers):\n",
    "        super(RNN, self).__init__()\n",
    "        self.input_size = input_size\n",
    "        self.hidden_size = hidden_size\n",
    "        self.num_layers = num_layers\n",
    "        self.lstm = nn.LSTM(input_size,hidden_size,num_layers)\n",
    "        \n",
    "    def forward(self,input_,hidden,cell):\n",
    "        output,(hidden,cell) = self.lstm(input_,(hidden,cell))\n",
    "        return output,hidden,cell\n",
    "    \n",
    "    def init_hidden_cell(self):\n",
    "        hidden = torch.zeros(num_layers,batch_size,hidden_size)\n",
    "        cell = torch.zeros(num_layers,batch_size,hidden_size)\n",
    "        return hidden,cell\n",
    "    \n",
    "rnn = RNN(input_size,hidden_size, num_layers)"
   ]
  },
  {
   "cell_type": "code",
   "execution_count": 7,
   "metadata": {
    "colab": {},
    "colab_type": "code",
    "id": "2Gt2qWjRENyA"
   },
   "outputs": [],
   "source": [
    "# Loss function & Optimizer\n",
    "\n",
    "loss_func = nn.MSELoss()\n",
    "optimizer = torch.optim.Adam(rnn.parameters(), lr=lr)"
   ]
  },
  {
   "cell_type": "code",
   "execution_count": 8,
   "metadata": {
    "colab": {
     "base_uri": "https://localhost:8080/",
     "height": 68
    },
    "colab_type": "code",
    "executionInfo": {
     "elapsed": 1074,
     "status": "ok",
     "timestamp": 1559548279522,
     "user": {
      "displayName": "Choi Gunho",
      "photoUrl": "",
      "userId": "04388737836176863066"
     },
     "user_tz": -540
    },
    "id": "U0xJsfTQENyD",
    "outputId": "01cada2d-81e5-44fd-99cd-8dc97dfc64b8"
   },
   "outputs": [
    {
     "name": "stdout",
     "output_type": "stream",
     "text": [
      "torch.Size([1, 1, 35])\n",
      "torch.Size([3, 1, 35]) torch.Size([3, 1, 35])\n",
      "torch.Size([1, 1, 35]) torch.Size([3, 1, 35]) torch.Size([3, 1, 35])\n"
     ]
    }
   ],
   "source": [
    "j=0\n",
    "input_data = one_hot[j:j+seq_len].view(seq_len, batch_size, input_size)\n",
    "print(input_data.size())\n",
    "\n",
    "hidden,cell = rnn.init_hidden_cell()\n",
    "print(hidden.size(),cell.size())\n",
    "\n",
    "output, hidden,cell = rnn(input_data,hidden,cell)\n",
    "print(output.size(),hidden.size(),cell.size())"
   ]
  },
  {
   "cell_type": "code",
   "execution_count": 9,
   "metadata": {
    "colab": {
     "base_uri": "https://localhost:8080/",
     "height": 1717
    },
    "colab_type": "code",
    "executionInfo": {
     "elapsed": 83111,
     "status": "ok",
     "timestamp": 1559548361566,
     "user": {
      "displayName": "Choi Gunho",
      "photoUrl": "",
      "userId": "04388737836176863066"
     },
     "user_tz": -540
    },
    "id": "92Vh1bteEXKu",
    "outputId": "5987a3f3-d37b-4248-9308-8bf2568534f9"
   },
   "outputs": [
    {
     "name": "stdout",
     "output_type": "stream",
     "text": [
      "tensor(2.2716, grad_fn=<AddBackward0>)\n",
      "tensor(0.0447, grad_fn=<AddBackward0>)\n",
      "tensor(0.0109, grad_fn=<AddBackward0>)\n",
      "tensor(0.0068, grad_fn=<AddBackward0>)\n",
      "tensor(0.0044, grad_fn=<AddBackward0>)\n",
      "tensor(0.0025, grad_fn=<AddBackward0>)\n",
      "tensor(0.0023, grad_fn=<AddBackward0>)\n",
      "tensor(0.0021, grad_fn=<AddBackward0>)\n",
      "tensor(0.0021, grad_fn=<AddBackward0>)\n",
      "tensor(0.0020, grad_fn=<AddBackward0>)\n"
     ]
    }
   ],
   "source": [
    "unroll_len = one_hot.size()[0]//seq_len -1\n",
    "for i in range(num_epochs):\n",
    "    hidden,cell = rnn.init_hidden_cell()\n",
    "    \n",
    "    loss = 0\n",
    "    for j in range(unroll_len):\n",
    "        input_data = one_hot[j:j+seq_len].view(seq_len,batch_size,input_size) \n",
    "        label = one_hot[j+1:j+seq_len+1].view(seq_len,batch_size,input_size)\n",
    "        \n",
    "        optimizer.zero_grad()\n",
    "        \n",
    "        output, hidden, cell = rnn(input_data,hidden,cell)\n",
    "        loss += loss_func(output.view(1,-1),label.view(1,-1))\n",
    "        \n",
    "    loss.backward()\n",
    "    optimizer.step()\n",
    "\n",
    "    if i%100 ==0:\n",
    "        print(loss)"
   ]
  },
  {
   "cell_type": "code",
   "execution_count": 10,
   "metadata": {
    "colab": {
     "base_uri": "https://localhost:8080/",
     "height": 34
    },
    "colab_type": "code",
    "executionInfo": {
     "elapsed": 83093,
     "status": "ok",
     "timestamp": 1559548361567,
     "user": {
      "displayName": "Choi Gunho",
      "photoUrl": "",
      "userId": "04388737836176863066"
     },
     "user_tz": -540
    },
    "id": "2VJSE-SlENyH",
    "outputId": "2f0f2319-198c-4140-c643-9602d87e1610"
   },
   "outputs": [
    {
     "name": "stdout",
     "output_type": "stream",
     "text": [
      "hello pytorch. how long can a rnn cell remember? show me your limit!"
     ]
    }
   ],
   "source": [
    "hidden,cell = rnn.init_hidden_cell()\n",
    "\n",
    "for j in range(unroll_len-1):\n",
    "    input_data = one_hot[j:j+1].view(1,batch_size,hidden_size) \n",
    "    label = one_hot[j+1:j+1+1].view(1,batch_size,hidden_size) \n",
    "    \n",
    "    output, hidden, cell = rnn(input_data,hidden,cell)\n",
    "    print(onehot_to_word(output.data),end=\"\") "
   ]
  },
  {
   "cell_type": "code",
   "execution_count": null,
   "metadata": {
    "colab": {},
    "colab_type": "code",
    "id": "nwG1rY0OTZqn"
   },
   "outputs": [],
   "source": []
  }
 ],
 "metadata": {
  "colab": {
   "collapsed_sections": [],
   "name": "1_Char_LSTM.ipynb",
   "provenance": [],
   "version": "0.3.2"
  },
  "kernelspec": {
   "display_name": "Python 3",
   "language": "python",
   "name": "python3"
  },
  "language_info": {
   "codemirror_mode": {
    "name": "ipython",
    "version": 3
   },
   "file_extension": ".py",
   "mimetype": "text/x-python",
   "name": "python",
   "nbconvert_exporter": "python",
   "pygments_lexer": "ipython3",
   "version": "3.7.3"
  }
 },
 "nbformat": 4,
 "nbformat_minor": 2
}
